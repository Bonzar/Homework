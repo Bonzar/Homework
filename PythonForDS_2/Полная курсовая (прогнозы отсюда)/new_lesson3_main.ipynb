{
 "cells": [
  {
   "cell_type": "markdown",
   "metadata": {},
   "source": [
    "# Теоретические вопросы\n",
    "## Для чего и в каких случаях полезны различные варианты усреднения для метрик качества классификации: micro, macro, weighted?\n",
    "**Ответ:** \n",
    "1. **micro** - используется для оценки метрик в несбалансироанных данных в которых не важна разница весов классов. \n",
    "2. **macro** - простое арифмитическое среднее между f1-оценками разных классов. Общая оценка модели.\n",
    "3. **weighted** - расчет метрики с учетом весов каждого класса (их численности). Оценка несбалансированной модели в которой важна разница весов классов.\n",
    "\n",
    "## В чём разница между моделями xgboost, lightgbm и catboost или какие их основные особенности?\n",
    "**Ответ:** \n",
    "1. **xgboost** - давольно старый алгоритм, работает медненно, но точно. Не работает с категориальными данными.\n",
    "2. **lightgbm** - новая модель, способная принимать категориальные данные, но только в числовом формате. Работает быстро, но не идеально.\n",
    "3. **catboost** - новейшая модель, способна принимать категориальные данные, как в числовом, так и в строковом формате. Работает давольно быстро, если правильно настроена, результаты сравнимы с xgboost."
   ]
  },
  {
   "cell_type": "markdown",
   "metadata": {},
   "source": [
    "# Построение моделей классификации"
   ]
  },
  {
   "cell_type": "markdown",
   "metadata": {},
   "source": [
    "### Описание датасета \n",
    "**подпункты с описанием добавленных столбцов после подготовки**\n",
    "\n",
    "\n",
    "* **Home Ownership** - домовладение\n",
    "        \n",
    "        1. разложен на дамми переменные\n",
    "    \n",
    "* **Annual Income** - годовой доход\n",
    "        \n",
    "        1. Annual Income upd.2 - пропуски заполены мединой\n",
    "        2. Annual Income upd.3 - пропуски заполнены моделью (близжайшие соседи)\n",
    "        \n",
    "* **Years in current job** - количество лет на текущем месте работы\n",
    "\n",
    "        1. upd2 - замененные на числовые значения и заполненные модой\n",
    "        2. дамми переменные заполненные модой\n",
    "        3. upd.3 - пропуски заполнены моделью (близжайшие соседи)\n",
    "        \n",
    "* **Tax Liens** - налоговые обременения\n",
    "* **Number of Open Accounts** - количество открытых счетов\n",
    "* **Years of Credit History** - количество лет кредитной истории\n",
    "* **Maximum Open Credit** - наибольший открытый кредит\n",
    "* **Number of Credit Problems** - количество проблем с кредитом\n",
    "* **Months since last delinquent** - количество месяцев с последней просрочки платежа\n",
    "* **Bankruptcies** - банкротства\n",
    "        \n",
    "        1. upd.2 - пропуски заполены модой\n",
    "        2. upd.3 - пропуски заполнены моделью (близжайшие соседи)\n",
    "        \n",
    "* **Purpose** - цель кредита\n",
    "        \n",
    "        1. разложен на дамми переменные\n",
    "  \n",
    "* **Term** - срок кредита\n",
    "        \n",
    "        1. разложен на дамми переменные\n",
    "  \n",
    "* **Current Loan Amount** - текущая сумма кредита\n",
    "        \n",
    "        1. ver.2 - выбросы заполены регрессией\n",
    "        \n",
    "* **Current Credit Balance** - текущий кредитный баланс\n",
    "* **Monthly Debt** - ежемесячный долг\n",
    "* **Credit Default** - факт невыполнения кредитных обязательств (0 - погашен вовремя, 1 - просрочка)\n",
    "* **Credit Score** - кредитные очки\n",
    "        \n",
    "        1. ver.2 - убраны выбросы и заполнены пропуски с помощью модели\n",
    "        2. ver.3 - убраны выбросы и заполнены пропуски медианой\n",
    "        3. ver.4 - убраны выбросы и пропуски заполнены моделью (близжайшие соседи)"
   ]
  },
  {
   "cell_type": "markdown",
   "metadata": {},
   "source": [
    "## Описание групп признаков\n",
    "\n",
    "* TARGET_NAME - целевая переменная\n",
    "* full_features_list - все признаки без пропусков\n",
    "* num_features - числовые признаки\n",
    "* cat_features_str - категориальные признаки (со стороквыми для **CatBoost**)\n",
    "* cat_features_dumm_years_dummy - категориальные признаки разбитые на дамми переменные где \"Years in current job\" тоже разбит\n",
    "* cat_features_dumm_years_one - категориальные признаки разбитые на дамми переменные где \"Years in current job\" заменен на числовые значения\n",
    "* cat_features_str_to_int - категориальные признаки (где значения заменены на цифры для **LightGBM**)"
   ]
  },
  {
   "cell_type": "markdown",
   "metadata": {},
   "source": [
    "# Подключаем библиотеки"
   ]
  },
  {
   "cell_type": "code",
   "execution_count": 2161,
   "metadata": {},
   "outputs": [],
   "source": [
    "import pandas as pd\n",
    "import numpy as np\n",
    "from matplotlib import pyplot as plt\n",
    "import seaborn as sns\n",
    "\n",
    "import pickle\n",
    "import random\n",
    "\n",
    "from imblearn.over_sampling import SMOTE, SMOTENC, ADASYN\n",
    "from imblearn.under_sampling import TomekLinks, OneSidedSelection\n",
    "from sklearn.preprocessing import StandardScaler, MinMaxScaler\n",
    "from sklearn.model_selection import train_test_split, ShuffleSplit, cross_val_score, learning_curve\n",
    "from sklearn.model_selection import KFold, GridSearchCV, RandomizedSearchCV\n",
    "from sklearn.metrics import classification_report, f1_score, precision_score\n",
    "from sklearn.metrics import recall_score, accuracy_score, confusion_matrix\n",
    "\n",
    "\n",
    "from sklearn.linear_model import LogisticRegression, RidgeClassifier\n",
    "\n",
    "from sklearn.neighbors import KNeighborsClassifier\n",
    "import xgboost as xgb, lightgbm as lgbm, catboost as catb\n",
    "\n",
    "\n",
    "%matplotlib inline"
   ]
  },
  {
   "cell_type": "code",
   "execution_count": 2162,
   "metadata": {},
   "outputs": [],
   "source": [
    "import warnings\n",
    "warnings.simplefilter('ignore')"
   ]
  },
  {
   "cell_type": "code",
   "execution_count": 2163,
   "metadata": {},
   "outputs": [],
   "source": [
    "def get_classification_report(y_train_true, y_train_pred, y_test_true, y_test_pred):\n",
    "    print('TRAIN\\n\\n' + classification_report(y_train_true, y_train_pred))\n",
    "    print('TEST\\n\\n' + classification_report(y_test_true, y_test_pred))\n",
    "    print('CONFUSION MATRIX\\n')\n",
    "    print(pd.crosstab(y_test_true, y_test_pred))"
   ]
  },
  {
   "cell_type": "code",
   "execution_count": 2164,
   "metadata": {},
   "outputs": [],
   "source": [
    "# 3.4. Пользовательские функции\n",
    "def parse_params(param_grid, model_label):\n",
    "    param_dict = dict()\n",
    "    for key, value in param_grid.items():\n",
    "        param_dict[model_label+\"__\"+key] = value\n",
    "    return param_dict\n",
    "\n",
    "\n",
    "def show_proba_calibration_plots(y_predicted_probs, y_true_labels, p_min, p_max, p_step):\n",
    "    y_predicted_probs = y_predicted_probs[:,1]\n",
    "    preds_with_true_labels = np.array(list(zip(y_predicted_probs, y_true_labels)))\n",
    "\n",
    "    thresholds = []\n",
    "    precisions = []\n",
    "    recalls = []\n",
    "    f1_scores = []\n",
    "\n",
    "    for threshold in np.linspace(p_min, p_max, p_step):\n",
    "        thresholds.append(threshold)\n",
    "        precisions.append(precision_score(y_true_labels, list(map(int, y_predicted_probs > threshold))))\n",
    "        recalls.append(recall_score(y_true_labels, list(map(int, y_predicted_probs > threshold))))\n",
    "        f1_scores.append(f1_score(y_true_labels, list(map(int, y_predicted_probs > threshold))))\n",
    "\n",
    "    scores_table = pd.DataFrame({'f1':f1_scores,\n",
    "                                 'precision':precisions,\n",
    "                                 'recall':recalls,\n",
    "                                 'probability':thresholds}).sort_values('f1', ascending=False).round(3)\n",
    "  \n",
    "    figure = plt.figure(figsize = (15, 5))\n",
    "\n",
    "    plt1 = figure.add_subplot(121)\n",
    "    plt1.plot(thresholds, precisions, label='Precision', linewidth=4)\n",
    "    plt1.plot(thresholds, recalls, label='Recall', linewidth=4)\n",
    "    plt1.plot(thresholds, f1_scores, label='F1', linewidth=4)\n",
    "    plt1.set_ylabel('Scores')\n",
    "    plt1.set_xlabel('Probability threshold')\n",
    "    plt1.set_title('Probabilities threshold calibration')\n",
    "    plt1.legend(bbox_to_anchor=(0.25, 0.25))   \n",
    "    plt1.table(cellText = scores_table.values,\n",
    "               colLabels = scores_table.columns, \n",
    "               colLoc = 'center', cellLoc = 'center', loc = 'bottom', bbox = [0, -1.3, 1, 1])\n",
    "\n",
    "    plt2 = figure.add_subplot(122)\n",
    "    plt2.hist(preds_with_true_labels[preds_with_true_labels[:, 1] == 0][:, 0], \n",
    "              label='Another class', color='royalblue', alpha=1)\n",
    "    plt2.hist(preds_with_true_labels[preds_with_true_labels[:, 1] == 1][:, 0], \n",
    "              label='Main class', color='darkcyan', alpha=0.8)\n",
    "    plt2.set_ylabel('Number of examples')\n",
    "    plt2.set_xlabel('Probabilities')\n",
    "    plt2.set_title('Probability histogram')\n",
    "    plt2.legend(bbox_to_anchor=(1, 1))\n",
    "\n",
    "    plt.show()\n",
    "    \n",
    "    \n",
    "def update_predict_by_prob(y_true, predict_probas, prob_min, prob_max, prob_steps, score='f1', show_chart=False):\n",
    "    if score=='f1':\n",
    "        score_estimator = f1_score\n",
    "    elif score=='accuracy':\n",
    "        score_estimator = accuracy_score\n",
    "    else:\n",
    "        print('wrong score name')\n",
    "        return None\n",
    "    prob_range = np.linspace(prob_min, prob_max, prob_steps)\n",
    "    scores = []\n",
    "    for p in prob_range:\n",
    "        predict_rebalanced = np.array([1 if x>=p else 0 for x in predict_probas[:,1]])\n",
    "        scores.append(score_estimator(y_true, predict_rebalanced))\n",
    "    if show_chart:\n",
    "        figure = plt.figure(figsize = (5, 4))\n",
    "        plt.ylabel('Scores')\n",
    "        plt.xlabel('Probability threshold')\n",
    "        plt.plot(prob_range, scores, label=score, linewidth=4)\n",
    "        plt.title(\"Best Threshold Probability Search\")\n",
    "        plt.show()\n",
    "    scores = np.array(scores)\n",
    "    best_prob = prob_range[scores.argmax()]\n",
    "    print(f'best threshold probability = {best_prob}')\n",
    "    predict_rebalanced_final = np.array([1 if x>=best_prob else 0 for x in predict_probas[:,1]])\n",
    "    return predict_rebalanced_final, best_prob"
   ]
  },
  {
   "cell_type": "code",
   "execution_count": 2165,
   "metadata": {},
   "outputs": [],
   "source": [
    "PATH_COURSE_PROJECT_DATASET_TRAIN_PREP = 'course_project/course_project_train_prep.csv'\n",
    "PATH_COURSE_PROJECT_DATASET_TRAIN = 'course_project/course_project_train.csv'\n",
    "\n",
    "PATH_COURSE_PROJECT_DATASET_TEST_PREP = 'course_project/course_project_test_prep.csv'\n",
    "PATH_COURSE_PROJECT_DATASET_TEST = 'course_project/course_project_test.csv'\n",
    "\n",
    "SCALER_FILE_PATH = 'scaler.pkl'\n",
    "\n",
    "TRAIN_FULL_PATH = 'course_project_train_full.csv'\n",
    "TRAIN_PART_PATH = 'course_project_train_part.csv'\n",
    "TEST_PART_PATH = 'course_project_test_part.csv'"
   ]
  },
  {
   "cell_type": "markdown",
   "metadata": {},
   "source": [
    "# Загружаем базы данных\n",
    "Чистим от не нужных столбцов "
   ]
  },
  {
   "cell_type": "code",
   "execution_count": 2166,
   "metadata": {},
   "outputs": [],
   "source": [
    "df_base = pd.read_csv(PATH_COURSE_PROJECT_DATASET_TRAIN)\n",
    "\n",
    "df_new = pd.read_csv(PATH_COURSE_PROJECT_DATASET_TRAIN_PREP)\n",
    "df_new.drop('Unnamed: 0', axis=1, inplace=True)\n",
    "\n",
    "df_test_base = pd.read_csv(PATH_COURSE_PROJECT_DATASET_TEST)\n",
    "df_test_new = pd.read_csv(PATH_COURSE_PROJECT_DATASET_TEST_PREP)\n",
    "df_test_new.drop('Unnamed: 0', axis=1, inplace=True)"
   ]
  },
  {
   "cell_type": "code",
   "execution_count": 2167,
   "metadata": {},
   "outputs": [],
   "source": [
    "df_new['NEW_2_C-P'] = df_new['NEW_2_C-P'].astype(int)"
   ]
  },
  {
   "cell_type": "markdown",
   "metadata": {},
   "source": [
    "## Преобразуем строковые значения категориальных признаков в числовые для модели LGBM"
   ]
  },
  {
   "cell_type": "code",
   "execution_count": 2168,
   "metadata": {},
   "outputs": [],
   "source": [
    "dataset_list = [df_new, df_test_new]\n",
    "for cat in df_new.select_dtypes(include='object').columns.drop('Years in current job'):\n",
    "    dict_of_values_name = dict()\n",
    "    repeat_number = 0\n",
    "    for dataset in dataset_list:\n",
    "        n = 0\n",
    "        dataset[f'{cat}_for_LGBM'] = dataset[cat].copy()\n",
    "        for value_name in dataset[f'{cat}_for_LGBM'].value_counts().index:\n",
    "            if repeat_number == 0:\n",
    "                dataset[f'{cat}_for_LGBM'].loc[dataset[f'{cat}_for_LGBM'] == value_name] = n\n",
    "                dict_of_values_name[value_name] = n\n",
    "                n += 1\n",
    "            if repeat_number == 1:\n",
    "                try:\n",
    "                    dataset[f'{cat}_for_LGBM'].loc[dataset[f'{cat}_for_LGBM'] == value_name] = dict_of_values_name[value_name]\n",
    "                except Exception as e:\n",
    "                    dataset[f'{cat}_for_LGBM'].loc[dataset[f'{cat}_for_LGBM'] == value_name] = dict_of_values_name['other']  \n",
    "        dataset[f'{cat}_for_LGBM'] = dataset[f'{cat}_for_LGBM'].astype('int64')\n",
    "    repeat_number +=1"
   ]
  },
  {
   "cell_type": "markdown",
   "metadata": {},
   "source": [
    "## Округляем значения Credit Score ver.2 для возможного использования признака как категориального"
   ]
  },
  {
   "cell_type": "code",
   "execution_count": 2169,
   "metadata": {},
   "outputs": [],
   "source": [
    "df_new['Credit Score ver.2'] = round(df_new['Credit Score ver.2'])"
   ]
  },
  {
   "cell_type": "code",
   "execution_count": 2170,
   "metadata": {},
   "outputs": [
    {
     "data": {
      "text/plain": [
       "158"
      ]
     },
     "execution_count": 2170,
     "metadata": {},
     "output_type": "execute_result"
    }
   ],
   "source": [
    "# Длинна позволяет (до 255)\n",
    "len(df_new['Credit Score ver.2'].value_counts().index)"
   ]
  },
  {
   "cell_type": "markdown",
   "metadata": {},
   "source": [
    "## Проверяем соответствие тествого и тренеровочного датасетов по признакам"
   ]
  },
  {
   "cell_type": "code",
   "execution_count": 2171,
   "metadata": {},
   "outputs": [],
   "source": [
    "new_fearures_list = df_test_new.columns.tolist()"
   ]
  },
  {
   "cell_type": "code",
   "execution_count": 2172,
   "metadata": {},
   "outputs": [
    {
     "name": "stdout",
     "output_type": "stream",
     "text": [
      "Credit Default\n"
     ]
    }
   ],
   "source": [
    "new_fearures_list = df_test_new.columns.tolist()\n",
    "for i in df_new.columns.tolist():\n",
    "    try:\n",
    "        new_fearures_list.remove(i)\n",
    "    except:\n",
    "        print(i)\n",
    "\n",
    "new_fearures_list = df_new.columns.tolist()\n",
    "for i in df_test_new.columns.tolist():\n",
    "    try:\n",
    "        new_fearures_list.remove(i)\n",
    "    except:\n",
    "        print(i)"
   ]
  },
  {
   "cell_type": "markdown",
   "metadata": {},
   "source": [
    "## Распределяем признаки по моделям"
   ]
  },
  {
   "cell_type": "code",
   "execution_count": 2173,
   "metadata": {},
   "outputs": [],
   "source": [
    "TARGET_NAME = 'Credit Default'"
   ]
  },
  {
   "cell_type": "code",
   "execution_count": 2174,
   "metadata": {
    "scrolled": false
   },
   "outputs": [],
   "source": [
    "full_features_list = [col for col in df_new.columns.tolist() if df_new[col].isnull().sum() == 0]"
   ]
  },
  {
   "cell_type": "code",
   "execution_count": 2175,
   "metadata": {},
   "outputs": [],
   "source": [
    "# тест без признака number open accounts\n",
    "full_features_list.remove('Number of Open Accounts')"
   ]
  },
  {
   "cell_type": "code",
   "execution_count": 2176,
   "metadata": {},
   "outputs": [],
   "source": [
    "num_features = df_new[full_features_list].select_dtypes(include=['float']).columns.tolist()"
   ]
  },
  {
   "cell_type": "code",
   "execution_count": 2177,
   "metadata": {},
   "outputs": [],
   "source": [
    "for i in ['pca_1_H-O_OH_R', 'pca_2_H-O_OH_R', 'Credit Score ver.3', 'Annual Income upd.2', 'Current Loan Amount']:\n",
    "    num_features.remove(i)\n",
    "    \n",
    "for i in ['Credit Score ver.2', 'Bankruptcies upd.2']:\n",
    "    num_features.remove(i)\n"
   ]
  },
  {
   "cell_type": "code",
   "execution_count": 2178,
   "metadata": {},
   "outputs": [
    {
     "data": {
      "text/plain": [
       "['Tax Liens',\n",
       " 'Years of Credit History',\n",
       " 'Maximum Open Credit',\n",
       " 'Number of Credit Problems',\n",
       " 'Current Credit Balance',\n",
       " 'Monthly Debt',\n",
       " 'Current Loan Amount ver.2',\n",
       " 'Annual Income upd.3',\n",
       " 'Credit Score ver.4',\n",
       " 'Bankruptcies upd.3',\n",
       " 'Years in current job upd.3']"
      ]
     },
     "execution_count": 2178,
     "metadata": {},
     "output_type": "execute_result"
    }
   ],
   "source": [
    "num_features"
   ]
  },
  {
   "cell_type": "code",
   "execution_count": 2179,
   "metadata": {},
   "outputs": [
    {
     "data": {
      "text/plain": [
       "['Purpose', 'Term', 'NEW_1_H-O']"
      ]
     },
     "execution_count": 2179,
     "metadata": {},
     "output_type": "execute_result"
    }
   ],
   "source": [
    "cat_features_str = df_new[full_features_list].select_dtypes(include=['object', 'category']).columns.tolist()\n",
    "cat_features_str.append('NEW_1_H-O')\n",
    "cat_features_str.remove('Home Ownership')\n",
    "cat_features_str.remove('Years in current job')\n",
    "cat_features_str"
   ]
  },
  {
   "cell_type": "code",
   "execution_count": 2180,
   "metadata": {
    "scrolled": false
   },
   "outputs": [],
   "source": [
    "cat_features_dumm_years_dummy = df_new[full_features_list].drop(TARGET_NAME, axis=1).select_dtypes(include=['int']).columns.tolist()[:-3]\n",
    "# cat_features_dumm_years_one = cat_features_dumm_years_dummy[:-10]\n",
    "cat_features_dumm_years_dummy.remove('Years in current job upd.2')"
   ]
  },
  {
   "cell_type": "code",
   "execution_count": 2181,
   "metadata": {},
   "outputs": [],
   "source": [
    "cat_features_dumm_years_one = cat_features_dumm_years_dummy\n",
    "\n",
    "for el in cat_features_dumm_years_dummy[-11:-1]:\n",
    "    cat_features_dumm_years_one.remove(el)\n",
    "cat_features_dumm_years_one.remove('NEW_2_C-P')"
   ]
  },
  {
   "cell_type": "code",
   "execution_count": 2182,
   "metadata": {},
   "outputs": [],
   "source": [
    "full_features_list_2 = full_features_list\n",
    "for el in cat_features_str:\n",
    "    full_features_list_2.remove(el)\n",
    "full_features_list_2.remove('Home Ownership')  "
   ]
  },
  {
   "cell_type": "code",
   "execution_count": 2183,
   "metadata": {},
   "outputs": [],
   "source": [
    "lr_features = num_features+ cat_features_dumm_years_one + ['Years in current job_< 1 year', 'pca_1_H-O_OH_R', 'pca_2_H-O_OH_R']\n",
    "lr_cat_features = cat_features_dumm_years_one + ['Years in current job_< 1 year', 'pca_1_H-O_OH_R', 'pca_2_H-O_OH_R']"
   ]
  },
  {
   "cell_type": "code",
   "execution_count": 2184,
   "metadata": {},
   "outputs": [
    {
     "data": {
      "text/plain": [
       "['Term_Short Term',\n",
       " 'Purpose_buy a car',\n",
       " 'Purpose_buy house',\n",
       " 'Purpose_debt consolidation',\n",
       " 'Purpose_educational expenses',\n",
       " 'Purpose_home improvements',\n",
       " 'Purpose_major purchase',\n",
       " 'Purpose_medical bills',\n",
       " 'Purpose_moving',\n",
       " 'Purpose_other',\n",
       " 'Purpose_renewable energy',\n",
       " 'Purpose_small business',\n",
       " 'Purpose_take a trip',\n",
       " 'Purpose_vacation',\n",
       " 'Purpose_wedding',\n",
       " 'Home Ownership_Home Mortgage',\n",
       " 'Home Ownership_Own Home',\n",
       " 'Home Ownership_Rent',\n",
       " 'Years in current job_10+ years',\n",
       " 'Years in current job_< 1 year',\n",
       " 'pca_1_H-O_OH_R',\n",
       " 'pca_2_H-O_OH_R']"
      ]
     },
     "execution_count": 2184,
     "metadata": {},
     "output_type": "execute_result"
    }
   ],
   "source": [
    "lr_cat_features"
   ]
  },
  {
   "cell_type": "code",
   "execution_count": 2185,
   "metadata": {},
   "outputs": [],
   "source": [
    "features_for_bal = lr_features + ['Term', 'Purpose', 'NEW_1_H-O']"
   ]
  },
  {
   "cell_type": "code",
   "execution_count": 2186,
   "metadata": {},
   "outputs": [],
   "source": [
    "cat_features_str_to_int = full_features_list[-3:]\n",
    "cat_features_str_to_int.append('Years in current job upd.2')"
   ]
  },
  {
   "cell_type": "code",
   "execution_count": 2187,
   "metadata": {},
   "outputs": [],
   "source": [
    "all_categorical_features = cat_features_str_to_int + cat_features_str + cat_features_dumm_years_dummy"
   ]
  },
  {
   "cell_type": "code",
   "execution_count": 2188,
   "metadata": {},
   "outputs": [],
   "source": [
    "ready_features_list = num_features + all_categorical_features"
   ]
  },
  {
   "cell_type": "code",
   "execution_count": 2189,
   "metadata": {},
   "outputs": [
    {
     "data": {
      "text/plain": [
       "['Home Ownership_for_LGBM',\n",
       " 'Purpose_for_LGBM',\n",
       " 'Term_for_LGBM',\n",
       " 'Years in current job upd.2']"
      ]
     },
     "execution_count": 2189,
     "metadata": {},
     "output_type": "execute_result"
    }
   ],
   "source": [
    "cat_features_str_to_int"
   ]
  },
  {
   "cell_type": "markdown",
   "metadata": {},
   "source": [
    "## Приведение типов для модели  CatBoost"
   ]
  },
  {
   "cell_type": "code",
   "execution_count": 2190,
   "metadata": {},
   "outputs": [],
   "source": [
    "for colname in cat_features_str:\n",
    "    df_new[colname] = pd.Categorical(df_new[colname])\n",
    "    \n",
    "df_new[cat_features_str].dtypes\n",
    "\n",
    "catB_features = num_features + cat_features_str"
   ]
  },
  {
   "cell_type": "markdown",
   "metadata": {},
   "source": [
    "## Нормализация данных"
   ]
  },
  {
   "cell_type": "code",
   "execution_count": null,
   "metadata": {},
   "outputs": [],
   "source": []
  },
  {
   "cell_type": "code",
   "execution_count": 2191,
   "metadata": {},
   "outputs": [],
   "source": [
    "num_features2 = num_features.copy()\n",
    "# num_features2.remove('Credit Score ver.2')\n",
    "\n",
    "scaler = StandardScaler()\n",
    "\n",
    "df_norm = df_new.copy()\n",
    "df_test_norm = df_test_new.copy()\n",
    "\n",
    "# scaler.fit(df_norm[num_features2])\n",
    "df_norm[num_features2] = scaler.fit_transform(df_norm[num_features2])\n",
    "df_test_norm[num_features2] = scaler.transform(df_test_norm[num_features2])\n",
    "\n",
    "df_new = df_norm.copy()\n",
    "df_test_new = df_test_norm.copy()"
   ]
  },
  {
   "cell_type": "code",
   "execution_count": null,
   "metadata": {},
   "outputs": [],
   "source": []
  },
  {
   "cell_type": "markdown",
   "metadata": {},
   "source": [
    "**Сохранение модели для нормализации данных**"
   ]
  },
  {
   "cell_type": "code",
   "execution_count": 2192,
   "metadata": {},
   "outputs": [],
   "source": [
    "with open(SCALER_FILE_PATH, 'wb') as file:\n",
    "    pickle.dump(scaler, file)"
   ]
  },
  {
   "cell_type": "code",
   "execution_count": 2193,
   "metadata": {},
   "outputs": [],
   "source": [
    "catB_features = list(set(catB_features))\n",
    "all_categorical_features = list(set(all_categorical_features))"
   ]
  },
  {
   "cell_type": "code",
   "execution_count": 2194,
   "metadata": {},
   "outputs": [],
   "source": [
    "ready_features_list = list(set(ready_features_list))"
   ]
  },
  {
   "cell_type": "markdown",
   "metadata": {},
   "source": [
    "## Балансировка данных"
   ]
  },
  {
   "cell_type": "code",
   "execution_count": null,
   "metadata": {},
   "outputs": [],
   "source": []
  },
  {
   "cell_type": "code",
   "execution_count": 2195,
   "metadata": {},
   "outputs": [],
   "source": [
    "sm = SMOTENC(categorical_features=[df_new[lr_features].columns.get_loc(col) for col in lr_cat_features], n_jobs=-1)"
   ]
  },
  {
   "cell_type": "markdown",
   "metadata": {},
   "source": [
    "**Разбиение на train и test**"
   ]
  },
  {
   "cell_type": "code",
   "execution_count": 2196,
   "metadata": {},
   "outputs": [],
   "source": [
    "X = df_new[features_for_bal]\n",
    "y = df_new[TARGET_NAME]\n",
    "\n",
    "X_train, X_test, y_train, y_test = train_test_split(X, y, shuffle=True, test_size=0.30)"
   ]
  },
  {
   "cell_type": "code",
   "execution_count": 2197,
   "metadata": {},
   "outputs": [
    {
     "name": "stdout",
     "output_type": "stream",
     "text": [
      "Before OverSampling, counts of label '1': 1469\n",
      "Before OverSampling, counts of label '0': 3781 \n",
      "\n",
      "After OverSampling, the shape of X_train: (7562, 33)\n",
      "After OverSampling, the shape of y_train: (7562,) \n",
      "\n",
      "After OverSampling, counts of label '1': 3781\n",
      "After OverSampling, counts of label '0': 3781\n"
     ]
    }
   ],
   "source": [
    "X_train_res, y_train_res = sm.fit_sample(X_train[lr_features], y_train)\n",
    "\n",
    "\n",
    "print(f\"Before OverSampling, counts of label '1': {sum(y_train==1)}\")\n",
    "print(f\"Before OverSampling, counts of label '0': {sum(y_train==0)} \\n\")\n",
    "print(f'After OverSampling, the shape of X_train: {X_train_res.shape}')\n",
    "print(f'After OverSampling, the shape of y_train: {y_train_res.shape} \\n')\n",
    "print(f\"After OverSampling, counts of label '1': {sum(y_train_res==1)}\")\n",
    "print(f\"After OverSampling, counts of label '0': {sum(y_train_res==0)}\")"
   ]
  },
  {
   "cell_type": "code",
   "execution_count": 2198,
   "metadata": {},
   "outputs": [
    {
     "name": "stdout",
     "output_type": "stream",
     "text": [
      "Before OverSampling, counts of label '1': 1469\n",
      "Before OverSampling, counts of label '0': 3781 \n",
      "\n",
      "After OverSampling, the shape of X_train: (7399, 33)\n",
      "After OverSampling, the shape of y_train: (7399,) \n",
      "\n",
      "After OverSampling, counts of label '1': 3618\n",
      "After OverSampling, counts of label '0': 3781\n"
     ]
    }
   ],
   "source": [
    "adasyn = ADASYN(sampling_strategy='auto', n_jobs=-1)\n",
    "X_train_ada, y_train_ada = adasyn.fit_sample(X_train[lr_features], y_train)\n",
    "\n",
    "print(f\"Before OverSampling, counts of label '1': {sum(y_train==1)}\")\n",
    "print(f\"Before OverSampling, counts of label '0': {sum(y_train==0)} \\n\")\n",
    "print(f'After OverSampling, the shape of X_train: {X_train_ada.shape}')\n",
    "print(f'After OverSampling, the shape of y_train: {y_train_ada.shape} \\n')\n",
    "print(f\"After OverSampling, counts of label '1': {sum(y_train_ada==1)}\")\n",
    "print(f\"After OverSampling, counts of label '0': {sum(y_train_ada==0)}\")"
   ]
  },
  {
   "cell_type": "code",
   "execution_count": 2199,
   "metadata": {},
   "outputs": [],
   "source": [
    "X_train['ID'] = X_train.index\n",
    "X['ID'] = X.index"
   ]
  },
  {
   "cell_type": "code",
   "execution_count": 2200,
   "metadata": {},
   "outputs": [
    {
     "name": "stdout",
     "output_type": "stream",
     "text": [
      "Before OverSampling, counts of label '1': 1469\n",
      "Before OverSampling, counts of label '0': 3781 \n",
      "\n",
      "After OverSampling, the shape of X_train: (4690, 34)\n",
      "After OverSampling, the shape of y_train: (4690,) \n",
      "\n",
      "After OverSampling, counts of label '1': 1469\n",
      "After OverSampling, counts of label '0': 3221\n"
     ]
    }
   ],
   "source": [
    "tomek = TomekLinks(sampling_strategy='auto', n_jobs=-1)\n",
    "X_train_tom, y_train_tom = tomek.fit_sample(X_train[lr_features + ['ID']], y_train)\n",
    "X_tom, y_tom = tomek.fit_sample(X[lr_features + ['ID']], y)\n",
    "\n",
    "print(f\"Before OverSampling, counts of label '1': {sum(y_train==1)}\")\n",
    "print(f\"Before OverSampling, counts of label '0': {sum(y_train==0)} \\n\")\n",
    "print(f'After OverSampling, the shape of X_train: {X_train_tom.shape}')\n",
    "print(f'After OverSampling, the shape of y_train: {y_train_tom.shape} \\n')\n",
    "print(f\"After OverSampling, counts of label '1': {sum(y_train_tom==1)}\")\n",
    "print(f\"After OverSampling, counts of label '0': {sum(y_train_tom==0)}\")"
   ]
  },
  {
   "cell_type": "code",
   "execution_count": 2201,
   "metadata": {},
   "outputs": [
    {
     "name": "stdout",
     "output_type": "stream",
     "text": [
      "Before OverSampling, counts of label '1': 1469\n",
      "Before OverSampling, counts of label '0': 3781 \n",
      "\n",
      "After OverSampling, the shape of X_train: (4688, 34)\n",
      "After OverSampling, the shape of y_train: (4688,) \n",
      "\n",
      "After OverSampling, counts of label '1': 1469\n",
      "After OverSampling, counts of label '0': 3219\n"
     ]
    }
   ],
   "source": [
    "oss = OneSidedSelection()\n",
    "\n",
    "X_train_oss, y_train_oss = oss.fit_sample(X_train[lr_features + ['ID']], y_train)\n",
    "\n",
    "print(f\"Before OverSampling, counts of label '1': {sum(y_train==1)}\")\n",
    "print(f\"Before OverSampling, counts of label '0': {sum(y_train==0)} \\n\")\n",
    "print(f'After OverSampling, the shape of X_train: {X_train_oss.shape}')\n",
    "print(f'After OverSampling, the shape of y_train: {y_train_oss.shape} \\n')\n",
    "print(f\"After OverSampling, counts of label '1': {sum(y_train_oss==1)}\")\n",
    "print(f\"After OverSampling, counts of label '0': {sum(y_train_oss==0)}\")"
   ]
  },
  {
   "cell_type": "code",
   "execution_count": 2202,
   "metadata": {},
   "outputs": [
    {
     "name": "stdout",
     "output_type": "stream",
     "text": [
      "Before OverSampling, counts of label '1': 1469\n",
      "Before OverSampling, counts of label '0': 3219 \n",
      "\n",
      "After OverSampling, the shape of X_train: (4480, 34)\n",
      "After OverSampling, the shape of y_train: (4480,) \n",
      "\n",
      "After OverSampling, counts of label '1': 1469\n",
      "After OverSampling, counts of label '0': 3011\n"
     ]
    }
   ],
   "source": [
    "X_train_oss_tom, y_train_oss_tom = tomek.fit_sample(X_train_oss, y_train_oss)\n",
    "\n",
    "print(f\"Before OverSampling, counts of label '1': {sum(y_train_oss==1)}\")\n",
    "print(f\"Before OverSampling, counts of label '0': {sum(y_train_oss==0)} \\n\")\n",
    "print(f'After OverSampling, the shape of X_train: {X_train_oss_tom.shape}')\n",
    "print(f'After OverSampling, the shape of y_train: {y_train_oss_tom.shape} \\n')\n",
    "print(f\"After OverSampling, counts of label '1': {sum(y_train_oss_tom==1)}\")\n",
    "print(f\"After OverSampling, counts of label '0': {sum(y_train_oss_tom==0)}\")"
   ]
  },
  {
   "cell_type": "code",
   "execution_count": 2203,
   "metadata": {},
   "outputs": [],
   "source": [
    "X_train_oss_CB = X_train.loc[X_train['ID'].isin(X_train_oss['ID'])]\n",
    "y_train_oss_CB = y_train.loc[X_train_oss_CB.index]"
   ]
  },
  {
   "cell_type": "code",
   "execution_count": 2204,
   "metadata": {},
   "outputs": [],
   "source": [
    "X_train_tom_CB = X_train.loc[X_train['ID'].isin(X_train_tom['ID'])]\n",
    "y_train_tom_CB = y_train.loc[X_train_tom_CB.index]\n",
    "\n",
    "X_train = X_train.drop('ID', axis=1)"
   ]
  },
  {
   "cell_type": "code",
   "execution_count": 2205,
   "metadata": {},
   "outputs": [],
   "source": [
    "X_tom_CB = X.loc[X['ID'].isin(X_tom['ID'])]\n",
    "y_tom_CB = y.loc[X_tom_CB.index]\n",
    "X = X.drop('ID', axis=1)"
   ]
  },
  {
   "cell_type": "markdown",
   "metadata": {},
   "source": [
    "## Сохранение обучающего и тестового датасета"
   ]
  },
  {
   "cell_type": "code",
   "execution_count": 2206,
   "metadata": {},
   "outputs": [],
   "source": [
    "train = pd.concat([X_train_oss, y_train_oss], axis=1)\n",
    "test = pd.concat([X_test, y_test], axis=1)"
   ]
  },
  {
   "cell_type": "code",
   "execution_count": 2207,
   "metadata": {},
   "outputs": [],
   "source": [
    "df_new.to_csv(TRAIN_FULL_PATH, index=False, encoding='utf-8')\n",
    "train.to_csv(TRAIN_PART_PATH, index=False, encoding='utf-8')\n",
    "test.to_csv(TEST_PART_PATH, index=False, encoding='utf-8')"
   ]
  },
  {
   "cell_type": "markdown",
   "metadata": {},
   "source": [
    "## Построение и оценка бозовых моделей"
   ]
  },
  {
   "cell_type": "markdown",
   "metadata": {},
   "source": [
    "### Логистическая регрессия"
   ]
  },
  {
   "cell_type": "code",
   "execution_count": 2208,
   "metadata": {
    "scrolled": true
   },
   "outputs": [
    {
     "name": "stdout",
     "output_type": "stream",
     "text": [
      "best threshold probability = 0.5798994974874372\n",
      "----------------------------------------------------------------------\n",
      "! - 1 - !\n",
      "f1 on valid set = 0.4770975056689342\n",
      "f1 on valid set after calibrating = 0.4814814814814815\n",
      "----------------------------------------------------------------------\n",
      "best threshold probability = 0.48190954773869343\n",
      "----------------------------------------------------------------------\n",
      "! - 2 - !\n",
      "f1 on valid set = 0.4719314938154138\n",
      "f1 on valid set after calibrating = 0.47910112359550566\n",
      "----------------------------------------------------------------------\n",
      "best threshold probability = 0.5537688442211055\n",
      "----------------------------------------------------------------------\n",
      "! - 3 - !\n",
      "f1 on valid set = 0.47315914489311167\n",
      "f1 on valid set after calibrating = 0.478286734086853\n",
      "----------------------------------------------------------------------\n",
      "best threshold probability = 0.6746231155778895\n",
      "----------------------------------------------------------------------\n",
      "! - 4 - !\n",
      "f1 on valid set = 0.4487985212569316\n",
      "f1 on valid set after calibrating = 0.4711388455538221\n",
      "----------------------------------------------------------------------\n",
      "best threshold probability = 0.7236180904522613\n",
      "----------------------------------------------------------------------\n",
      "! - 5 - !\n",
      "f1 on valid set = 0.4481605351170569\n",
      "f1 on valid set after calibrating = 0.4660408614025401\n",
      "----------------------------------------------------------------------\n"
     ]
    }
   ],
   "source": [
    "n = 0\n",
    "for prep_dataset in [[X_train_oss_tom, y_train_oss_tom],\n",
    "                     [X_train_oss, y_train_oss],\n",
    "                     [X_train_tom, y_train_tom], \n",
    "                     [X_train_ada, y_train_ada], \n",
    "                     [X_train_res, y_train_res]]:\n",
    "    \n",
    "    n += 1\n",
    "    \n",
    "    X_train_prep, y_train_prep = prep_dataset[0], prep_dataset[1]\n",
    "    \n",
    "    model_lr=LogisticRegression(class_weight={0: 1, 1: 3}, C=5000)\n",
    "    model_lr.fit(X_train_prep[lr_features], y_train_prep)\n",
    "\n",
    "    y_train_pred = model_lr.predict(X_train_prep[lr_features])\n",
    "    y_test_pred = model_lr.predict(X_test[lr_features])\n",
    "\n",
    "    # get_classification_report(y_train_oss_tom, y_train_pred, y_test, y_test_pred)\n",
    "\n",
    "    # 3.11.4.калитбровка\n",
    "    predict_probas = model_lr.predict_proba(X_test[lr_features])\n",
    "#     show_proba_calibration_plots(predict_probas, y_test, 0.1, 0.8, 20)\n",
    "    predict2, threshold_prob = update_predict_by_prob(y_test, predict_probas, 0.25, 0.9, 200, score='f1')\n",
    "    # print(f1_score(y_test, predict))\n",
    "    # print(f1_score(y_test, predict2))\n",
    "\n",
    "    # 3.11.5. результаты\n",
    "    print(70*'-')\n",
    "    print(f'! - {n} - !')\n",
    "    # print(f'f1 on valid set = {f1_score(y_test, predict)}')\n",
    "    print(f'f1 on valid set = {f1_score(y_test, y_test_pred)}')\n",
    "    print(f'f1 on valid set after calibrating = {f1_score(y_test, predict2)}')\n",
    "    print(70*'-')\n",
    "    # get_classification_report(y_train_oss, y_train_pred, y_test, predict2)"
   ]
  },
  {
   "cell_type": "code",
   "execution_count": 2209,
   "metadata": {},
   "outputs": [
    {
     "name": "stdout",
     "output_type": "stream",
     "text": [
      "TRAIN\n",
      "\n",
      "              precision    recall  f1-score   support\n",
      "\n",
      "           0       0.81      0.42      0.56      3221\n",
      "           1       0.38      0.79      0.52      1469\n",
      "\n",
      "    accuracy                           0.54      4690\n",
      "   macro avg       0.60      0.61      0.54      4690\n",
      "weighted avg       0.68      0.54      0.54      4690\n",
      "\n",
      "TEST\n",
      "\n",
      "              precision    recall  f1-score   support\n",
      "\n",
      "           0       0.81      0.40      0.54      1606\n",
      "           1       0.34      0.77      0.47       644\n",
      "\n",
      "    accuracy                           0.51      2250\n",
      "   macro avg       0.58      0.59      0.51      2250\n",
      "weighted avg       0.68      0.51      0.52      2250\n",
      "\n",
      "CONFUSION MATRIX\n",
      "\n",
      "col_0             0    1\n",
      "Credit Default          \n",
      "0               643  963\n",
      "1               146  498\n"
     ]
    }
   ],
   "source": [
    "model_lr=LogisticRegression(class_weight={0: 1, 1: 3}, C=5000)\n",
    "model_lr.fit(X_train_tom[lr_features], y_train_tom)\n",
    "\n",
    "y_train_pred = model_lr.predict(X_train_tom[lr_features])\n",
    "y_test_pred = model_lr.predict(X_test[lr_features])\n",
    "\n",
    "get_classification_report(y_train_tom, y_train_pred, y_test, y_test_pred)"
   ]
  },
  {
   "cell_type": "code",
   "execution_count": 2210,
   "metadata": {},
   "outputs": [
    {
     "data": {
      "text/plain": [
       "0.47315914489311167"
      ]
     },
     "execution_count": 2210,
     "metadata": {},
     "output_type": "execute_result"
    }
   ],
   "source": [
    "f1_score(y_test, y_test_pred)"
   ]
  },
  {
   "cell_type": "code",
   "execution_count": 2211,
   "metadata": {
    "scrolled": false
   },
   "outputs": [
    {
     "data": {
      "image/png": "[encoded data removed]",
      "text/plain": [
       "<Figure size 1080x360 with 2 Axes>"
      ]
     },
     "metadata": {
      "needs_background": "light"
     },
     "output_type": "display_data"
    },
    {
     "data": {
      "image/png": "[encoded data removed]",
      "text/plain": [
       "<Figure size 360x288 with 1 Axes>"
      ]
     },
     "metadata": {
      "needs_background": "light"
     },
     "output_type": "display_data"
    },
    {
     "name": "stdout",
     "output_type": "stream",
     "text": [
      "best threshold probability = 0.5537688442211055\n",
      "----------------------------------------------------------------------\n",
      "f1 on valid set = 0.47315914489311167\n",
      "f1 on valid set after calibrating = 0.478286734086853\n",
      "----------------------------------------------------------------------\n",
      "TRAIN\n",
      "\n",
      "              precision    recall  f1-score   support\n",
      "\n",
      "           0       0.81      0.42      0.56      3221\n",
      "           1       0.38      0.79      0.52      1469\n",
      "\n",
      "    accuracy                           0.54      4690\n",
      "   macro avg       0.60      0.61      0.54      4690\n",
      "weighted avg       0.68      0.54      0.54      4690\n",
      "\n",
      "TEST\n",
      "\n",
      "              precision    recall  f1-score   support\n",
      "\n",
      "           0       0.80      0.60      0.69      1606\n",
      "           1       0.39      0.62      0.48       644\n",
      "\n",
      "    accuracy                           0.61      2250\n",
      "   macro avg       0.59      0.61      0.58      2250\n",
      "weighted avg       0.68      0.61      0.63      2250\n",
      "\n",
      "CONFUSION MATRIX\n",
      "\n",
      "col_0             0    1\n",
      "Credit Default          \n",
      "0               971  635\n",
      "1               242  402\n"
     ]
    }
   ],
   "source": [
    "# 3.11.4.калитбровка\n",
    "predict_probas = model_lr.predict_proba(X_test[lr_features])\n",
    "show_proba_calibration_plots(predict_probas, y_test, 0.1, 0.8, 20)\n",
    "predict2, threshold_prob = update_predict_by_prob(y_test, predict_probas, 0.25, 0.9, 200, score='f1', show_chart=True)\n",
    "# print(f1_score(y_test, predict))\n",
    "# print(f1_score(y_test, predict2))\n",
    "\n",
    "# 3.11.5. результаты\n",
    "print(70*'-')\n",
    "# print(f'f1 on valid set = {f1_score(y_test, predict)}')\n",
    "print(f'f1 on valid set = {f1_score(y_test, y_test_pred)}')\n",
    "print(f'f1 on valid set after calibrating = {f1_score(y_test, predict2)}')\n",
    "print(70*'-')\n",
    "get_classification_report(y_train_tom, y_train_pred, y_test, predict2)"
   ]
  },
  {
   "cell_type": "markdown",
   "metadata": {},
   "source": [
    "### KNeighbors"
   ]
  },
  {
   "cell_type": "code",
   "execution_count": 2212,
   "metadata": {},
   "outputs": [
    {
     "name": "stdout",
     "output_type": "stream",
     "text": [
      "TRAIN\n",
      "\n",
      "              precision    recall  f1-score   support\n",
      "\n",
      "           0       0.90      0.71      0.79      3781\n",
      "           1       0.76      0.92      0.83      3781\n",
      "\n",
      "    accuracy                           0.82      7562\n",
      "   macro avg       0.83      0.82      0.81      7562\n",
      "weighted avg       0.83      0.82      0.81      7562\n",
      "\n",
      "TEST\n",
      "\n",
      "              precision    recall  f1-score   support\n",
      "\n",
      "           0       0.74      0.60      0.66      1606\n",
      "           1       0.32      0.48      0.38       644\n",
      "\n",
      "    accuracy                           0.56      2250\n",
      "   macro avg       0.53      0.54      0.52      2250\n",
      "weighted avg       0.62      0.56      0.58      2250\n",
      "\n",
      "CONFUSION MATRIX\n",
      "\n",
      "col_0             0    1\n",
      "Credit Default          \n",
      "0               959  647\n",
      "1               338  306\n"
     ]
    }
   ],
   "source": [
    "model_knn = KNeighborsClassifier()\n",
    "model_knn.fit(X_train_res[cat_features_dumm_years_one + num_features], y_train_res)\n",
    "\n",
    "y_train_pred = model_knn.predict(X_train_res[cat_features_dumm_years_one + num_features])\n",
    "y_test_pred = model_knn.predict(X_test[cat_features_dumm_years_one + num_features])\n",
    "\n",
    "get_classification_report(y_train_res, y_train_pred, y_test, y_test_pred)"
   ]
  },
  {
   "cell_type": "markdown",
   "metadata": {},
   "source": [
    "### XGBoost"
   ]
  },
  {
   "cell_type": "code",
   "execution_count": 2213,
   "metadata": {},
   "outputs": [
    {
     "name": "stdout",
     "output_type": "stream",
     "text": [
      "TRAIN\n",
      "\n",
      "              precision    recall  f1-score   support\n",
      "\n",
      "           0       0.95      0.96      0.96      3781\n",
      "           1       0.96      0.95      0.95      3781\n",
      "\n",
      "    accuracy                           0.95      7562\n",
      "   macro avg       0.96      0.95      0.95      7562\n",
      "weighted avg       0.96      0.95      0.95      7562\n",
      "\n",
      "TEST\n",
      "\n",
      "              precision    recall  f1-score   support\n",
      "\n",
      "           0       0.74      0.77      0.76      1606\n",
      "           1       0.37      0.33      0.35       644\n",
      "\n",
      "    accuracy                           0.64      2250\n",
      "   macro avg       0.55      0.55      0.55      2250\n",
      "weighted avg       0.64      0.64      0.64      2250\n",
      "\n",
      "CONFUSION MATRIX\n",
      "\n",
      "col_0              0    1\n",
      "Credit Default           \n",
      "0               1236  370\n",
      "1                429  215\n"
     ]
    }
   ],
   "source": [
    "model_xgb = xgb.XGBClassifier()\n",
    "model_xgb.fit(X_train_res[cat_features_dumm_years_one + num_features], y_train_res)\n",
    "\n",
    "y_train_pred = model_xgb.predict(X_train_res[cat_features_dumm_years_one + num_features])\n",
    "y_test_pred = model_xgb.predict(X_test[cat_features_dumm_years_one + num_features])\n",
    "\n",
    "get_classification_report(y_train_res, y_train_pred, y_test, y_test_pred)"
   ]
  },
  {
   "cell_type": "markdown",
   "metadata": {},
   "source": [
    "### LightGBM"
   ]
  },
  {
   "cell_type": "code",
   "execution_count": 2214,
   "metadata": {},
   "outputs": [
    {
     "ename": "KeyError",
     "evalue": "\"['Term_for_LGBM', 'Years in current job upd.2', 'Purpose_for_LGBM', 'Home Ownership_for_LGBM'] not in index\"",
     "output_type": "error",
     "traceback": [
      "\u001b[0;31m---------------------------------------------------------------------------\u001b[0m",
      "\u001b[0;31mKeyError\u001b[0m                                  Traceback (most recent call last)",
      "\u001b[0;32m<ipython-input-2214-c301c3ddc67a>\u001b[0m in \u001b[0;36m<module>\u001b[0;34m\u001b[0m\n\u001b[1;32m      1\u001b[0m \u001b[0mmodel_lgbm\u001b[0m \u001b[0;34m=\u001b[0m \u001b[0mlgbm\u001b[0m\u001b[0;34m.\u001b[0m\u001b[0mLGBMClassifier\u001b[0m\u001b[0;34m(\u001b[0m\u001b[0;34m)\u001b[0m\u001b[0;34m\u001b[0m\u001b[0;34m\u001b[0m\u001b[0m\n\u001b[0;32m----> 2\u001b[0;31m \u001b[0mmodel_lgbm\u001b[0m\u001b[0;34m.\u001b[0m\u001b[0mfit\u001b[0m\u001b[0;34m(\u001b[0m\u001b[0mX_train_res\u001b[0m\u001b[0;34m[\u001b[0m\u001b[0mnum_features\u001b[0m \u001b[0;34m+\u001b[0m \u001b[0mcat_features_str_to_int\u001b[0m\u001b[0;34m]\u001b[0m\u001b[0;34m,\u001b[0m \u001b[0my_train_res\u001b[0m\u001b[0;34m,\u001b[0m \u001b[0mcategorical_feature\u001b[0m\u001b[0;34m=\u001b[0m\u001b[0;34m[\u001b[0m\u001b[0mdf_new\u001b[0m\u001b[0;34m[\u001b[0m\u001b[0mnum_features\u001b[0m \u001b[0;34m+\u001b[0m \u001b[0mcat_features_str_to_int\u001b[0m\u001b[0;34m]\u001b[0m\u001b[0;34m.\u001b[0m\u001b[0mcolumns\u001b[0m\u001b[0;34m.\u001b[0m\u001b[0mget_loc\u001b[0m\u001b[0;34m(\u001b[0m\u001b[0mcol\u001b[0m\u001b[0;34m)\u001b[0m \u001b[0;32mfor\u001b[0m \u001b[0mcol\u001b[0m \u001b[0;32min\u001b[0m \u001b[0mcat_features_str_to_int\u001b[0m\u001b[0;34m]\u001b[0m\u001b[0;34m)\u001b[0m\u001b[0;34m\u001b[0m\u001b[0;34m\u001b[0m\u001b[0m\n\u001b[0m\u001b[1;32m      3\u001b[0m \u001b[0;34m\u001b[0m\u001b[0m\n\u001b[1;32m      4\u001b[0m \u001b[0my_train_pred\u001b[0m \u001b[0;34m=\u001b[0m \u001b[0mmodel_lgbm\u001b[0m\u001b[0;34m.\u001b[0m\u001b[0mpredict\u001b[0m\u001b[0;34m(\u001b[0m\u001b[0mX_train_res\u001b[0m\u001b[0;34m[\u001b[0m\u001b[0mnum_features\u001b[0m \u001b[0;34m+\u001b[0m \u001b[0mcat_features_str_to_int\u001b[0m\u001b[0;34m]\u001b[0m\u001b[0;34m)\u001b[0m\u001b[0;34m\u001b[0m\u001b[0;34m\u001b[0m\u001b[0m\n\u001b[1;32m      5\u001b[0m \u001b[0my_test_pred\u001b[0m \u001b[0;34m=\u001b[0m \u001b[0mmodel_lgbm\u001b[0m\u001b[0;34m.\u001b[0m\u001b[0mpredict\u001b[0m\u001b[0;34m(\u001b[0m\u001b[0mX_test\u001b[0m\u001b[0;34m[\u001b[0m\u001b[0mnum_features\u001b[0m \u001b[0;34m+\u001b[0m \u001b[0mcat_features_str_to_int\u001b[0m\u001b[0;34m]\u001b[0m\u001b[0;34m)\u001b[0m\u001b[0;34m\u001b[0m\u001b[0;34m\u001b[0m\u001b[0m\n",
      "\u001b[0;32m/Library/Frameworks/Python.framework/Versions/3.8/lib/python3.8/site-packages/pandas/core/frame.py\u001b[0m in \u001b[0;36m__getitem__\u001b[0;34m(self, key)\u001b[0m\n\u001b[1;32m   2906\u001b[0m             \u001b[0;32mif\u001b[0m \u001b[0mis_iterator\u001b[0m\u001b[0;34m(\u001b[0m\u001b[0mkey\u001b[0m\u001b[0;34m)\u001b[0m\u001b[0;34m:\u001b[0m\u001b[0;34m\u001b[0m\u001b[0;34m\u001b[0m\u001b[0m\n\u001b[1;32m   2907\u001b[0m                 \u001b[0mkey\u001b[0m \u001b[0;34m=\u001b[0m \u001b[0mlist\u001b[0m\u001b[0;34m(\u001b[0m\u001b[0mkey\u001b[0m\u001b[0;34m)\u001b[0m\u001b[0;34m\u001b[0m\u001b[0;34m\u001b[0m\u001b[0m\n\u001b[0;32m-> 2908\u001b[0;31m             \u001b[0mindexer\u001b[0m \u001b[0;34m=\u001b[0m \u001b[0mself\u001b[0m\u001b[0;34m.\u001b[0m\u001b[0mloc\u001b[0m\u001b[0;34m.\u001b[0m\u001b[0m_get_listlike_indexer\u001b[0m\u001b[0;34m(\u001b[0m\u001b[0mkey\u001b[0m\u001b[0;34m,\u001b[0m \u001b[0maxis\u001b[0m\u001b[0;34m=\u001b[0m\u001b[0;36m1\u001b[0m\u001b[0;34m,\u001b[0m \u001b[0mraise_missing\u001b[0m\u001b[0;34m=\u001b[0m\u001b[0;32mTrue\u001b[0m\u001b[0;34m)\u001b[0m\u001b[0;34m[\u001b[0m\u001b[0;36m1\u001b[0m\u001b[0;34m]\u001b[0m\u001b[0;34m\u001b[0m\u001b[0;34m\u001b[0m\u001b[0m\n\u001b[0m\u001b[1;32m   2909\u001b[0m \u001b[0;34m\u001b[0m\u001b[0m\n\u001b[1;32m   2910\u001b[0m         \u001b[0;31m# take() does not accept boolean indexers\u001b[0m\u001b[0;34m\u001b[0m\u001b[0;34m\u001b[0m\u001b[0;34m\u001b[0m\u001b[0m\n",
      "\u001b[0;32m/Library/Frameworks/Python.framework/Versions/3.8/lib/python3.8/site-packages/pandas/core/indexing.py\u001b[0m in \u001b[0;36m_get_listlike_indexer\u001b[0;34m(self, key, axis, raise_missing)\u001b[0m\n\u001b[1;32m   1252\u001b[0m             \u001b[0mkeyarr\u001b[0m\u001b[0;34m,\u001b[0m \u001b[0mindexer\u001b[0m\u001b[0;34m,\u001b[0m \u001b[0mnew_indexer\u001b[0m \u001b[0;34m=\u001b[0m \u001b[0max\u001b[0m\u001b[0;34m.\u001b[0m\u001b[0m_reindex_non_unique\u001b[0m\u001b[0;34m(\u001b[0m\u001b[0mkeyarr\u001b[0m\u001b[0;34m)\u001b[0m\u001b[0;34m\u001b[0m\u001b[0;34m\u001b[0m\u001b[0m\n\u001b[1;32m   1253\u001b[0m \u001b[0;34m\u001b[0m\u001b[0m\n\u001b[0;32m-> 1254\u001b[0;31m         \u001b[0mself\u001b[0m\u001b[0;34m.\u001b[0m\u001b[0m_validate_read_indexer\u001b[0m\u001b[0;34m(\u001b[0m\u001b[0mkeyarr\u001b[0m\u001b[0;34m,\u001b[0m \u001b[0mindexer\u001b[0m\u001b[0;34m,\u001b[0m \u001b[0maxis\u001b[0m\u001b[0;34m,\u001b[0m \u001b[0mraise_missing\u001b[0m\u001b[0;34m=\u001b[0m\u001b[0mraise_missing\u001b[0m\u001b[0;34m)\u001b[0m\u001b[0;34m\u001b[0m\u001b[0;34m\u001b[0m\u001b[0m\n\u001b[0m\u001b[1;32m   1255\u001b[0m         \u001b[0;32mreturn\u001b[0m \u001b[0mkeyarr\u001b[0m\u001b[0;34m,\u001b[0m \u001b[0mindexer\u001b[0m\u001b[0;34m\u001b[0m\u001b[0;34m\u001b[0m\u001b[0m\n\u001b[1;32m   1256\u001b[0m \u001b[0;34m\u001b[0m\u001b[0m\n",
      "\u001b[0;32m/Library/Frameworks/Python.framework/Versions/3.8/lib/python3.8/site-packages/pandas/core/indexing.py\u001b[0m in \u001b[0;36m_validate_read_indexer\u001b[0;34m(self, key, indexer, axis, raise_missing)\u001b[0m\n\u001b[1;32m   1302\u001b[0m             \u001b[0;32mif\u001b[0m \u001b[0mraise_missing\u001b[0m\u001b[0;34m:\u001b[0m\u001b[0;34m\u001b[0m\u001b[0;34m\u001b[0m\u001b[0m\n\u001b[1;32m   1303\u001b[0m                 \u001b[0mnot_found\u001b[0m \u001b[0;34m=\u001b[0m \u001b[0mlist\u001b[0m\u001b[0;34m(\u001b[0m\u001b[0mset\u001b[0m\u001b[0;34m(\u001b[0m\u001b[0mkey\u001b[0m\u001b[0;34m)\u001b[0m \u001b[0;34m-\u001b[0m \u001b[0mset\u001b[0m\u001b[0;34m(\u001b[0m\u001b[0max\u001b[0m\u001b[0;34m)\u001b[0m\u001b[0;34m)\u001b[0m\u001b[0;34m\u001b[0m\u001b[0;34m\u001b[0m\u001b[0m\n\u001b[0;32m-> 1304\u001b[0;31m                 \u001b[0;32mraise\u001b[0m \u001b[0mKeyError\u001b[0m\u001b[0;34m(\u001b[0m\u001b[0;34mf\"{not_found} not in index\"\u001b[0m\u001b[0;34m)\u001b[0m\u001b[0;34m\u001b[0m\u001b[0;34m\u001b[0m\u001b[0m\n\u001b[0m\u001b[1;32m   1305\u001b[0m \u001b[0;34m\u001b[0m\u001b[0m\n\u001b[1;32m   1306\u001b[0m             \u001b[0;31m# we skip the warning on Categorical\u001b[0m\u001b[0;34m\u001b[0m\u001b[0;34m\u001b[0m\u001b[0;34m\u001b[0m\u001b[0m\n",
      "\u001b[0;31mKeyError\u001b[0m: \"['Term_for_LGBM', 'Years in current job upd.2', 'Purpose_for_LGBM', 'Home Ownership_for_LGBM'] not in index\""
     ]
    }
   ],
   "source": [
    "model_lgbm = lgbm.LGBMClassifier()\n",
    "model_lgbm.fit(X_train_res[num_features + cat_features_str_to_int], y_train_res, categorical_feature=[df_new[num_features + cat_features_str_to_int].columns.get_loc(col) for col in cat_features_str_to_int])\n",
    "\n",
    "y_train_pred = model_lgbm.predict(X_train_res[num_features + cat_features_str_to_int])\n",
    "y_test_pred = model_lgbm.predict(X_test[num_features + cat_features_str_to_int])\n",
    "\n",
    "get_classification_report(y_train_res, y_train_pred, y_test, y_test_pred)"
   ]
  },
  {
   "cell_type": "markdown",
   "metadata": {},
   "source": [
    "### CatBoost"
   ]
  },
  {
   "cell_type": "code",
   "execution_count": 2215,
   "metadata": {},
   "outputs": [],
   "source": [
    "importance_features = ['Years of Credit History',\n",
    " 'Maximum Open Credit',\n",
    " 'Number of Credit Problems',\n",
    " 'Current Credit Balance',\n",
    " 'Monthly Debt',\n",
    " 'Current Loan Amount ver.2',\n",
    " 'Annual Income upd.3',\n",
    " 'Credit Score ver.4',\n",
    " 'Years in current job upd.3',\n",
    " 'Purpose',\n",
    " 'Term',\n",
    " 'NEW_1_H-O']"
   ]
  },
  {
   "cell_type": "code",
   "execution_count": 2216,
   "metadata": {},
   "outputs": [
    {
     "name": "stdout",
     "output_type": "stream",
     "text": [
      "TRAIN\n",
      "\n",
      "              precision    recall  f1-score   support\n",
      "\n",
      "           0       0.83      0.47      0.60      3221\n",
      "           1       0.40      0.79      0.53      1469\n",
      "\n",
      "    accuracy                           0.57      4690\n",
      "   macro avg       0.62      0.63      0.57      4690\n",
      "weighted avg       0.70      0.57      0.58      4690\n",
      "\n",
      "TEST\n",
      "\n",
      "              precision    recall  f1-score   support\n",
      "\n",
      "           0       0.85      0.44      0.58      1606\n",
      "           1       0.37      0.80      0.50       644\n",
      "\n",
      "    accuracy                           0.55      2250\n",
      "   macro avg       0.61      0.62      0.54      2250\n",
      "weighted avg       0.71      0.55      0.56      2250\n",
      "\n",
      "CONFUSION MATRIX\n",
      "\n",
      "col_0             0    1\n",
      "Credit Default          \n",
      "0               713  893\n",
      "1               130  514\n",
      "CPU times: user 1.59 s, sys: 144 ms, total: 1.73 s\n",
      "Wall time: 928 ms\n"
     ]
    }
   ],
   "source": [
    "%%time\n",
    "\n",
    "model_catb = catb.CatBoostClassifier(silent=True,\n",
    "                                     n_estimators=300,\n",
    "                                     one_hot_max_size=15,\n",
    "                                     learning_rate=0.006,\n",
    "                                     l2_leaf_reg=2,\n",
    "#                                      iterations=700,\n",
    "                                     depth=5,\n",
    "                                     class_weights=[1, 2.5],\n",
    "                                     cat_features=cat_features_str_2)\n",
    "\n",
    "model_catb.fit(X_train_tom_CB[importance_features], y_train_tom_CB, cat_features=cat_features_str_2)\n",
    "\n",
    "y_train_pred = model_catb.predict(X_train_tom_CB[importance_features])\n",
    "y_test_pred = model_catb.predict(X_test[importance_features])\n",
    "\n",
    "get_classification_report(y_train_tom_CB, y_train_pred, y_test, y_test_pred)"
   ]
  },
  {
   "cell_type": "code",
   "execution_count": 2217,
   "metadata": {},
   "outputs": [
    {
     "data": {
      "text/plain": [
       "0.5012189176011702"
      ]
     },
     "execution_count": 2217,
     "metadata": {},
     "output_type": "execute_result"
    }
   ],
   "source": [
    "f1_score(y_test, y_test_pred)"
   ]
  },
  {
   "cell_type": "code",
   "execution_count": 2218,
   "metadata": {
    "scrolled": false
   },
   "outputs": [
    {
     "data": {
      "text/plain": [
       "Number of Credit Problems      1.788933\n",
       "Purpose                        2.588606\n",
       "Years in current job upd.3     2.637211\n",
       "Annual Income upd.3            3.082459\n",
       "Monthly Debt                   3.511693\n",
       "Current Credit Balance         3.929004\n",
       "Years of Credit History        4.643748\n",
       "Current Loan Amount ver.2      4.949261\n",
       "Maximum Open Credit            6.284261\n",
       "NEW_1_H-O                      6.977602\n",
       "Term                          22.830941\n",
       "Credit Score ver.4            36.776282\n",
       "dtype: float64"
      ]
     },
     "execution_count": 2218,
     "metadata": {},
     "output_type": "execute_result"
    }
   ],
   "source": [
    "pd.Series(model_catb.feature_importances_, index=model_catb.feature_names_).sort_values(0)"
   ]
  },
  {
   "cell_type": "code",
   "execution_count": 2219,
   "metadata": {
    "scrolled": false
   },
   "outputs": [
    {
     "data": {
      "image/png": "[encoded data removed]",
      "text/plain": [
       "<Figure size 1080x360 with 2 Axes>"
      ]
     },
     "metadata": {
      "needs_background": "light"
     },
     "output_type": "display_data"
    },
    {
     "data": {
      "image/png": "[encoded data removed]",
      "text/plain": [
       "<Figure size 360x288 with 1 Axes>"
      ]
     },
     "metadata": {
      "needs_background": "light"
     },
     "output_type": "display_data"
    },
    {
     "name": "stdout",
     "output_type": "stream",
     "text": [
      "best threshold probability = 0.49447236180904525\n",
      "0.5066539923954372\n",
      "----------------------------------------------------------------------\n",
      "f1 on valid set after calibrating = 0.5066539923954372\n",
      "TRAIN\n",
      "\n",
      "              precision    recall  f1-score   support\n",
      "\n",
      "           0       0.83      0.47      0.60      3221\n",
      "           1       0.40      0.79      0.53      1469\n",
      "\n",
      "    accuracy                           0.57      4690\n",
      "   macro avg       0.62      0.63      0.57      4690\n",
      "weighted avg       0.70      0.57      0.58      4690\n",
      "\n",
      "TEST\n",
      "\n",
      "              precision    recall  f1-score   support\n",
      "\n",
      "           0       0.86      0.42      0.57      1606\n",
      "           1       0.37      0.83      0.51       644\n",
      "\n",
      "    accuracy                           0.54      2250\n",
      "   macro avg       0.61      0.63      0.54      2250\n",
      "weighted avg       0.72      0.54      0.55      2250\n",
      "\n",
      "CONFUSION MATRIX\n",
      "\n",
      "col_0             0    1\n",
      "Credit Default          \n",
      "0               679  927\n",
      "1               111  533\n"
     ]
    }
   ],
   "source": [
    "# 3.11.4.калибровка\n",
    "predict_probas = model_catb.predict_proba(X_test[importance_features])\n",
    "show_proba_calibration_plots(predict_probas, y_test, 0.1, 0.9, 20)\n",
    "predict2, threshold_prob = update_predict_by_prob(y_test, predict_probas, 0.4, 0.6, 200, score='f1', show_chart=True)\n",
    "# print(f1_score(y_test, predict))\n",
    "print(f1_score(y_test, predict2))\n",
    "\n",
    "# 3.11.5. результаты\n",
    "print(70*'-')\n",
    "# print(f'f1 on valid set = {f1_score(y_test, predict)}')\n",
    "print(f'f1 on valid set after calibrating = {f1_score(y_test, predict2)}')\n",
    "get_classification_report(y_train_tom_CB, y_train_pred, y_test, predict2)"
   ]
  },
  {
   "cell_type": "code",
   "execution_count": 2220,
   "metadata": {},
   "outputs": [
    {
     "data": {
      "text/plain": [
       "0    4621\n",
       "1    2113\n",
       "Name: Credit Default, dtype: int64"
      ]
     },
     "execution_count": 2220,
     "metadata": {},
     "output_type": "execute_result"
    }
   ],
   "source": [
    "X_tom_CB[importance_features]\n",
    "y_tom_CB.value_counts()"
   ]
  },
  {
   "cell_type": "code",
   "execution_count": 2221,
   "metadata": {},
   "outputs": [
    {
     "name": "stdout",
     "output_type": "stream",
     "text": [
      " Final Model Liniar Regression\n",
      "----------------------------------------------------------------------\n",
      "accuracy on full train set = 0.5579150579150579\n",
      "f1 on full train set = 0.5161709735088574\n",
      "[[2169 2452]\n",
      " [ 525 1588]]\n",
      "              precision    recall  f1-score   support\n",
      "\n",
      "           0       0.81      0.47      0.59      4621\n",
      "           1       0.39      0.75      0.52      2113\n",
      "\n",
      "    accuracy                           0.56      6734\n",
      "   macro avg       0.60      0.61      0.55      6734\n",
      "weighted avg       0.68      0.56      0.57      6734\n",
      "\n",
      "----------------------------------------------------------------------\n",
      "(2500, 1)\n"
     ]
    },
    {
     "data": {
      "text/plain": [
       "Credit Default\n",
       "1                 1492\n",
       "0                 1008\n",
       "dtype: int64"
      ]
     },
     "execution_count": 2221,
     "metadata": {},
     "output_type": "execute_result"
    }
   ],
   "source": [
    "# 4.2. Обучение модели на полном датасете (Liniar Regression)\n",
    "\n",
    "threshold_prob = 0.5178391959798996\n",
    "\n",
    "model = model_lr\n",
    "model.fit(X_tom_CB[lr_features], y_tom_CB)\n",
    "\n",
    "predict_train_probas = model.predict_proba(X_tom_CB[lr_features])\n",
    "predict_train = np.array([1 if x>=threshold_prob else 0 for x in predict_train_probas[:,1]])\n",
    "\n",
    "print(' Final Model Liniar Regression')\n",
    "print(70*'-')\n",
    "print(f'accuracy on full train set = {accuracy_score(y_tom_CB, predict_train)}')\n",
    "print(f'f1 on full train set = {f1_score(y_tom_CB, predict_train)}')\n",
    "print(confusion_matrix(y_tom_CB, predict_train))\n",
    "print(classification_report(y_tom_CB, predict_train))\n",
    "print(70*'-')\n",
    "\n",
    "y_pred_probas = model.predict_proba(df_test_new[lr_features])\n",
    "y_pred = np.array([1 if x>=threshold_prob else 0 for x in y_pred_probas[:, 1]])\n",
    "y_pred = pd.DataFrame(y_pred, columns=[TARGET_NAME])\n",
    "\n",
    "print(y_pred.shape)\n",
    "y_pred.value_counts()"
   ]
  },
  {
   "cell_type": "code",
   "execution_count": 2222,
   "metadata": {},
   "outputs": [],
   "source": [
    "filename = 'Navoyan_2810_catb.csv'\n",
    "y_pred.to_csv(filename, index=None)"
   ]
  },
  {
   "cell_type": "code",
   "execution_count": 2223,
   "metadata": {},
   "outputs": [
    {
     "name": "stdout",
     "output_type": "stream",
     "text": [
      " Final Model CAT-BOOST\n",
      "----------------------------------------------------------------------\n",
      "accuracy on full train set = 0.581972081972082\n",
      "f1 on full train set = 0.5347876384068748\n",
      "[[2301 2320]\n",
      " [ 495 1618]]\n",
      "              precision    recall  f1-score   support\n",
      "\n",
      "           0       0.82      0.50      0.62      4621\n",
      "           1       0.41      0.77      0.53      2113\n",
      "\n",
      "    accuracy                           0.58      6734\n",
      "   macro avg       0.62      0.63      0.58      6734\n",
      "weighted avg       0.69      0.58      0.59      6734\n",
      "\n",
      "----------------------------------------------------------------------\n",
      "(2500, 1)\n"
     ]
    },
    {
     "data": {
      "text/plain": [
       "Credit Default\n",
       "1                 1470\n",
       "0                 1030\n",
       "dtype: int64"
      ]
     },
     "execution_count": 2223,
     "metadata": {},
     "output_type": "execute_result"
    }
   ],
   "source": [
    "# 4.2. Обучение модели на полном датасете (CAT_BOOST)\n",
    "\n",
    "threshold_prob = 0.5165829145728643\n",
    "\n",
    "model = model_catb\n",
    "model.fit(X_tom_CB[importance_features], y_tom_CB)\n",
    "\n",
    "predict_train_probas = model.predict_proba(X_tom_CB[importance_features])\n",
    "predict_train = np.array([1 if x>=threshold_prob else 0 for x in predict_train_probas[:,1]])\n",
    "\n",
    "print(' Final Model CAT-BOOST')\n",
    "print(70*'-')\n",
    "print(f'accuracy on full train set = {accuracy_score(y_tom_CB, predict_train)}')\n",
    "print(f'f1 on full train set = {f1_score(y_tom_CB, predict_train)}')\n",
    "print(confusion_matrix(y_tom_CB, predict_train))\n",
    "print(classification_report(y_tom_CB, predict_train))\n",
    "print(70*'-')\n",
    "\n",
    "y_pred_probas = model.predict_proba(df_test_new[importance_features])\n",
    "y_pred = np.array([1 if x>=threshold_prob else 0 for x in y_pred_probas[:, 1]])\n",
    "y_pred = pd.DataFrame(y_pred, columns=[TARGET_NAME])\n",
    "\n",
    "print(y_pred.shape)\n",
    "y_pred.value_counts()"
   ]
  },
  {
   "cell_type": "code",
   "execution_count": 2224,
   "metadata": {},
   "outputs": [],
   "source": [
    "filename = 'Navoyan_2810_LR.csv'\n",
    "y_pred.to_csv(filename, index=None)"
   ]
  },
  {
   "cell_type": "code",
   "execution_count": null,
   "metadata": {},
   "outputs": [],
   "source": []
  },
  {
   "cell_type": "code",
   "execution_count": null,
   "metadata": {},
   "outputs": [],
   "source": []
  },
  {
   "cell_type": "code",
   "execution_count": null,
   "metadata": {},
   "outputs": [],
   "source": []
  },
  {
   "cell_type": "code",
   "execution_count": null,
   "metadata": {},
   "outputs": [],
   "source": []
  },
  {
   "cell_type": "code",
   "execution_count": null,
   "metadata": {},
   "outputs": [],
   "source": []
  },
  {
   "cell_type": "code",
   "execution_count": null,
   "metadata": {},
   "outputs": [],
   "source": []
  },
  {
   "cell_type": "code",
   "execution_count": null,
   "metadata": {},
   "outputs": [],
   "source": []
  }
 ],
 "metadata": {
  "kernelspec": {
   "display_name": "Python 3",
   "language": "python",
   "name": "python3"
  },
  "language_info": {
   "codemirror_mode": {
    "name": "ipython",
    "version": 3
   },
   "file_extension": ".py",
   "mimetype": "text/x-python",
   "name": "python",
   "nbconvert_exporter": "python",
   "pygments_lexer": "ipython3",
   "version": "3.8.5"
  }
 },
 "nbformat": 4,
 "nbformat_minor": 4
}
