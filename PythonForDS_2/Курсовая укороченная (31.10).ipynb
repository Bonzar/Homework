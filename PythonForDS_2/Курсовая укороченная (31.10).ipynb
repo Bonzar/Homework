{
 "cells": [
  {
   "cell_type": "markdown",
   "metadata": {},
   "source": [
    "# Курсовая работа"
   ]
  },
  {
   "cell_type": "code",
   "execution_count": 84,
   "metadata": {},
   "outputs": [],
   "source": [
    "import numpy as np\n",
    "import pandas as pd\n",
    "import scipy as sc\n",
    "import matplotlib.pyplot as plt\n",
    "import seaborn as sns\n",
    "import time\n",
    "import warnings\n",
    "import pickle\n",
    "from sklearn.model_selection import train_test_split\n",
    "\n",
    "%matplotlib inline\n",
    "warnings.filterwarnings('ignore')"
   ]
  },
  {
   "cell_type": "code",
   "execution_count": 85,
   "metadata": {},
   "outputs": [],
   "source": [
    "from sklearn.svm import SVC, LinearSVC\n",
    "from sklearn.linear_model import LogisticRegression\n",
    "from sklearn.naive_bayes import GaussianNB\n",
    "from sklearn.ensemble import RandomForestClassifier\n",
    "from sklearn.model_selection import GridSearchCV\n",
    "import xgboost as xgb, lightgbm as lgbm, catboost as catb\n",
    "from sklearn.metrics import classification_report, f1_score, confusion_matrix\n",
    "from sklearn.metrics import accuracy_score, recall_score, precision_score\n",
    "from sklearn.model_selection import KFold\n",
    "from imblearn.over_sampling import SMOTE, SMOTENC, ADASYN, RandomOverSampler\n",
    "from imblearn.under_sampling import TomekLinks\n",
    "import itertools\n",
    "from imblearn.pipeline import Pipeline as SM_Pipeline\n",
    "from sklearn.metrics import roc_curve, auc\n",
    "from sklearn.ensemble import AdaBoostClassifier\n",
    "from sklearn.neighbors import KNeighborsClassifier\n",
    "\n",
    "from sklearn.preprocessing import StandardScaler"
   ]
  },
  {
   "cell_type": "code",
   "execution_count": 87,
   "metadata": {},
   "outputs": [],
   "source": [
    "# 3.4. Пользовательские функции\n",
    "def parse_params(param_grid, model_label):\n",
    "    param_dict = dict()\n",
    "    for key, value in param_grid.items():\n",
    "        param_dict[model_label+\"__\"+key] = value\n",
    "    return param_dict\n",
    "\n",
    "\n",
    "def show_proba_calibration_plots(y_predicted_probs, y_true_labels, p_min, p_max, p_step):\n",
    "    y_predicted_probs = y_predicted_probs[:,1]\n",
    "    preds_with_true_labels = np.array(list(zip(y_predicted_probs, y_true_labels)))\n",
    "\n",
    "    thresholds = []\n",
    "    precisions = []\n",
    "    recalls = []\n",
    "    f1_scores = []\n",
    "\n",
    "    for threshold in np.linspace(p_min, p_max, p_step):\n",
    "        thresholds.append(threshold)\n",
    "        precisions.append(precision_score(y_true_labels, list(map(int, y_predicted_probs > threshold))))\n",
    "        recalls.append(recall_score(y_true_labels, list(map(int, y_predicted_probs > threshold))))\n",
    "        f1_scores.append(f1_score(y_true_labels, list(map(int, y_predicted_probs > threshold))))\n",
    "\n",
    "    scores_table = pd.DataFrame({'f1':f1_scores,\n",
    "                                 'precision':precisions,\n",
    "                                 'recall':recalls,\n",
    "                                 'probability':thresholds}).sort_values('f1', ascending=False).round(3)\n",
    "  \n",
    "    figure = plt.figure(figsize = (15, 5))\n",
    "\n",
    "    plt1 = figure.add_subplot(121)\n",
    "    plt1.plot(thresholds, precisions, label='Precision', linewidth=4)\n",
    "    plt1.plot(thresholds, recalls, label='Recall', linewidth=4)\n",
    "    plt1.plot(thresholds, f1_scores, label='F1', linewidth=4)\n",
    "    plt1.set_ylabel('Scores')\n",
    "    plt1.set_xlabel('Probability threshold')\n",
    "    plt1.set_title('Probabilities threshold calibration')\n",
    "    plt1.legend(bbox_to_anchor=(0.25, 0.25))   \n",
    "    plt1.table(cellText = scores_table.values,\n",
    "               colLabels = scores_table.columns, \n",
    "               colLoc = 'center', cellLoc = 'center', loc = 'bottom', bbox = [0, -1.3, 1, 1])\n",
    "\n",
    "    plt2 = figure.add_subplot(122)\n",
    "    plt2.hist(preds_with_true_labels[preds_with_true_labels[:, 1] == 0][:, 0], \n",
    "              label='Another class', color='royalblue', alpha=1)\n",
    "    plt2.hist(preds_with_true_labels[preds_with_true_labels[:, 1] == 1][:, 0], \n",
    "              label='Main class', color='darkcyan', alpha=0.8)\n",
    "    plt2.set_ylabel('Number of examples')\n",
    "    plt2.set_xlabel('Probabilities')\n",
    "    plt2.set_title('Probability histogram')\n",
    "    plt2.legend(bbox_to_anchor=(1, 1))\n",
    "\n",
    "    plt.show()\n",
    "    \n",
    "    \n",
    "def update_predict_by_prob(y_true, predict_probas, prob_min, prob_max, prob_steps, score='f1', show_chart=False):\n",
    "    if score=='f1':\n",
    "        score_estimator = f1_score\n",
    "    elif score=='accuracy':\n",
    "        score_estimator = accuracy_score\n",
    "    else:\n",
    "        print('wrong score name')\n",
    "        return None\n",
    "    prob_range = np.linspace(prob_min, prob_max, prob_steps)\n",
    "    scores = []\n",
    "    for p in prob_range:\n",
    "        predict_rebalanced = np.array([1 if x>=p else 0 for x in predict_probas[:,1]])\n",
    "        scores.append(score_estimator(y_true, predict_rebalanced))\n",
    "    if show_chart:\n",
    "        figure = plt.figure(figsize = (5, 4))\n",
    "        plt.ylabel('Scores')\n",
    "        plt.xlabel('Probability threshold')\n",
    "        plt.plot(prob_range, scores, label=score, linewidth=4)\n",
    "        plt.title(\"Best Threshold Probability Search\")\n",
    "        plt.show()\n",
    "    scores = np.array(scores)\n",
    "    best_prob = prob_range[scores.argmax()]\n",
    "    print(f'best threshold probability = {best_prob}')\n",
    "    predict_rebalanced_final = np.array([1 if x>=best_prob else 0 for x in predict_probas[:,1]])\n",
    "    return predict_rebalanced_final, best_prob"
   ]
  },
  {
   "cell_type": "code",
   "execution_count": 143,
   "metadata": {},
   "outputs": [],
   "source": [
    "def get_classification_report(y_train_true, y_train_pred, y_test_true, y_test_pred):\n",
    "    print('TRAIN\\n\\n' + classification_report(y_train_true, y_train_pred))\n",
    "    print('TEST\\n\\n' + classification_report(y_test_true, y_test_pred))\n",
    "    print('CONFUSION MATRIX\\n')\n",
    "    print(pd.crosstab(y_test_true, y_test_pred))"
   ]
  },
  {
   "cell_type": "markdown",
   "metadata": {},
   "source": [
    "## Загрузка данных"
   ]
  },
  {
   "cell_type": "code",
   "execution_count": 88,
   "metadata": {},
   "outputs": [],
   "source": [
    "PATH_COURSE_PROJECT_DATASET_TRAIN = 'course_project/course_project_train.csv'\n",
    "PATH_COURSE_PROJECT_DATASET_TEST = 'course_project/course_project_test.csv'\n",
    "\n",
    "PATH_COURSE_PROJECT_DATASET_TRAIN_5943 = 'course_project/course_project_train_5943.csv'\n",
    "PATH_COURSE_PROJECT_DATASET_TEST_5943 = 'course_project/course_project_test_5943.csv'\n",
    "\n",
    "PATH_COURSE_PROJECT_DATASET_TRAIN_PREP = 'course_project/course_project_train_prep.csv'\n",
    "PATH_COURSE_PROJECT_DATASET_TEST_PREP = 'course_project/course_project_test_prep.csv'\n",
    "\n",
    "PATH_COURSE_PROJECT_DATASET_TRAIN_5943_PREP = 'course_project/course_project_train_prep_5943.csv'\n",
    "PATH_COURSE_PROJECT_DATASET_TEST_5943_PREP = 'course_project/course_project_test_prep_5943.csv'\n",
    "\n",
    "SCALER_FILE_PATH = 'scaler.pkl'"
   ]
  },
  {
   "cell_type": "code",
   "execution_count": 89,
   "metadata": {},
   "outputs": [],
   "source": [
    "df = pd.read_csv(PATH_COURSE_PROJECT_DATASET_TRAIN)\n",
    "df_test = pd.read_csv(PATH_COURSE_PROJECT_DATASET_TEST)"
   ]
  },
  {
   "cell_type": "markdown",
   "metadata": {},
   "source": [
    "### Изменим строковый тип данных в 'Years in current job' и заменим его на числовой"
   ]
  },
  {
   "cell_type": "code",
   "execution_count": 90,
   "metadata": {},
   "outputs": [],
   "source": [
    "for dataset in [df, df_test]:\n",
    "    dataset['Years in current job empty'] = dataset['Years in current job']\n",
    "    for i in dataset['Years in current job'].value_counts().index.to_list():    \n",
    "        if i[:2] == '10':\n",
    "            dataset.loc[dataset['Years in current job'] == i, 'Years in current job'] = 10\n",
    "        elif i[0] == '<':\n",
    "            dataset.loc[dataset['Years in current job'] == i, 'Years in current job'] = 0\n",
    "        else:\n",
    "            dataset.loc[dataset['Years in current job'] == i, 'Years in current job'] = i[0]\n",
    "    \n",
    "    dataset['Years in current job'] = dataset['Years in current job'].fillna(100)\n",
    "    dataset['Years in current job'] = dataset['Years in current job'].astype('int64')\n",
    "    dataset['Years in current job'].loc[dataset['Years in current job'] == 100] = None"
   ]
  },
  {
   "cell_type": "code",
   "execution_count": 91,
   "metadata": {},
   "outputs": [],
   "source": [
    "cont_cols = df.select_dtypes(include=['float']).columns.tolist()\n",
    "cont_cols.remove('Months since last delinquent')\n",
    "\n",
    "cat_cols = df.select_dtypes(include=['object']).columns.tolist()\n",
    "\n",
    "TARGET = ['Credit Default']"
   ]
  },
  {
   "cell_type": "markdown",
   "metadata": {},
   "source": [
    "## Разложим категориальные признаки на дамми переменные"
   ]
  },
  {
   "cell_type": "code",
   "execution_count": 92,
   "metadata": {},
   "outputs": [],
   "source": [
    "df = pd.concat([df, pd.get_dummies(df[['Term', 'Purpose', 'Home Ownership']])], axis=1)\n",
    "df_test = pd.concat([df_test, pd.get_dummies(df_test[['Term', 'Purpose', 'Home Ownership']])],  axis=1)"
   ]
  },
  {
   "cell_type": "code",
   "execution_count": 93,
   "metadata": {},
   "outputs": [],
   "source": [
    "dummy_cols = df.select_dtypes(include=['uint8']).columns.tolist()"
   ]
  },
  {
   "cell_type": "code",
   "execution_count": 94,
   "metadata": {},
   "outputs": [],
   "source": [
    "Purpose_add_col_test = set(df[\"Purpose\"].unique()) - set(df_test[\"Purpose\"].unique())\n",
    "for i in Purpose_add_col_test:\n",
    "    df_test = pd.concat([df_test, pd.DataFrame([0]*len(df_test), columns=[f'Purpose_{i}'])], axis=1)\n",
    "        \n",
    "Purpose_add_col_train = set(df_test[\"Purpose\"].unique()) - set(df[\"Purpose\"].unique())\n",
    "for i in Purpose_add_col_train:\n",
    "    df = pd.concat([df, pd.DataFrame([0]*len(df), columns=[f'Purpose_{i}'])], axis=1)"
   ]
  },
  {
   "cell_type": "markdown",
   "metadata": {},
   "source": [
    "# Обрабатываем выбросы"
   ]
  },
  {
   "cell_type": "markdown",
   "metadata": {},
   "source": [
    "## Credit Score"
   ]
  },
  {
   "cell_type": "code",
   "execution_count": 95,
   "metadata": {},
   "outputs": [
    {
     "data": {
      "text/plain": [
       "69     6470.0\n",
       "87     7440.0\n",
       "94     7010.0\n",
       "96     7320.0\n",
       "116    7390.0\n",
       "Name: Credit Score, dtype: float64"
      ]
     },
     "execution_count": 95,
     "metadata": {},
     "output_type": "execute_result"
    }
   ],
   "source": [
    "credit_score_err = df['Credit Score'].loc[(df['Credit Score'] != 0) & ((df['Credit Score'] <= 350) | (df['Credit Score'] >= 850))]\n",
    "credit_score_err_test = df_test['Credit Score'].loc[(df_test['Credit Score'] != 0) & ((df_test['Credit Score'] <= 350) | (df_test['Credit Score'] >= 850))]\n",
    "credit_score_err.head()"
   ]
  },
  {
   "cell_type": "markdown",
   "metadata": {},
   "source": [
    "**Добавляем столбец с изменнёнными данными**"
   ]
  },
  {
   "cell_type": "code",
   "execution_count": 96,
   "metadata": {},
   "outputs": [],
   "source": [
    "df['Credit Score old'] = df['Credit Score']\n",
    "df['Credit Score'].iloc[credit_score_err.index] = df['Credit Score'].iloc[credit_score_err.index] / 10"
   ]
  },
  {
   "cell_type": "code",
   "execution_count": 97,
   "metadata": {},
   "outputs": [],
   "source": [
    "df_test['Credit Score old'] = df_test['Credit Score']\n",
    "df_test['Credit Score'].iloc[credit_score_err_test.index] = df_test['Credit Score'].iloc[credit_score_err_test.index] / 10"
   ]
  },
  {
   "cell_type": "markdown",
   "metadata": {},
   "source": [
    "## Current Loan Amount"
   ]
  },
  {
   "cell_type": "code",
   "execution_count": 98,
   "metadata": {},
   "outputs": [],
   "source": [
    "df['Current Loan Amount'][df['Current Loan Amount'] == 99999999.0] = None\n",
    "df_test['Current Loan Amount'][df_test['Current Loan Amount'] == 99999999.0] = None"
   ]
  },
  {
   "cell_type": "markdown",
   "metadata": {},
   "source": [
    "## Замена пропусков моделью KNN imputer"
   ]
  },
  {
   "cell_type": "code",
   "execution_count": 99,
   "metadata": {},
   "outputs": [],
   "source": [
    "from sklearn.impute import KNNImputer"
   ]
  },
  {
   "cell_type": "code",
   "execution_count": 100,
   "metadata": {},
   "outputs": [],
   "source": [
    "imputer = KNNImputer()"
   ]
  },
  {
   "cell_type": "code",
   "execution_count": 101,
   "metadata": {},
   "outputs": [
    {
     "data": {
      "text/plain": [
       "KNNImputer()"
      ]
     },
     "execution_count": 101,
     "metadata": {},
     "output_type": "execute_result"
    }
   ],
   "source": [
    "df['Bankruptcies empty'] = df['Bankruptcies']\n",
    "df_test['Bankruptcies empty'] = df_test['Bankruptcies']\n",
    "df_test['Annual Income empty'] = df_test['Annual Income']\n",
    "df_test['Credit Score empty'] = df_test['Credit Score']\n",
    "\n",
    "imputer.fit(df[dummy_cols + cont_cols])"
   ]
  },
  {
   "cell_type": "markdown",
   "metadata": {},
   "source": [
    "### Можно заметить что в Credit Score и Annual Income одиноковое количество пропусков\n",
    "проверим совпадают ли они"
   ]
  },
  {
   "cell_type": "code",
   "execution_count": 102,
   "metadata": {},
   "outputs": [
    {
     "data": {
      "text/html": [
       "<div>\n",
       "<style scoped>\n",
       "    .dataframe tbody tr th:only-of-type {\n",
       "        vertical-align: middle;\n",
       "    }\n",
       "\n",
       "    .dataframe tbody tr th {\n",
       "        vertical-align: top;\n",
       "    }\n",
       "\n",
       "    .dataframe thead th {\n",
       "        text-align: right;\n",
       "    }\n",
       "</style>\n",
       "<table border=\"1\" class=\"dataframe\">\n",
       "  <thead>\n",
       "    <tr style=\"text-align: right;\">\n",
       "      <th></th>\n",
       "      <th>Credit Score</th>\n",
       "      <th>Annual Income</th>\n",
       "    </tr>\n",
       "  </thead>\n",
       "  <tbody>\n",
       "    <tr>\n",
       "      <th>5</th>\n",
       "      <td>NaN</td>\n",
       "      <td>NaN</td>\n",
       "    </tr>\n",
       "    <tr>\n",
       "      <th>8</th>\n",
       "      <td>NaN</td>\n",
       "      <td>NaN</td>\n",
       "    </tr>\n",
       "    <tr>\n",
       "      <th>9</th>\n",
       "      <td>NaN</td>\n",
       "      <td>NaN</td>\n",
       "    </tr>\n",
       "    <tr>\n",
       "      <th>10</th>\n",
       "      <td>NaN</td>\n",
       "      <td>NaN</td>\n",
       "    </tr>\n",
       "    <tr>\n",
       "      <th>16</th>\n",
       "      <td>NaN</td>\n",
       "      <td>NaN</td>\n",
       "    </tr>\n",
       "    <tr>\n",
       "      <th>...</th>\n",
       "      <td>...</td>\n",
       "      <td>...</td>\n",
       "    </tr>\n",
       "    <tr>\n",
       "      <th>7482</th>\n",
       "      <td>NaN</td>\n",
       "      <td>NaN</td>\n",
       "    </tr>\n",
       "    <tr>\n",
       "      <th>7492</th>\n",
       "      <td>NaN</td>\n",
       "      <td>NaN</td>\n",
       "    </tr>\n",
       "    <tr>\n",
       "      <th>7494</th>\n",
       "      <td>NaN</td>\n",
       "      <td>NaN</td>\n",
       "    </tr>\n",
       "    <tr>\n",
       "      <th>7498</th>\n",
       "      <td>NaN</td>\n",
       "      <td>NaN</td>\n",
       "    </tr>\n",
       "    <tr>\n",
       "      <th>7499</th>\n",
       "      <td>NaN</td>\n",
       "      <td>NaN</td>\n",
       "    </tr>\n",
       "  </tbody>\n",
       "</table>\n",
       "<p>1557 rows × 2 columns</p>\n",
       "</div>"
      ],
      "text/plain": [
       "      Credit Score  Annual Income\n",
       "5              NaN            NaN\n",
       "8              NaN            NaN\n",
       "9              NaN            NaN\n",
       "10             NaN            NaN\n",
       "16             NaN            NaN\n",
       "...            ...            ...\n",
       "7482           NaN            NaN\n",
       "7492           NaN            NaN\n",
       "7494           NaN            NaN\n",
       "7498           NaN            NaN\n",
       "7499           NaN            NaN\n",
       "\n",
       "[1557 rows x 2 columns]"
      ]
     },
     "execution_count": 102,
     "metadata": {},
     "output_type": "execute_result"
    }
   ],
   "source": [
    "df.loc[(df['Credit Score'].isna() == True) & (df['Annual Income'].isna() == True), ['Credit Score', 'Annual Income']]"
   ]
  },
  {
   "cell_type": "markdown",
   "metadata": {},
   "source": [
    "совпадают ли в тесте?"
   ]
  },
  {
   "cell_type": "code",
   "execution_count": 103,
   "metadata": {},
   "outputs": [
    {
     "data": {
      "text/html": [
       "<div>\n",
       "<style scoped>\n",
       "    .dataframe tbody tr th:only-of-type {\n",
       "        vertical-align: middle;\n",
       "    }\n",
       "\n",
       "    .dataframe tbody tr th {\n",
       "        vertical-align: top;\n",
       "    }\n",
       "\n",
       "    .dataframe thead th {\n",
       "        text-align: right;\n",
       "    }\n",
       "</style>\n",
       "<table border=\"1\" class=\"dataframe\">\n",
       "  <thead>\n",
       "    <tr style=\"text-align: right;\">\n",
       "      <th></th>\n",
       "      <th>Credit Score</th>\n",
       "      <th>Annual Income</th>\n",
       "    </tr>\n",
       "  </thead>\n",
       "  <tbody>\n",
       "    <tr>\n",
       "      <th>0</th>\n",
       "      <td>NaN</td>\n",
       "      <td>NaN</td>\n",
       "    </tr>\n",
       "    <tr>\n",
       "      <th>8</th>\n",
       "      <td>NaN</td>\n",
       "      <td>NaN</td>\n",
       "    </tr>\n",
       "    <tr>\n",
       "      <th>16</th>\n",
       "      <td>NaN</td>\n",
       "      <td>NaN</td>\n",
       "    </tr>\n",
       "    <tr>\n",
       "      <th>20</th>\n",
       "      <td>NaN</td>\n",
       "      <td>NaN</td>\n",
       "    </tr>\n",
       "    <tr>\n",
       "      <th>27</th>\n",
       "      <td>NaN</td>\n",
       "      <td>NaN</td>\n",
       "    </tr>\n",
       "    <tr>\n",
       "      <th>...</th>\n",
       "      <td>...</td>\n",
       "      <td>...</td>\n",
       "    </tr>\n",
       "    <tr>\n",
       "      <th>2469</th>\n",
       "      <td>NaN</td>\n",
       "      <td>NaN</td>\n",
       "    </tr>\n",
       "    <tr>\n",
       "      <th>2475</th>\n",
       "      <td>NaN</td>\n",
       "      <td>NaN</td>\n",
       "    </tr>\n",
       "    <tr>\n",
       "      <th>2479</th>\n",
       "      <td>NaN</td>\n",
       "      <td>NaN</td>\n",
       "    </tr>\n",
       "    <tr>\n",
       "      <th>2487</th>\n",
       "      <td>NaN</td>\n",
       "      <td>NaN</td>\n",
       "    </tr>\n",
       "    <tr>\n",
       "      <th>2496</th>\n",
       "      <td>NaN</td>\n",
       "      <td>NaN</td>\n",
       "    </tr>\n",
       "  </tbody>\n",
       "</table>\n",
       "<p>513 rows × 2 columns</p>\n",
       "</div>"
      ],
      "text/plain": [
       "      Credit Score  Annual Income\n",
       "0              NaN            NaN\n",
       "8              NaN            NaN\n",
       "16             NaN            NaN\n",
       "20             NaN            NaN\n",
       "27             NaN            NaN\n",
       "...            ...            ...\n",
       "2469           NaN            NaN\n",
       "2475           NaN            NaN\n",
       "2479           NaN            NaN\n",
       "2487           NaN            NaN\n",
       "2496           NaN            NaN\n",
       "\n",
       "[513 rows x 2 columns]"
      ]
     },
     "execution_count": 103,
     "metadata": {},
     "output_type": "execute_result"
    }
   ],
   "source": [
    "df_test.loc[(df_test['Credit Score'].isna() == True) & (df_test['Annual Income'].isna() == True), ['Credit Score', 'Annual Income']]"
   ]
  },
  {
   "cell_type": "markdown",
   "metadata": {},
   "source": [
    "### Пропуски совпадают, создадим отдельный датасет где выбросим их\n",
    "Далее будем работать с этим датасетом, так что сделаем его основным, а оригинальный запишем под другим именем"
   ]
  },
  {
   "cell_type": "code",
   "execution_count": 104,
   "metadata": {},
   "outputs": [],
   "source": [
    "df_org = df\n",
    "df = df.iloc[df['Credit Score'].dropna().index]"
   ]
  },
  {
   "cell_type": "code",
   "execution_count": 105,
   "metadata": {},
   "outputs": [],
   "source": [
    "df_org['Annual Income empty'] = df_org['Annual Income']\n",
    "df_org['Credit Score empty'] = df_org['Credit Score']"
   ]
  },
  {
   "cell_type": "markdown",
   "metadata": {},
   "source": [
    "Заполняем пустые значения"
   ]
  },
  {
   "cell_type": "code",
   "execution_count": 106,
   "metadata": {},
   "outputs": [],
   "source": [
    "def fill_none(dataset):\n",
    "    dataset[dummy_cols + cont_cols] = imputer.transform(dataset[dummy_cols + cont_cols])\n",
    "    dataset['Years in current job'] = round(dataset['Years in current job'])\n",
    "    dataset['Current Loan Amount'] = round(dataset['Current Loan Amount'])\n",
    "    dataset['Bankruptcies'] = round(dataset['Bankruptcies'])\n",
    "    return dataset.copy()"
   ]
  },
  {
   "cell_type": "code",
   "execution_count": 107,
   "metadata": {},
   "outputs": [],
   "source": [
    "df = fill_none(df)\n",
    "df_org = fill_none(df_org)\n",
    "df_test = fill_none(df_test)"
   ]
  },
  {
   "cell_type": "code",
   "execution_count": 108,
   "metadata": {},
   "outputs": [],
   "source": [
    "TARGET = TARGET[0]"
   ]
  },
  {
   "cell_type": "code",
   "execution_count": 109,
   "metadata": {},
   "outputs": [],
   "source": [
    "from scipy.stats import shapiro\n",
    "from scipy.stats import probplot\n",
    "from scipy.stats import ttest_ind, mannwhitneyu\n",
    "from scipy.stats import chi2_contingency\n",
    "from statsmodels.stats.weightstats import zconfint"
   ]
  },
  {
   "cell_type": "markdown",
   "metadata": {},
   "source": [
    "# Оценка признака \"Home Ownership\" в разрезе целевой переменной"
   ]
  },
  {
   "cell_type": "markdown",
   "metadata": {},
   "source": [
    "### Уменьшим количество категорий"
   ]
  },
  {
   "cell_type": "code",
   "execution_count": 110,
   "metadata": {},
   "outputs": [],
   "source": [
    "for dataset in [df, df_test, df_org]:\n",
    "    dataset['Home Ownership ver.2'] = dataset['Home Ownership']\n",
    "    dataset.loc[dataset['Home Ownership ver.2'] == 'Rent', ['Home Ownership ver.2']] = 'Own Home'\n",
    "    dataset.loc[dataset['Home Ownership ver.2'] == 'Have Mortgage', ['Home Ownership ver.2']] = 'Home Mortgage'"
   ]
  },
  {
   "cell_type": "markdown",
   "metadata": {},
   "source": [
    "# Оценка признака \"Purpose\" в разрезе целевой переменной"
   ]
  },
  {
   "cell_type": "code",
   "execution_count": 111,
   "metadata": {},
   "outputs": [],
   "source": [
    "df_ID = df.copy()\n",
    "df_ID['ID'] = df_ID.index"
   ]
  },
  {
   "cell_type": "code",
   "execution_count": 112,
   "metadata": {},
   "outputs": [],
   "source": [
    "df_ID.loc[df_ID['Purpose'].isin(['home improvements', 'business loan', 'small business']), ['Purpose']] = 'debt consolidation'\n",
    "df_ID.loc[df_ID['Purpose'].isin(['buy house', 'moving', 'wedding', 'take a trip', 'buy a car', 'vacation', 'major purchase']), ['Purpose']] = 'other'"
   ]
  },
  {
   "cell_type": "code",
   "execution_count": 113,
   "metadata": {},
   "outputs": [],
   "source": [
    "df['Purpose ver.2'] = df_ID['Purpose']\n",
    "df_test['Purpose ver.2'] = df_test['Purpose']\n",
    "df_org['Purpose ver.2'] = df_org['Purpose']\n",
    "\n",
    "df_test.loc[df_test['Purpose ver.2'].isin(['buy house', 'moving', 'wedding', 'take a trip', 'buy a car', 'vacation', 'major purchase']), ['Purpose ver.2']] = 'other'\n",
    "df_test.loc[df_test['Purpose ver.2'].isin(['home improvements', 'business loan', 'small business']), ['Purpose ver.2']] = 'debt consolidation'\n",
    "\n",
    "df_org.loc[df_org['Purpose ver.2'].isin(['renewable energy', 'buy house', 'moving', 'wedding', 'take a trip', 'buy a car', 'vacation', 'major purchase']), ['Purpose ver.2']] = 'other'\n",
    "df_org.loc[df_org['Purpose ver.2'].isin(['home improvements', 'business loan', 'small business']), ['Purpose ver.2']] = 'debt consolidation'"
   ]
  },
  {
   "cell_type": "markdown",
   "metadata": {},
   "source": [
    "**Разложим новые стобцы Home Ownership и Purpose на дамми переменные и запишим их названия в отдельный список**"
   ]
  },
  {
   "cell_type": "code",
   "execution_count": 114,
   "metadata": {},
   "outputs": [],
   "source": [
    "dummy_cols_2 = dummy_cols[:1] + pd.get_dummies(df[['Purpose ver.2', 'Home Ownership ver.2']], drop_first=True).columns.tolist()\n",
    "\n",
    "df = pd.concat([df, pd.get_dummies(df[['Purpose ver.2', 'Home Ownership ver.2']])], axis=1)\n",
    "df[['Purpose ver.2', 'Home Ownership ver.2']] = df[['Purpose ver.2', 'Home Ownership ver.2']].astype('object')"
   ]
  },
  {
   "cell_type": "code",
   "execution_count": 115,
   "metadata": {},
   "outputs": [],
   "source": [
    "df_test = pd.concat([df_test, pd.get_dummies(df_test[['Purpose ver.2', 'Home Ownership ver.2']])], axis=1)\n",
    "df_test[['Purpose ver.2', 'Home Ownership ver.2']] = df_test[['Purpose ver.2', 'Home Ownership ver.2']].astype('object')"
   ]
  },
  {
   "cell_type": "code",
   "execution_count": 116,
   "metadata": {},
   "outputs": [],
   "source": [
    "df_org = pd.concat([df_org, pd.get_dummies(df_org[['Purpose ver.2', 'Home Ownership ver.2']])], axis=1)\n",
    "df_org[['Purpose ver.2', 'Home Ownership ver.2']] = df_org[['Purpose ver.2', 'Home Ownership ver.2']].astype('object')"
   ]
  },
  {
   "cell_type": "markdown",
   "metadata": {},
   "source": [
    "## Заменим выбросы (слишком большие значения) в тестовых данных на максимальные значения из трейна"
   ]
  },
  {
   "cell_type": "code",
   "execution_count": 117,
   "metadata": {},
   "outputs": [],
   "source": [
    "df_test.loc[(df_test['Number of Credit Problems'] > 7) | (df_test['Tax Liens'] > 7),\n",
    "            ['Number of Credit Problems', 'Tax Liens']] = 7"
   ]
  },
  {
   "cell_type": "markdown",
   "metadata": {},
   "source": [
    "## Создадим новый признак процентной сосотовляющей Monthly Debt от Current Loan Amount\n",
    "сохраним его под именем Monthly Debt так как процентный признак стабильнее, но и старый оставим"
   ]
  },
  {
   "cell_type": "code",
   "execution_count": 118,
   "metadata": {},
   "outputs": [],
   "source": [
    "def percent_monthly_debt(dataset):\n",
    "    dataset['Monthly Debt old'] = dataset['Monthly Debt']\n",
    "    for n in dataset.index:\n",
    "        dataset['Monthly Debt'].loc[n] = dataset['Current Loan Amount'].loc[n] / dataset['Monthly Debt'].loc[n] if dataset['Monthly Debt'].loc[n] != 0 else 0 "
   ]
  },
  {
   "cell_type": "code",
   "execution_count": 119,
   "metadata": {},
   "outputs": [],
   "source": [
    "percent_monthly_debt(df)\n",
    "percent_monthly_debt(df_org)\n",
    "percent_monthly_debt(df_test)"
   ]
  },
  {
   "cell_type": "markdown",
   "metadata": {},
   "source": [
    "# Hyper Tuning"
   ]
  },
  {
   "cell_type": "code",
   "execution_count": 120,
   "metadata": {},
   "outputs": [],
   "source": [
    "cat_features_CATB = ['Home Ownership', 'Purpose', 'Term']\n",
    "cat_features_CATB_2 = ['Home Ownership ver.2', 'Purpose ver.2', 'Term']"
   ]
  },
  {
   "cell_type": "code",
   "execution_count": 121,
   "metadata": {},
   "outputs": [],
   "source": [
    "def category_for_CATB(dataset):\n",
    "    for colname in set(cat_features_CATB + cat_features_CATB_2):\n",
    "        dataset[colname] = pd.Categorical(dataset[colname])\n",
    "    return dataset"
   ]
  },
  {
   "cell_type": "code",
   "execution_count": 122,
   "metadata": {},
   "outputs": [],
   "source": [
    "df = category_for_CATB(df)\n",
    "df_org = category_for_CATB(df_org)\n",
    "df_test = category_for_CATB(df_test)"
   ]
  },
  {
   "cell_type": "code",
   "execution_count": 123,
   "metadata": {},
   "outputs": [],
   "source": [
    "full_features_list = [col for col in df_org.columns.tolist() if df_org[col].count() == 7500]\n",
    "full_features_list.remove(TARGET)"
   ]
  },
  {
   "cell_type": "markdown",
   "metadata": {},
   "source": [
    "## Нормализация данных"
   ]
  },
  {
   "cell_type": "code",
   "execution_count": 124,
   "metadata": {},
   "outputs": [],
   "source": [
    "cont_cols.append('Monthly Debt old')\n",
    "\n",
    "scaler = StandardScaler()\n",
    "\n",
    "df_norm = df.copy()\n",
    "df_norm_org = df_org.copy()\n",
    "df_test_norm = df_test.copy()\n",
    "\n",
    "df_norm[cont_cols] = scaler.fit_transform(df_norm[cont_cols])\n",
    "\n",
    "df_norm_org[cont_cols] = scaler.fit_transform(df_norm_org[cont_cols])\n",
    "\n",
    "df_test_norm[cont_cols] = scaler.transform(df_test_norm[cont_cols])\n",
    "\n",
    "\n",
    "df = df_norm.copy()\n",
    "df_org = df_norm_org.copy()\n",
    "df_test = df_test_norm.copy()\n",
    "\n",
    "cont_cols.remove('Monthly Debt old')"
   ]
  },
  {
   "cell_type": "code",
   "execution_count": 125,
   "metadata": {},
   "outputs": [],
   "source": [
    "with open(SCALER_FILE_PATH, 'wb') as file:\n",
    "    pickle.dump(scaler, file)"
   ]
  },
  {
   "cell_type": "markdown",
   "metadata": {},
   "source": [
    "## Разбиение на train & test"
   ]
  },
  {
   "cell_type": "code",
   "execution_count": 126,
   "metadata": {},
   "outputs": [],
   "source": [
    "df[['Term_Long Term', 'Term_Short Term']] = df[['Term_Long Term', 'Term_Short Term']].astype('uint8')"
   ]
  },
  {
   "cell_type": "code",
   "execution_count": 127,
   "metadata": {},
   "outputs": [],
   "source": [
    "X = df[full_features_list]\n",
    "y = df[TARGET]\n",
    "\n",
    "X_org = df_org[full_features_list]\n",
    "y_org = df_org[TARGET]\n",
    "\n",
    "X_train, X_test, y_train, y_test = train_test_split(X, y, shuffle=True, test_size=0.3)\n",
    "X_train_org, X_test_org, y_train_org, y_test_org = train_test_split(X_org, y_org, shuffle=True, test_size=0.30)"
   ]
  },
  {
   "cell_type": "markdown",
   "metadata": {},
   "source": [
    "## Балансировка данных"
   ]
  },
  {
   "cell_type": "code",
   "execution_count": 128,
   "metadata": {},
   "outputs": [],
   "source": [
    "ros = RandomOverSampler()"
   ]
  },
  {
   "cell_type": "markdown",
   "metadata": {},
   "source": [
    "**df_org**"
   ]
  },
  {
   "cell_type": "markdown",
   "metadata": {},
   "source": [
    "балансировка RandomOverSampler"
   ]
  },
  {
   "cell_type": "code",
   "execution_count": 129,
   "metadata": {},
   "outputs": [
    {
     "name": "stdout",
     "output_type": "stream",
     "text": [
      "Before OverSampling, counts of label '1': 1090\n",
      "Before OverSampling, counts of label '0': 3070 \n",
      "\n",
      "After OverSampling, the shape of X_train: (7506, 17)\n",
      "After OverSampling, the shape of y_train: (7506,) \n",
      "\n",
      "After OverSampling, counts of label '1': 3753\n",
      "After OverSampling, counts of label '0': 3753\n"
     ]
    }
   ],
   "source": [
    "X_train_org_ros, y_train_org_ros = ros.fit_sample(X_train_org[cont_cols + dummy_cols_2], y_train_org)\n",
    "\n",
    "print(f\"Before OverSampling, counts of label '1': {sum(y_train==1)}\")\n",
    "print(f\"Before OverSampling, counts of label '0': {sum(y_train==0)} \\n\")\n",
    "print(f'After OverSampling, the shape of X_train: {X_train_org_ros.shape}')\n",
    "print(f'After OverSampling, the shape of y_train: {y_train_org_ros.shape} \\n')\n",
    "print(f\"After OverSampling, counts of label '1': {sum(y_train_org_ros==1)}\")\n",
    "print(f\"After OverSampling, counts of label '0': {sum(y_train_org_ros==0)}\")"
   ]
  },
  {
   "cell_type": "markdown",
   "metadata": {},
   "source": [
    "создаём категориальный признак 'Purpose ver.2' для CatB"
   ]
  },
  {
   "cell_type": "code",
   "execution_count": 130,
   "metadata": {},
   "outputs": [],
   "source": [
    "X_train_org_ros['Purpose ver.2_cat'] = X_train_org_ros['Purpose ver.2_other']\n",
    "\n",
    "X_train_org_ros.loc[X_train_org_ros['Purpose ver.2_educational expenses'] == 1, ['Purpose ver.2_cat']] = 3\n",
    "\n",
    "X_train_org_ros.loc[X_train_org_ros['Purpose ver.2_medical bills'] == 1, ['Purpose ver.2_cat']] = 2"
   ]
  },
  {
   "cell_type": "code",
   "execution_count": 131,
   "metadata": {},
   "outputs": [],
   "source": [
    "X_test_org['Purpose ver.2_cat'] = X_test_org['Purpose ver.2_other']\n",
    "\n",
    "X_test_org.loc[X_test_org['Purpose ver.2_educational expenses'] == 1, ['Purpose ver.2_cat']] = 3\n",
    "\n",
    "X_test_org.loc[X_test_org['Purpose ver.2_medical bills'] == 1, ['Purpose ver.2_cat']] = 2"
   ]
  },
  {
   "cell_type": "code",
   "execution_count": 132,
   "metadata": {},
   "outputs": [],
   "source": [
    "df_test['Purpose ver.2_cat'] = df_test['Purpose ver.2_other']\n",
    "\n",
    "df_test.loc[df_test['Purpose ver.2_educational expenses'] == 1, ['Purpose ver.2_cat']] = 3\n",
    "\n",
    "df_test.loc[df_test['Purpose ver.2_medical bills'] == 1, ['Purpose ver.2_cat']] = 2"
   ]
  },
  {
   "cell_type": "markdown",
   "metadata": {},
   "source": [
    "### CatBoost"
   ]
  },
  {
   "cell_type": "markdown",
   "metadata": {},
   "source": [
    "# -------------------------\\\\/--- Последняя модель ---\\\\/----------------------------"
   ]
  },
  {
   "cell_type": "code",
   "execution_count": 133,
   "metadata": {},
   "outputs": [],
   "source": [
    "cat_features_CATB_4 = ['Purpose ver.2_cat', 'Home Ownership ver.2_Own Home', 'Term_Long Term']\n",
    "features_catb_list = [\n",
    "    'Number of Credit Problems', \n",
    "    'Purpose ver.2_cat', \n",
    "    'Years in current job', \n",
    "    'Home Ownership ver.2_Own Home', \n",
    "    'Current Credit Balance', \n",
    "    'Years of Credit History', \n",
    "    'Monthly Debt', \n",
    "    'Maximum Open Credit',\n",
    "    'Current Loan Amount',\n",
    "    'Annual Income',\n",
    "    'Term_Long Term',\n",
    "    'Credit Score'\n",
    "]"
   ]
  },
  {
   "cell_type": "code",
   "execution_count": 134,
   "metadata": {},
   "outputs": [],
   "source": [
    "X_test_org['Term_Long Term'] = X_test_org['Term_Long Term'].astype('uint8')\n",
    "X_train_org_ros['Term_Long Term'] = X_train_org_ros['Term_Long Term'].astype('uint8')\n",
    "df_test['Term_Long Term'] = df_test['Term_Long Term'].astype('uint8')"
   ]
  },
  {
   "cell_type": "code",
   "execution_count": 135,
   "metadata": {},
   "outputs": [
    {
     "name": "stdout",
     "output_type": "stream",
     "text": [
      "best threshold probability = 0.6125628140703517\n",
      "----------------------------------------------------------------------\n",
      "f1 on valid set after calibrating = 0.486908077994429\n",
      "[[892 742]\n",
      " [179 437]]\n",
      "              precision    recall  f1-score   support\n",
      "\n",
      "           0       0.83      0.55      0.66      1634\n",
      "           1       0.37      0.71      0.49       616\n",
      "\n",
      "    accuracy                           0.59      2250\n",
      "   macro avg       0.60      0.63      0.57      2250\n",
      "weighted avg       0.71      0.59      0.61      2250\n",
      "\n"
     ]
    }
   ],
   "source": [
    "model_catb = catb.CatBoostClassifier(\n",
    "                                     depth=4, \n",
    "                                     n_estimators=250,\n",
    "                                     learning_rate=0.03, \n",
    "                                     silent=True, \n",
    "                                     l2_leaf_reg=10, \n",
    "                                     class_weights = [1, 1.8],\n",
    "                                     one_hot_max_size=4,\n",
    "                                     cat_features=cat_features_CATB_4)\n",
    "\n",
    "model_catb.fit(X_train_org_ros[features_catb_list], y_train_org_ros)\n",
    "\n",
    "y_train_pred = model_catb.predict(X_train_org_ros[features_catb_list])\n",
    "y_test_pred = model_catb.predict(X_test_org[features_catb_list])\n",
    "\n",
    "# get_classification_report(y_train_org_ros, y_train_pred, y_test_org, y_test_pred)\n",
    "\n",
    "# 3.11.4.калитбровка\n",
    "predict_probas = model_catb.predict_proba(X_test_org[features_catb_list])\n",
    "# show_proba_calibration_plots(predict_probas, y_test_org, 0.1, 0.9, 20)\n",
    "predict2, threshold_prob = update_predict_by_prob(y_test_org, predict_probas, 0.5, 0.7, 200, score='f1', show_chart=False)\n",
    "\n",
    "# print(f1_score(y_test_org, predict2))\n",
    "\n",
    "# 3.11.5. результаты\n",
    "print(70*'-')\n",
    "\n",
    "print(f'f1 on valid set after calibrating = {f1_score(y_test_org, predict2)}')\n",
    "print(confusion_matrix(y_test_org, predict2))\n",
    "print(classification_report(y_test_org, predict2))"
   ]
  },
  {
   "cell_type": "code",
   "execution_count": 136,
   "metadata": {},
   "outputs": [
    {
     "data": {
      "image/png": "[encoded data removed]",
      "text/plain": [
       "<Figure size 1080x360 with 2 Axes>"
      ]
     },
     "metadata": {
      "needs_background": "light"
     },
     "output_type": "display_data"
    },
    {
     "data": {
      "image/png": "[encoded data removed]",
      "text/plain": [
       "<Figure size 360x288 with 1 Axes>"
      ]
     },
     "metadata": {
      "needs_background": "light"
     },
     "output_type": "display_data"
    },
    {
     "name": "stdout",
     "output_type": "stream",
     "text": [
      "best threshold probability = 0.6125628140703517\n",
      "0.486908077994429\n",
      "----------------------------------------------------------------------\n",
      "f1 on valid set after calibrating = 0.486908077994429\n",
      "[[892 742]\n",
      " [179 437]]\n",
      "              precision    recall  f1-score   support\n",
      "\n",
      "           0       0.83      0.55      0.66      1634\n",
      "           1       0.37      0.71      0.49       616\n",
      "\n",
      "    accuracy                           0.59      2250\n",
      "   macro avg       0.60      0.63      0.57      2250\n",
      "weighted avg       0.71      0.59      0.61      2250\n",
      "\n"
     ]
    }
   ],
   "source": [
    "# 3.11.4.калитбровка\n",
    "predict_probas = model_catb.predict_proba(X_test_org[features_catb_list])\n",
    "show_proba_calibration_plots(predict_probas, y_test_org, 0.1, 0.9, 20)\n",
    "predict2, threshold_prob = update_predict_by_prob(y_test_org, predict_probas, 0.5, 0.7, 200, score='f1', show_chart=True)\n",
    "\n",
    "print(f1_score(y_test_org, predict2))\n",
    "\n",
    "# 3.11.5. результаты\n",
    "print(70*'-')\n",
    "\n",
    "print(f'f1 on valid set after calibrating = {f1_score(y_test_org, predict2)}')\n",
    "print(confusion_matrix(y_test_org, predict2))\n",
    "print(classification_report(y_test_org, predict2))"
   ]
  },
  {
   "cell_type": "code",
   "execution_count": 137,
   "metadata": {},
   "outputs": [
    {
     "data": {
      "text/plain": [
       "Number of Credit Problems         1.631421\n",
       "Purpose ver.2_cat                 1.670253\n",
       "Years in current job              2.915240\n",
       "Home Ownership ver.2_Own Home     3.614134\n",
       "Years of Credit History           5.856240\n",
       "Current Credit Balance            6.692905\n",
       "Monthly Debt                      7.292078\n",
       "Current Loan Amount               8.910746\n",
       "Maximum Open Credit               9.620473\n",
       "Annual Income                    15.319988\n",
       "Term_Long Term                   15.680739\n",
       "Credit Score                     20.795784\n",
       "dtype: float64"
      ]
     },
     "execution_count": 137,
     "metadata": {},
     "output_type": "execute_result"
    }
   ],
   "source": [
    "pd.Series(model_catb.feature_importances_,\n",
    "                               index=model_catb.feature_names_).sort_values(0)"
   ]
  },
  {
   "cell_type": "code",
   "execution_count": 141,
   "metadata": {},
   "outputs": [
    {
     "name": "stdout",
     "output_type": "stream",
     "text": [
      "Final Model CATB\n",
      "----------------------------------------------------------------------\n",
      "accuracy on full train set = 0.6630695443645084\n",
      "f1 on full train set = 0.6852520224019912\n",
      "[[2224 1529]\n",
      " [1000 2753]]\n",
      "              precision    recall  f1-score   support\n",
      "\n",
      "           0       0.69      0.59      0.64      3753\n",
      "           1       0.64      0.73      0.69      3753\n",
      "\n",
      "    accuracy                           0.66      7506\n",
      "   macro avg       0.67      0.66      0.66      7506\n",
      "weighted avg       0.67      0.66      0.66      7506\n",
      "\n",
      "----------------------------------------------------------------------\n",
      "(2500, 1)\n"
     ]
    },
    {
     "data": {
      "text/plain": [
       "Credit Default\n",
       "0                 1253\n",
       "1                 1247\n",
       "dtype: int64"
      ]
     },
     "execution_count": 141,
     "metadata": {},
     "output_type": "execute_result"
    }
   ],
   "source": [
    "# 4.2. Обучение модели на полном датасете (Liniar Regression)\n",
    "\n",
    "threshold_prob = threshold_prob\n",
    "\n",
    "model = model_catb\n",
    "model.fit(X_train_org_ros[features_catb_list], y_train_org_ros)\n",
    "\n",
    "predict_train_probas = model.predict_proba(X_train_org_ros[features_catb_list])\n",
    "predict_train = np.array([1 if x>=threshold_prob else 0 for x in predict_train_probas[:,1]])\n",
    "\n",
    "print('Final Model CATB')\n",
    "print(70*'-')\n",
    "print(f'accuracy on full train set = {accuracy_score(y_train_org_ros, predict_train)}')\n",
    "print(f'f1 on full train set = {f1_score(y_train_org_ros, predict_train)}')\n",
    "print(confusion_matrix(y_train_org_ros, predict_train))\n",
    "print(classification_report(y_train_org_ros, predict_train))\n",
    "print(70*'-')\n",
    "\n",
    "y_pred_probas = model.predict_proba(df_test[features_catb_list])\n",
    "y_pred = np.array([1 if x>=threshold_prob else 0 for x in y_pred_probas[:, 1]])\n",
    "y_pred = pd.DataFrame(y_pred, columns=[TARGET])\n",
    "\n",
    "print(y_pred.shape)\n",
    "y_pred.value_counts()"
   ]
  },
  {
   "cell_type": "code",
   "execution_count": 142,
   "metadata": {},
   "outputs": [],
   "source": [
    "filename = 'Navoyan_3110_catb.csv'\n",
    "y_pred.to_csv(filename, index=None)"
   ]
  },
  {
   "cell_type": "markdown",
   "metadata": {},
   "source": [
    "# ---------------------------/\\\\--- Последняя модель ---/\\\\---------------------------"
   ]
  }
 ],
 "metadata": {
  "kernelspec": {
   "display_name": "Python 3",
   "language": "python",
   "name": "python3"
  },
  "language_info": {
   "codemirror_mode": {
    "name": "ipython",
    "version": 3
   },
   "file_extension": ".py",
   "mimetype": "text/x-python",
   "name": "python",
   "nbconvert_exporter": "python",
   "pygments_lexer": "ipython3",
   "version": "3.8.5"
  }
 },
 "nbformat": 4,
 "nbformat_minor": 4
}
