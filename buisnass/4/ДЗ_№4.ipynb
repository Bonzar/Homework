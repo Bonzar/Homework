{
  "nbformat": 4,
  "nbformat_minor": 0,
  "metadata": {
    "colab": {
      "name": "ДЗ_№4.ipynb",
      "provenance": [],
      "collapsed_sections": [],
      "authorship_tag": "ABX9TyM5Lbp6Kc4Q/gxyXVAB6DE4",
      "include_colab_link": true
    },
    "kernelspec": {
      "name": "python3",
      "display_name": "Python 3"
    },
    "language_info": {
      "name": "python"
    }
  },
  "cells": [
    {
      "cell_type": "markdown",
      "metadata": {
        "id": "view-in-github",
        "colab_type": "text"
      },
      "source": [
        "<a href=\"https://colab.research.google.com/github/Bonzar/Homework/blob/buisness.lesson4/buisnass/4/%D0%94%D0%97_%E2%84%964.ipynb\" target=\"_parent\"><img src=\"https://colab.research.google.com/assets/colab-badge.svg\" alt=\"Open In Colab\"/></a>"
      ]
    },
    {
      "cell_type": "code",
      "metadata": {
        "colab": {
          "base_uri": "https://localhost:8080/"
        },
        "id": "663rFK7c-r8u",
        "outputId": "608fdecf-6fcf-4511-d238-3734210805d5"
      },
      "source": [
        "!pip install scikit-uplift catboost==0.22 -U\n",
        "!pip install causalml"
      ],
      "execution_count": 1,
      "outputs": [
        {
          "output_type": "stream",
          "text": [
            "Requirement already up-to-date: scikit-uplift in /usr/local/lib/python3.7/dist-packages (0.3.1)\n",
            "Requirement already up-to-date: catboost==0.22 in /usr/local/lib/python3.7/dist-packages (0.22)\n",
            "Requirement already satisfied, skipping upgrade: numpy>=1.16 in /usr/local/lib/python3.7/dist-packages (from scikit-uplift) (1.18.5)\n",
            "Requirement already satisfied, skipping upgrade: matplotlib in /usr/local/lib/python3.7/dist-packages (from scikit-uplift) (3.2.2)\n",
            "Requirement already satisfied, skipping upgrade: pandas in /usr/local/lib/python3.7/dist-packages (from scikit-uplift) (1.1.5)\n",
            "Requirement already satisfied, skipping upgrade: scikit-learn>=0.21.0 in /usr/local/lib/python3.7/dist-packages (from scikit-uplift) (0.22.2.post1)\n",
            "Requirement already satisfied, skipping upgrade: requests in /usr/local/lib/python3.7/dist-packages (from scikit-uplift) (2.23.0)\n",
            "Requirement already satisfied, skipping upgrade: scipy in /usr/local/lib/python3.7/dist-packages (from catboost==0.22) (1.4.1)\n",
            "Requirement already satisfied, skipping upgrade: six in /usr/local/lib/python3.7/dist-packages (from catboost==0.22) (1.15.0)\n",
            "Requirement already satisfied, skipping upgrade: graphviz in /usr/local/lib/python3.7/dist-packages (from catboost==0.22) (0.10.1)\n",
            "Requirement already satisfied, skipping upgrade: plotly in /usr/local/lib/python3.7/dist-packages (from catboost==0.22) (4.4.1)\n",
            "Requirement already satisfied, skipping upgrade: cycler>=0.10 in /usr/local/lib/python3.7/dist-packages (from matplotlib->scikit-uplift) (0.10.0)\n",
            "Requirement already satisfied, skipping upgrade: kiwisolver>=1.0.1 in /usr/local/lib/python3.7/dist-packages (from matplotlib->scikit-uplift) (1.3.1)\n",
            "Requirement already satisfied, skipping upgrade: pyparsing!=2.0.4,!=2.1.2,!=2.1.6,>=2.0.1 in /usr/local/lib/python3.7/dist-packages (from matplotlib->scikit-uplift) (2.4.7)\n",
            "Requirement already satisfied, skipping upgrade: python-dateutil>=2.1 in /usr/local/lib/python3.7/dist-packages (from matplotlib->scikit-uplift) (2.8.1)\n",
            "Requirement already satisfied, skipping upgrade: pytz>=2017.2 in /usr/local/lib/python3.7/dist-packages (from pandas->scikit-uplift) (2018.9)\n",
            "Requirement already satisfied, skipping upgrade: joblib>=0.11 in /usr/local/lib/python3.7/dist-packages (from scikit-learn>=0.21.0->scikit-uplift) (1.0.1)\n",
            "Requirement already satisfied, skipping upgrade: chardet<4,>=3.0.2 in /usr/local/lib/python3.7/dist-packages (from requests->scikit-uplift) (3.0.4)\n",
            "Requirement already satisfied, skipping upgrade: certifi>=2017.4.17 in /usr/local/lib/python3.7/dist-packages (from requests->scikit-uplift) (2020.12.5)\n",
            "Requirement already satisfied, skipping upgrade: idna<3,>=2.5 in /usr/local/lib/python3.7/dist-packages (from requests->scikit-uplift) (2.10)\n",
            "Requirement already satisfied, skipping upgrade: urllib3!=1.25.0,!=1.25.1,<1.26,>=1.21.1 in /usr/local/lib/python3.7/dist-packages (from requests->scikit-uplift) (1.24.3)\n",
            "Requirement already satisfied, skipping upgrade: retrying>=1.3.3 in /usr/local/lib/python3.7/dist-packages (from plotly->catboost==0.22) (1.3.3)\n",
            "Requirement already satisfied: causalml in /usr/local/lib/python3.7/dist-packages (0.10.0)\n",
            "Requirement already satisfied: lightgbm in /usr/local/lib/python3.7/dist-packages (from causalml) (2.2.3)\n",
            "Requirement already satisfied: pyro-ppl in /usr/local/lib/python3.7/dist-packages (from causalml) (1.6.0)\n",
            "Requirement already satisfied: keras in /usr/local/lib/python3.7/dist-packages (from causalml) (2.4.3)\n",
            "Requirement already satisfied: scipy==1.4.1 in /usr/local/lib/python3.7/dist-packages (from causalml) (1.4.1)\n",
            "Requirement already satisfied: statsmodels>=0.9.0 in /usr/local/lib/python3.7/dist-packages (from causalml) (0.10.2)\n",
            "Requirement already satisfied: shap<0.38.1 in /usr/local/lib/python3.7/dist-packages (from causalml) (0.37.0)\n",
            "Requirement already satisfied: Cython>=0.28.0 in /usr/local/lib/python3.7/dist-packages (from causalml) (0.29.22)\n",
            "Requirement already satisfied: tqdm in /usr/local/lib/python3.7/dist-packages (from causalml) (4.41.1)\n",
            "Requirement already satisfied: pydotplus in /usr/local/lib/python3.7/dist-packages (from causalml) (2.0.2)\n",
            "Requirement already satisfied: pygam in /usr/local/lib/python3.7/dist-packages (from causalml) (0.8.0)\n",
            "Requirement already satisfied: pandas>=0.24.1 in /usr/local/lib/python3.7/dist-packages (from causalml) (1.1.5)\n",
            "Requirement already satisfied: xgboost in /usr/local/lib/python3.7/dist-packages (from causalml) (0.90)\n",
            "Requirement already satisfied: torch in /usr/local/lib/python3.7/dist-packages (from causalml) (1.8.1+cu101)\n",
            "Requirement already satisfied: pip>=10.0 in /usr/local/lib/python3.7/dist-packages (from causalml) (19.3.1)\n",
            "Requirement already satisfied: scikit-learn<0.24.0,>=0.22.0 in /usr/local/lib/python3.7/dist-packages (from causalml) (0.22.2.post1)\n",
            "Requirement already satisfied: seaborn in /usr/local/lib/python3.7/dist-packages (from causalml) (0.11.1)\n",
            "Requirement already satisfied: tensorflow>=1.15.2 in /usr/local/lib/python3.7/dist-packages (from causalml) (2.4.1)\n",
            "Requirement already satisfied: numpy<1.19.0,>=0.16.0 in /usr/local/lib/python3.7/dist-packages (from causalml) (1.18.5)\n",
            "Requirement already satisfied: packaging in /usr/local/lib/python3.7/dist-packages (from causalml) (20.9)\n",
            "Requirement already satisfied: matplotlib in /usr/local/lib/python3.7/dist-packages (from causalml) (3.2.2)\n",
            "Requirement already satisfied: dill in /usr/local/lib/python3.7/dist-packages (from causalml) (0.3.3)\n",
            "Requirement already satisfied: setuptools>=41.0.0 in /usr/local/lib/python3.7/dist-packages (from causalml) (54.2.0)\n",
            "Requirement already satisfied: pyro-api>=0.1.1 in /usr/local/lib/python3.7/dist-packages (from pyro-ppl->causalml) (0.1.2)\n",
            "Requirement already satisfied: opt-einsum>=2.3.2 in /usr/local/lib/python3.7/dist-packages (from pyro-ppl->causalml) (3.3.0)\n",
            "Requirement already satisfied: h5py in /usr/local/lib/python3.7/dist-packages (from keras->causalml) (2.10.0)\n",
            "Requirement already satisfied: pyyaml in /usr/local/lib/python3.7/dist-packages (from keras->causalml) (3.13)\n",
            "Requirement already satisfied: patsy>=0.4.0 in /usr/local/lib/python3.7/dist-packages (from statsmodels>=0.9.0->causalml) (0.5.1)\n",
            "Requirement already satisfied: numba in /usr/local/lib/python3.7/dist-packages (from shap<0.38.1->causalml) (0.51.2)\n",
            "Requirement already satisfied: slicer==0.0.3 in /usr/local/lib/python3.7/dist-packages (from shap<0.38.1->causalml) (0.0.3)\n",
            "Requirement already satisfied: pyparsing>=2.0.1 in /usr/local/lib/python3.7/dist-packages (from pydotplus->causalml) (2.4.7)\n",
            "Requirement already satisfied: future in /usr/local/lib/python3.7/dist-packages (from pygam->causalml) (0.16.0)\n",
            "Requirement already satisfied: progressbar2 in /usr/local/lib/python3.7/dist-packages (from pygam->causalml) (3.38.0)\n",
            "Requirement already satisfied: pytz>=2017.2 in /usr/local/lib/python3.7/dist-packages (from pandas>=0.24.1->causalml) (2018.9)\n",
            "Requirement already satisfied: python-dateutil>=2.7.3 in /usr/local/lib/python3.7/dist-packages (from pandas>=0.24.1->causalml) (2.8.1)\n",
            "Requirement already satisfied: typing-extensions in /usr/local/lib/python3.7/dist-packages (from torch->causalml) (3.7.4.3)\n",
            "Requirement already satisfied: joblib>=0.11 in /usr/local/lib/python3.7/dist-packages (from scikit-learn<0.24.0,>=0.22.0->causalml) (1.0.1)\n",
            "Requirement already satisfied: tensorboard~=2.4 in /usr/local/lib/python3.7/dist-packages (from tensorflow>=1.15.2->causalml) (2.4.1)\n",
            "Requirement already satisfied: keras-preprocessing~=1.1.2 in /usr/local/lib/python3.7/dist-packages (from tensorflow>=1.15.2->causalml) (1.1.2)\n",
            "Requirement already satisfied: absl-py~=0.10 in /usr/local/lib/python3.7/dist-packages (from tensorflow>=1.15.2->causalml) (0.12.0)\n",
            "Requirement already satisfied: termcolor~=1.1.0 in /usr/local/lib/python3.7/dist-packages (from tensorflow>=1.15.2->causalml) (1.1.0)\n",
            "Requirement already satisfied: wrapt~=1.12.1 in /usr/local/lib/python3.7/dist-packages (from tensorflow>=1.15.2->causalml) (1.12.1)\n",
            "Requirement already satisfied: protobuf>=3.9.2 in /usr/local/lib/python3.7/dist-packages (from tensorflow>=1.15.2->causalml) (3.12.4)\n",
            "Requirement already satisfied: grpcio~=1.32.0 in /usr/local/lib/python3.7/dist-packages (from tensorflow>=1.15.2->causalml) (1.32.0)\n",
            "Requirement already satisfied: google-pasta~=0.2 in /usr/local/lib/python3.7/dist-packages (from tensorflow>=1.15.2->causalml) (0.2.0)\n",
            "Requirement already satisfied: gast==0.3.3 in /usr/local/lib/python3.7/dist-packages (from tensorflow>=1.15.2->causalml) (0.3.3)\n",
            "Requirement already satisfied: wheel~=0.35 in /usr/local/lib/python3.7/dist-packages (from tensorflow>=1.15.2->causalml) (0.36.2)\n",
            "Requirement already satisfied: flatbuffers~=1.12.0 in /usr/local/lib/python3.7/dist-packages (from tensorflow>=1.15.2->causalml) (1.12)\n",
            "Requirement already satisfied: six~=1.15.0 in /usr/local/lib/python3.7/dist-packages (from tensorflow>=1.15.2->causalml) (1.15.0)\n",
            "Requirement already satisfied: astunparse~=1.6.3 in /usr/local/lib/python3.7/dist-packages (from tensorflow>=1.15.2->causalml) (1.6.3)\n",
            "Requirement already satisfied: tensorflow-estimator<2.5.0,>=2.4.0 in /usr/local/lib/python3.7/dist-packages (from tensorflow>=1.15.2->causalml) (2.4.0)\n",
            "Requirement already satisfied: cycler>=0.10 in /usr/local/lib/python3.7/dist-packages (from matplotlib->causalml) (0.10.0)\n",
            "Requirement already satisfied: kiwisolver>=1.0.1 in /usr/local/lib/python3.7/dist-packages (from matplotlib->causalml) (1.3.1)\n",
            "Requirement already satisfied: llvmlite<0.35,>=0.34.0.dev0 in /usr/local/lib/python3.7/dist-packages (from numba->shap<0.38.1->causalml) (0.34.0)\n",
            "Requirement already satisfied: python-utils>=2.3.0 in /usr/local/lib/python3.7/dist-packages (from progressbar2->pygam->causalml) (2.5.6)\n",
            "Requirement already satisfied: google-auth<2,>=1.6.3 in /usr/local/lib/python3.7/dist-packages (from tensorboard~=2.4->tensorflow>=1.15.2->causalml) (1.28.0)\n",
            "Requirement already satisfied: tensorboard-plugin-wit>=1.6.0 in /usr/local/lib/python3.7/dist-packages (from tensorboard~=2.4->tensorflow>=1.15.2->causalml) (1.8.0)\n",
            "Requirement already satisfied: requests<3,>=2.21.0 in /usr/local/lib/python3.7/dist-packages (from tensorboard~=2.4->tensorflow>=1.15.2->causalml) (2.23.0)\n",
            "Requirement already satisfied: markdown>=2.6.8 in /usr/local/lib/python3.7/dist-packages (from tensorboard~=2.4->tensorflow>=1.15.2->causalml) (3.3.4)\n",
            "Requirement already satisfied: google-auth-oauthlib<0.5,>=0.4.1 in /usr/local/lib/python3.7/dist-packages (from tensorboard~=2.4->tensorflow>=1.15.2->causalml) (0.4.3)\n",
            "Requirement already satisfied: werkzeug>=0.11.15 in /usr/local/lib/python3.7/dist-packages (from tensorboard~=2.4->tensorflow>=1.15.2->causalml) (1.0.1)\n",
            "Requirement already satisfied: rsa<5,>=3.1.4; python_version >= \"3.6\" in /usr/local/lib/python3.7/dist-packages (from google-auth<2,>=1.6.3->tensorboard~=2.4->tensorflow>=1.15.2->causalml) (4.7.2)\n",
            "Requirement already satisfied: pyasn1-modules>=0.2.1 in /usr/local/lib/python3.7/dist-packages (from google-auth<2,>=1.6.3->tensorboard~=2.4->tensorflow>=1.15.2->causalml) (0.2.8)\n",
            "Requirement already satisfied: cachetools<5.0,>=2.0.0 in /usr/local/lib/python3.7/dist-packages (from google-auth<2,>=1.6.3->tensorboard~=2.4->tensorflow>=1.15.2->causalml) (4.2.1)\n",
            "Requirement already satisfied: urllib3!=1.25.0,!=1.25.1,<1.26,>=1.21.1 in /usr/local/lib/python3.7/dist-packages (from requests<3,>=2.21.0->tensorboard~=2.4->tensorflow>=1.15.2->causalml) (1.24.3)\n",
            "Requirement already satisfied: chardet<4,>=3.0.2 in /usr/local/lib/python3.7/dist-packages (from requests<3,>=2.21.0->tensorboard~=2.4->tensorflow>=1.15.2->causalml) (3.0.4)\n",
            "Requirement already satisfied: certifi>=2017.4.17 in /usr/local/lib/python3.7/dist-packages (from requests<3,>=2.21.0->tensorboard~=2.4->tensorflow>=1.15.2->causalml) (2020.12.5)\n",
            "Requirement already satisfied: idna<3,>=2.5 in /usr/local/lib/python3.7/dist-packages (from requests<3,>=2.21.0->tensorboard~=2.4->tensorflow>=1.15.2->causalml) (2.10)\n",
            "Requirement already satisfied: importlib-metadata; python_version < \"3.8\" in /usr/local/lib/python3.7/dist-packages (from markdown>=2.6.8->tensorboard~=2.4->tensorflow>=1.15.2->causalml) (3.8.1)\n",
            "Requirement already satisfied: requests-oauthlib>=0.7.0 in /usr/local/lib/python3.7/dist-packages (from google-auth-oauthlib<0.5,>=0.4.1->tensorboard~=2.4->tensorflow>=1.15.2->causalml) (1.3.0)\n",
            "Requirement already satisfied: pyasn1>=0.1.3 in /usr/local/lib/python3.7/dist-packages (from rsa<5,>=3.1.4; python_version >= \"3.6\"->google-auth<2,>=1.6.3->tensorboard~=2.4->tensorflow>=1.15.2->causalml) (0.4.8)\n",
            "Requirement already satisfied: zipp>=0.5 in /usr/local/lib/python3.7/dist-packages (from importlib-metadata; python_version < \"3.8\"->markdown>=2.6.8->tensorboard~=2.4->tensorflow>=1.15.2->causalml) (3.4.1)\n",
            "Requirement already satisfied: oauthlib>=3.0.0 in /usr/local/lib/python3.7/dist-packages (from requests-oauthlib>=0.7.0->google-auth-oauthlib<0.5,>=0.4.1->tensorboard~=2.4->tensorflow>=1.15.2->causalml) (3.1.0)\n"
          ],
          "name": "stdout"
        }
      ]
    },
    {
      "cell_type": "code",
      "metadata": {
        "colab": {
          "base_uri": "https://localhost:8080/"
        },
        "id": "672JM4Vx-sXh",
        "outputId": "034972dd-620d-4104-fab1-9a8555f29abc"
      },
      "source": [
        "from google.colab import drive\n",
        "drive.mount('/gdrive')"
      ],
      "execution_count": 2,
      "outputs": [
        {
          "output_type": "stream",
          "text": [
            "Drive already mounted at /gdrive; to attempt to forcibly remount, call drive.mount(\"/gdrive\", force_remount=True).\n"
          ],
          "name": "stdout"
        }
      ]
    },
    {
      "cell_type": "code",
      "metadata": {
        "id": "OxNVZHMP-umQ"
      },
      "source": [
        "path = '/gdrive/MyDrive/4/'"
      ],
      "execution_count": 3,
      "outputs": []
    },
    {
      "cell_type": "code",
      "metadata": {
        "id": "98hqvZF_-x5g"
      },
      "source": [
        "%matplotlib inline\n",
        "\n",
        "import pandas as pd; pd.set_option('display.max_columns', None)\n",
        "from sklearn.model_selection import train_test_split\n",
        "import numpy as np\n",
        "import pandas as pd\n",
        "from sklift.models import SoloModel, ClassTransformation, TwoModels\n",
        "from sklearn.base import BaseEstimator, TransformerMixin\n",
        "from sklearn.pipeline import Pipeline\n",
        "from sklearn.preprocessing import PowerTransformer, PolynomialFeatures\n",
        "from sklearn.pipeline import FeatureUnion"
      ],
      "execution_count": 4,
      "outputs": []
    },
    {
      "cell_type": "code",
      "metadata": {
        "id": "F67Ji0aSZt79"
      },
      "source": [
        "from sklearn.utils.validation import check_consistent_length\n",
        "import matplotlib.pyplot as plt\n",
        "\n",
        "\n",
        "def plot_uplift_preds_(trmnt_preds, ctrl_preds, log=False, bins=100):\n",
        "    \"\"\"Plot histograms of treatment, control and uplift predictions.\n",
        "\n",
        "    Args:\n",
        "        trmnt_preds (1d array-like): Predictions for all observations if they are treatment.\n",
        "        ctrl_preds (1d array-like): Predictions for all observations if they are control.\n",
        "        log (bool): Logarithm of source samples. Default is False.\n",
        "        bins (integer or sequence): Number of histogram bins to be used. Default is 100.\n",
        "            If an integer is given, bins + 1 bin edges are calculated and returned.\n",
        "            If bins is a sequence, gives bin edges, including left edge of first bin and right edge of last bin.\n",
        "            In this case, bins is returned unmodified. Default is 100.\n",
        "\n",
        "    Returns:\n",
        "        Object that stores computed values.\n",
        "    \"\"\"\n",
        "\n",
        "    # TODO: Add k as parameter: vertical line on plots\n",
        "    check_consistent_length(trmnt_preds, ctrl_preds)\n",
        "  \n",
        "    if not isinstance(bins, int) or bins <= 0:\n",
        "        raise ValueError(\n",
        "            f'Bins should be positive integer. Invalid value for bins: {bins}')\n",
        "\n",
        "    if log:\n",
        "        trmnt_preds = np.log(trmnt_preds + 1)\n",
        "        ctrl_preds = np.log(ctrl_preds + 1)\n",
        "\n",
        "    fig, axes = plt.subplots(ncols=3, nrows=1, figsize=(20, 7))\n",
        "    axes[0].hist(\n",
        "        trmnt_preds, bins=bins, alpha=0.3, color='b', label='Treated', histtype='stepfilled')\n",
        "    axes[0].set_ylabel('Probability hist')\n",
        "    axes[0].legend()\n",
        "    axes[0].set_title('Treatment predictions')\n",
        "\n",
        "    axes[1].hist(\n",
        "        ctrl_preds, bins=bins, alpha=0.5, color='y', label='Not treated', histtype='stepfilled')\n",
        "    axes[1].legend()\n",
        "    axes[1].set_title('Control predictions')\n",
        "\n",
        "    axes[2].hist(\n",
        "        trmnt_preds - ctrl_preds, bins=bins, alpha=0.5, color='green', label='Uplift', histtype='stepfilled')\n",
        "    axes[2].legend()\n",
        "    axes[2].set_title('Uplift predictions')\n",
        "\n",
        "    return axes"
      ],
      "execution_count": 5,
      "outputs": []
    },
    {
      "cell_type": "code",
      "metadata": {
        "id": "sL-QOXCl-027"
      },
      "source": [
        "df = pd.read_csv(path +'data.csv')#, index_col='client_id')"
      ],
      "execution_count": 6,
      "outputs": []
    },
    {
      "cell_type": "code",
      "metadata": {
        "colab": {
          "base_uri": "https://localhost:8080/",
          "height": 142
        },
        "id": "pgWR7hoz-6MK",
        "outputId": "544b5063-3e43-490e-95b3-45ff46cee555"
      },
      "source": [
        "df.head(3)"
      ],
      "execution_count": 7,
      "outputs": [
        {
          "output_type": "execute_result",
          "data": {
            "text/html": [
              "<div>\n",
              "<style scoped>\n",
              "    .dataframe tbody tr th:only-of-type {\n",
              "        vertical-align: middle;\n",
              "    }\n",
              "\n",
              "    .dataframe tbody tr th {\n",
              "        vertical-align: top;\n",
              "    }\n",
              "\n",
              "    .dataframe thead th {\n",
              "        text-align: right;\n",
              "    }\n",
              "</style>\n",
              "<table border=\"1\" class=\"dataframe\">\n",
              "  <thead>\n",
              "    <tr style=\"text-align: right;\">\n",
              "      <th></th>\n",
              "      <th>recency</th>\n",
              "      <th>history</th>\n",
              "      <th>used_discount</th>\n",
              "      <th>used_bogo</th>\n",
              "      <th>zip_code</th>\n",
              "      <th>is_referral</th>\n",
              "      <th>channel</th>\n",
              "      <th>offer</th>\n",
              "      <th>conversion</th>\n",
              "    </tr>\n",
              "  </thead>\n",
              "  <tbody>\n",
              "    <tr>\n",
              "      <th>0</th>\n",
              "      <td>10</td>\n",
              "      <td>142.44</td>\n",
              "      <td>1</td>\n",
              "      <td>0</td>\n",
              "      <td>Surburban</td>\n",
              "      <td>0</td>\n",
              "      <td>Phone</td>\n",
              "      <td>Buy One Get One</td>\n",
              "      <td>0</td>\n",
              "    </tr>\n",
              "    <tr>\n",
              "      <th>1</th>\n",
              "      <td>6</td>\n",
              "      <td>329.08</td>\n",
              "      <td>1</td>\n",
              "      <td>1</td>\n",
              "      <td>Rural</td>\n",
              "      <td>1</td>\n",
              "      <td>Web</td>\n",
              "      <td>No Offer</td>\n",
              "      <td>0</td>\n",
              "    </tr>\n",
              "    <tr>\n",
              "      <th>2</th>\n",
              "      <td>7</td>\n",
              "      <td>180.65</td>\n",
              "      <td>0</td>\n",
              "      <td>1</td>\n",
              "      <td>Surburban</td>\n",
              "      <td>1</td>\n",
              "      <td>Web</td>\n",
              "      <td>Buy One Get One</td>\n",
              "      <td>0</td>\n",
              "    </tr>\n",
              "  </tbody>\n",
              "</table>\n",
              "</div>"
            ],
            "text/plain": [
              "   recency  history  used_discount  used_bogo   zip_code  is_referral channel  \\\n",
              "0       10   142.44              1          0  Surburban            0   Phone   \n",
              "1        6   329.08              1          1      Rural            1     Web   \n",
              "2        7   180.65              0          1  Surburban            1     Web   \n",
              "\n",
              "             offer  conversion  \n",
              "0  Buy One Get One           0  \n",
              "1         No Offer           0  \n",
              "2  Buy One Get One           0  "
            ]
          },
          "metadata": {
            "tags": []
          },
          "execution_count": 7
        }
      ]
    },
    {
      "cell_type": "code",
      "metadata": {
        "colab": {
          "base_uri": "https://localhost:8080/"
        },
        "id": "uLUNG3Mc_Bd-",
        "outputId": "6ebe94b5-081e-4bf7-d97c-0a15a0eee0c2"
      },
      "source": [
        "df.info()"
      ],
      "execution_count": 8,
      "outputs": [
        {
          "output_type": "stream",
          "text": [
            "<class 'pandas.core.frame.DataFrame'>\n",
            "RangeIndex: 64000 entries, 0 to 63999\n",
            "Data columns (total 9 columns):\n",
            " #   Column         Non-Null Count  Dtype  \n",
            "---  ------         --------------  -----  \n",
            " 0   recency        64000 non-null  int64  \n",
            " 1   history        64000 non-null  float64\n",
            " 2   used_discount  64000 non-null  int64  \n",
            " 3   used_bogo      64000 non-null  int64  \n",
            " 4   zip_code       64000 non-null  object \n",
            " 5   is_referral    64000 non-null  int64  \n",
            " 6   channel        64000 non-null  object \n",
            " 7   offer          64000 non-null  object \n",
            " 8   conversion     64000 non-null  int64  \n",
            "dtypes: float64(1), int64(5), object(3)\n",
            "memory usage: 4.4+ MB\n"
          ],
          "name": "stdout"
        }
      ]
    },
    {
      "cell_type": "code",
      "metadata": {
        "id": "uGOEPCRN_XAd"
      },
      "source": [
        "df = df.rename(columns={'conversion':'target', 'offer': 'treatment'})"
      ],
      "execution_count": 9,
      "outputs": []
    },
    {
      "cell_type": "code",
      "metadata": {
        "id": "ogfLjFYd_Hrl"
      },
      "source": [
        "df['treatment'] = [1 if el == 'No Offer' else 0 for el in df['treatment']]"
      ],
      "execution_count": 10,
      "outputs": []
    },
    {
      "cell_type": "code",
      "metadata": {
        "colab": {
          "base_uri": "https://localhost:8080/",
          "height": 297
        },
        "id": "Z0urqkR4_D8s",
        "outputId": "039a4a5f-239a-45d4-de3c-e24f5739440b"
      },
      "source": [
        "df.describe()"
      ],
      "execution_count": 11,
      "outputs": [
        {
          "output_type": "execute_result",
          "data": {
            "text/html": [
              "<div>\n",
              "<style scoped>\n",
              "    .dataframe tbody tr th:only-of-type {\n",
              "        vertical-align: middle;\n",
              "    }\n",
              "\n",
              "    .dataframe tbody tr th {\n",
              "        vertical-align: top;\n",
              "    }\n",
              "\n",
              "    .dataframe thead th {\n",
              "        text-align: right;\n",
              "    }\n",
              "</style>\n",
              "<table border=\"1\" class=\"dataframe\">\n",
              "  <thead>\n",
              "    <tr style=\"text-align: right;\">\n",
              "      <th></th>\n",
              "      <th>recency</th>\n",
              "      <th>history</th>\n",
              "      <th>used_discount</th>\n",
              "      <th>used_bogo</th>\n",
              "      <th>is_referral</th>\n",
              "      <th>treatment</th>\n",
              "      <th>target</th>\n",
              "    </tr>\n",
              "  </thead>\n",
              "  <tbody>\n",
              "    <tr>\n",
              "      <th>count</th>\n",
              "      <td>64000.000000</td>\n",
              "      <td>64000.000000</td>\n",
              "      <td>64000.000000</td>\n",
              "      <td>64000.000000</td>\n",
              "      <td>64000.000000</td>\n",
              "      <td>64000.000000</td>\n",
              "      <td>64000.000000</td>\n",
              "    </tr>\n",
              "    <tr>\n",
              "      <th>mean</th>\n",
              "      <td>5.763734</td>\n",
              "      <td>242.085656</td>\n",
              "      <td>0.551031</td>\n",
              "      <td>0.549719</td>\n",
              "      <td>0.502250</td>\n",
              "      <td>0.332906</td>\n",
              "      <td>0.146781</td>\n",
              "    </tr>\n",
              "    <tr>\n",
              "      <th>std</th>\n",
              "      <td>3.507592</td>\n",
              "      <td>256.158608</td>\n",
              "      <td>0.497393</td>\n",
              "      <td>0.497526</td>\n",
              "      <td>0.499999</td>\n",
              "      <td>0.471257</td>\n",
              "      <td>0.353890</td>\n",
              "    </tr>\n",
              "    <tr>\n",
              "      <th>min</th>\n",
              "      <td>1.000000</td>\n",
              "      <td>29.990000</td>\n",
              "      <td>0.000000</td>\n",
              "      <td>0.000000</td>\n",
              "      <td>0.000000</td>\n",
              "      <td>0.000000</td>\n",
              "      <td>0.000000</td>\n",
              "    </tr>\n",
              "    <tr>\n",
              "      <th>25%</th>\n",
              "      <td>2.000000</td>\n",
              "      <td>64.660000</td>\n",
              "      <td>0.000000</td>\n",
              "      <td>0.000000</td>\n",
              "      <td>0.000000</td>\n",
              "      <td>0.000000</td>\n",
              "      <td>0.000000</td>\n",
              "    </tr>\n",
              "    <tr>\n",
              "      <th>50%</th>\n",
              "      <td>6.000000</td>\n",
              "      <td>158.110000</td>\n",
              "      <td>1.000000</td>\n",
              "      <td>1.000000</td>\n",
              "      <td>1.000000</td>\n",
              "      <td>0.000000</td>\n",
              "      <td>0.000000</td>\n",
              "    </tr>\n",
              "    <tr>\n",
              "      <th>75%</th>\n",
              "      <td>9.000000</td>\n",
              "      <td>325.657500</td>\n",
              "      <td>1.000000</td>\n",
              "      <td>1.000000</td>\n",
              "      <td>1.000000</td>\n",
              "      <td>1.000000</td>\n",
              "      <td>0.000000</td>\n",
              "    </tr>\n",
              "    <tr>\n",
              "      <th>max</th>\n",
              "      <td>12.000000</td>\n",
              "      <td>3345.930000</td>\n",
              "      <td>1.000000</td>\n",
              "      <td>1.000000</td>\n",
              "      <td>1.000000</td>\n",
              "      <td>1.000000</td>\n",
              "      <td>1.000000</td>\n",
              "    </tr>\n",
              "  </tbody>\n",
              "</table>\n",
              "</div>"
            ],
            "text/plain": [
              "            recency       history  used_discount     used_bogo   is_referral  \\\n",
              "count  64000.000000  64000.000000   64000.000000  64000.000000  64000.000000   \n",
              "mean       5.763734    242.085656       0.551031      0.549719      0.502250   \n",
              "std        3.507592    256.158608       0.497393      0.497526      0.499999   \n",
              "min        1.000000     29.990000       0.000000      0.000000      0.000000   \n",
              "25%        2.000000     64.660000       0.000000      0.000000      0.000000   \n",
              "50%        6.000000    158.110000       1.000000      1.000000      1.000000   \n",
              "75%        9.000000    325.657500       1.000000      1.000000      1.000000   \n",
              "max       12.000000   3345.930000       1.000000      1.000000      1.000000   \n",
              "\n",
              "          treatment        target  \n",
              "count  64000.000000  64000.000000  \n",
              "mean       0.332906      0.146781  \n",
              "std        0.471257      0.353890  \n",
              "min        0.000000      0.000000  \n",
              "25%        0.000000      0.000000  \n",
              "50%        0.000000      0.000000  \n",
              "75%        1.000000      0.000000  \n",
              "max        1.000000      1.000000  "
            ]
          },
          "metadata": {
            "tags": []
          },
          "execution_count": 11
        }
      ]
    },
    {
      "cell_type": "code",
      "metadata": {
        "id": "0fQYB8WpDOen"
      },
      "source": [
        "X_train, X_test, y_train, y_test = train_test_split(df.drop('target', axis=1), df['target'], test_size=0.3, random_state=123)"
      ],
      "execution_count": 12,
      "outputs": []
    },
    {
      "cell_type": "code",
      "metadata": {
        "id": "LS-26D8QHAhn"
      },
      "source": [
        "class OHEEncoder(BaseEstimator, TransformerMixin):\n",
        "    def __init__(self, key):\n",
        "        self.key = key\n",
        "        self.columns = []\n",
        "\n",
        "    def fit(self, X, y=None):\n",
        "        self.columns = [col for col in pd.get_dummies(X, prefix=self.key).columns]\n",
        "        return self\n",
        "\n",
        "    def transform(self, X):\n",
        "        print('ohe')\n",
        "        result = pd.get_dummies(X, prefix=self.key)\n",
        "        for col_ in self.columns:\n",
        "            if col_ not in result.columns:\n",
        "                result[col_] = 0\n",
        "        return result[self.columns]\n",
        "\n",
        "\n",
        "class ColumnSelector(BaseEstimator, TransformerMixin):\n",
        "    \"\"\"\n",
        "    Transformer to select a single column from the data frame to perform additional transformations on\n",
        "    \"\"\"\n",
        "    def __init__(self, key):\n",
        "        self.key = key\n",
        "\n",
        "    def fit(self, X, y=None):\n",
        "        return self\n",
        "\n",
        "    def transform(self, X):\n",
        "        return X[self.key]"
      ],
      "execution_count": 13,
      "outputs": []
    },
    {
      "cell_type": "code",
      "metadata": {
        "id": "tRchku7idf5t"
      },
      "source": [
        "PowerT_rec_hist = Pipeline([\n",
        "    ('selector', ColumnSelector(['recency', 'history'])),\n",
        "    ('scaler', PowerTransformer(method='box-cox'))\n",
        "])"
      ],
      "execution_count": 14,
      "outputs": []
    },
    {
      "cell_type": "code",
      "metadata": {
        "id": "Lg2Ly-YYhK5B"
      },
      "source": [
        "OHE = Pipeline([\n",
        "    ('selector', ColumnSelector(['zip_code', 'channel'])),\n",
        "    ('OHE', OHEEncoder(key=['zip_code', 'channel']))\n",
        "])"
      ],
      "execution_count": 15,
      "outputs": []
    },
    {
      "cell_type": "code",
      "metadata": {
        "id": "K9Xx_Y5Qhckv"
      },
      "source": [
        "Other_feat = Pipeline([\n",
        "    ('selector', ColumnSelector(['used_discount', 'used_bogo', 'is_referral']))\n",
        "])"
      ],
      "execution_count": 16,
      "outputs": []
    },
    {
      "cell_type": "code",
      "metadata": {
        "id": "Y2XFUYWcFHuq"
      },
      "source": [
        "feats = FeatureUnion([\n",
        "                      ('PowerT_rec_hist', PowerT_rec_hist),\n",
        "                      ('OHE', OHE),\n",
        "                      ('Other_feat', Other_feat)])"
      ],
      "execution_count": 17,
      "outputs": []
    },
    {
      "cell_type": "code",
      "metadata": {
        "id": "Frgt9TwdhvxA"
      },
      "source": [
        "from sklift.metrics import uplift_at_k\n",
        "from sklift.models import SoloModel, TwoModels, ClassTransformation\n",
        "from sklearn.linear_model import LogisticRegression\n",
        "from catboost import CatBoostClassifier"
      ],
      "execution_count": 18,
      "outputs": []
    },
    {
      "cell_type": "code",
      "metadata": {
        "id": "_cxH7L_DiANZ"
      },
      "source": [
        "models_results = {\n",
        "    'approach': [],\n",
        "    'uplift@10%': [],\n",
        "    'uplift@20%': []\n",
        "}"
      ],
      "execution_count": 19,
      "outputs": []
    },
    {
      "cell_type": "markdown",
      "metadata": {
        "id": "M2d91MZxbh-b"
      },
      "source": [
        "# SoloModel"
      ]
    },
    {
      "cell_type": "code",
      "metadata": {
        "colab": {
          "base_uri": "https://localhost:8080/"
        },
        "id": "zUU7fgS8kCH0",
        "outputId": "67d002f0-7674-43bf-8aac-5ed5332f53aa"
      },
      "source": [
        "sm = Pipeline([\n",
        "    ('features',feats),\n",
        "    ('classifier', SoloModel(LogisticRegression(C=0.1)))\n",
        "])\n",
        "\n",
        "\n",
        "sm = sm.fit(X_train.drop('treatment', axis=1), y_train, classifier__treatment=X_train['treatment'])"
      ],
      "execution_count": 20,
      "outputs": [
        {
          "output_type": "stream",
          "text": [
            "ohe\n"
          ],
          "name": "stdout"
        }
      ]
    },
    {
      "cell_type": "code",
      "metadata": {
        "colab": {
          "base_uri": "https://localhost:8080/"
        },
        "id": "pEC5Gl2TlJh0",
        "outputId": "e383408b-97dc-4042-a28c-59803e000fdc"
      },
      "source": [
        "uplift_sm = sm.predict(X_test.drop('treatment', axis=1))"
      ],
      "execution_count": 21,
      "outputs": [
        {
          "output_type": "stream",
          "text": [
            "ohe\n"
          ],
          "name": "stdout"
        }
      ]
    },
    {
      "cell_type": "code",
      "metadata": {
        "id": "la9yF40Qk-eY"
      },
      "source": [
        "sm_score10 = uplift_at_k(y_true=y_test, uplift=uplift_sm, treatment=X_test['treatment'], strategy='by_group', k=0.1)\n",
        "sm_score20 = uplift_at_k(y_true=y_test, uplift=uplift_sm, treatment=X_test['treatment'], strategy='by_group', k=0.2)\n",
        "\n",
        "models_results['approach'].append('SoloModel')\n",
        "models_results['uplift@10%'].append(sm_score10)\n",
        "models_results['uplift@20%'].append(sm_score20)"
      ],
      "execution_count": 22,
      "outputs": []
    },
    {
      "cell_type": "code",
      "metadata": {
        "id": "9W0MabKgYyzB"
      },
      "source": [
        "sm_trmnt_preds = sm.named_steps['classifier'].trmnt_preds_\n",
        "sm_ctrl_preds = sm.named_steps['classifier'].ctrl_preds_"
      ],
      "execution_count": 23,
      "outputs": []
    },
    {
      "cell_type": "code",
      "metadata": {
        "colab": {
          "base_uri": "https://localhost:8080/",
          "height": 446
        },
        "id": "JnGXmUXlZTOQ",
        "outputId": "364c3ae9-cd38-45ad-b1a2-5f3eac5db83f"
      },
      "source": [
        "plot_uplift_preds_(sm_trmnt_preds, sm_ctrl_preds, bins=10)"
      ],
      "execution_count": 24,
      "outputs": [
        {
          "output_type": "execute_result",
          "data": {
            "text/plain": [
              "array([<matplotlib.axes._subplots.AxesSubplot object at 0x7f418dbbe2d0>,\n",
              "       <matplotlib.axes._subplots.AxesSubplot object at 0x7f418bb79dd0>,\n",
              "       <matplotlib.axes._subplots.AxesSubplot object at 0x7f418bb3e450>],\n",
              "      dtype=object)"
            ]
          },
          "metadata": {
            "tags": []
          },
          "execution_count": 24
        },
        {
          "output_type": "display_data",
          "data": {
            "image/png": "[encoded data removed]",
            "text/plain": [
              "<Figure size 1440x504 with 3 Axes>"
            ]
          },
          "metadata": {
            "tags": [],
            "needs_background": "light"
          }
        }
      ]
    },
    {
      "cell_type": "markdown",
      "metadata": {
        "id": "yxL_FqsEbmFl"
      },
      "source": [
        "# ClassTransformation"
      ]
    },
    {
      "cell_type": "code",
      "metadata": {
        "colab": {
          "base_uri": "https://localhost:8080/"
        },
        "id": "GEBpr327bt-m",
        "outputId": "03c4e5d4-8502-4743-e16a-288c78c531b4"
      },
      "source": [
        "ct = Pipeline([\n",
        "    ('features',feats),\n",
        "    ('classifier', ClassTransformation(LogisticRegression(C=0.1)))\n",
        "])\n",
        "\n",
        "\n",
        "ct = ct.fit(X_train.drop('treatment', axis=1), y_train, classifier__treatment=X_train['treatment'])"
      ],
      "execution_count": 25,
      "outputs": [
        {
          "output_type": "stream",
          "text": [
            "ohe\n"
          ],
          "name": "stdout"
        },
        {
          "output_type": "stream",
          "text": [
            "/usr/local/lib/python3.7/dist-packages/sklearn/pipeline.py:354: UserWarning: It is recommended to use this approach on treatment balanced data. Current sample size is unbalanced.\n",
            "  self._final_estimator.fit(Xt, y, **fit_params)\n"
          ],
          "name": "stderr"
        }
      ]
    },
    {
      "cell_type": "code",
      "metadata": {
        "colab": {
          "base_uri": "https://localhost:8080/"
        },
        "id": "Yk6trE1Ae1Ak",
        "outputId": "165e7c9e-471d-4229-c34b-6cb8626bb496"
      },
      "source": [
        "uplift_ct = ct.predict(X_test.drop('treatment', axis=1))"
      ],
      "execution_count": 26,
      "outputs": [
        {
          "output_type": "stream",
          "text": [
            "ohe\n"
          ],
          "name": "stdout"
        }
      ]
    },
    {
      "cell_type": "code",
      "metadata": {
        "id": "FhzqhRFXe2jL"
      },
      "source": [
        "ct_score10 = uplift_at_k(y_true=y_test, uplift=uplift_ct, treatment=X_test['treatment'], strategy='by_group', k=0.1)\n",
        "ct_score20 = uplift_at_k(y_true=y_test, uplift=uplift_ct, treatment=X_test['treatment'], strategy='by_group', k=0.2)\n",
        "\n",
        "models_results['approach'].append('ClassTransform')\n",
        "models_results['uplift@10%'].append(ct_score10)\n",
        "models_results['uplift@20%'].append(ct_score20)"
      ],
      "execution_count": 27,
      "outputs": []
    },
    {
      "cell_type": "markdown",
      "metadata": {
        "id": "gjk_fby4bqYt"
      },
      "source": [
        "# TwoModels"
      ]
    },
    {
      "cell_type": "code",
      "metadata": {
        "colab": {
          "base_uri": "https://localhost:8080/",
          "height": 417
        },
        "id": "gIyggA7zguIH",
        "outputId": "a31c7b73-e0f2-401a-f65e-f7906284c0d0"
      },
      "source": [
        "tm = TwoModels(\n",
        "    estimator_trmnt=LogisticRegression(C=0.1), \n",
        "    estimator_ctrl=LogisticRegression(C=0.1), \n",
        "    method='vanilla'\n",
        "  )\n",
        "\n",
        "tm_pip = Pipeline([\n",
        "    ('features',feats),\n",
        "    ('classifier', tm)\n",
        "])\n",
        "\n",
        "\n",
        "tm = tm_pip.fit(\n",
        "    X_train.drop('treatment', axis=1), y_train, classifier__treatment=X_train['treatment'] \n",
        ")\n",
        "\n",
        "uplift_tm = tm.predict(X_test.drop('treatment', axis=1))\n",
        "\n",
        "tm_score10 = uplift_at_k(y_true=y_test, uplift=uplift_tm, treatment=X_test['treatment'], strategy='by_group', k=0.1)\n",
        "tm_score20 = uplift_at_k(y_true=y_test, uplift=uplift_tm, treatment=X_test['treatment'], strategy='by_group', k=0.2)\n",
        "\n",
        "models_results['approach'].append('TwoModels')\n",
        "models_results['uplift@10%'].append(tm_score10)\n",
        "models_results['uplift@20%'].append(tm_score20)\n",
        "\n",
        "plot_uplift_preds_(trmnt_preds=tm.named_steps['classifier'].trmnt_preds_, ctrl_preds=tm.named_steps['classifier'].ctrl_preds_);"
      ],
      "execution_count": 28,
      "outputs": [
        {
          "output_type": "stream",
          "text": [
            "ohe\n",
            "ohe\n"
          ],
          "name": "stdout"
        },
        {
          "output_type": "display_data",
          "data": {
            "image/png": "[encoded data removed]",
            "text/plain": [
              "<Figure size 1440x504 with 3 Axes>"
            ]
          },
          "metadata": {
            "tags": [],
            "needs_background": "light"
          }
        }
      ]
    },
    {
      "cell_type": "markdown",
      "metadata": {
        "id": "grrlR2Y3irBe"
      },
      "source": [
        "# Результаты"
      ]
    },
    {
      "cell_type": "code",
      "metadata": {
        "colab": {
          "base_uri": "https://localhost:8080/",
          "height": 142
        },
        "id": "UFFOQHIbh3QW",
        "outputId": "407d4a10-e9a2-45a5-8e82-0cc8871be3cd"
      },
      "source": [
        "pd.DataFrame(data=models_results)[['approach','uplift@10%']].sort_values('uplift@10%', ascending=False)"
      ],
      "execution_count": 29,
      "outputs": [
        {
          "output_type": "execute_result",
          "data": {
            "text/html": [
              "<div>\n",
              "<style scoped>\n",
              "    .dataframe tbody tr th:only-of-type {\n",
              "        vertical-align: middle;\n",
              "    }\n",
              "\n",
              "    .dataframe tbody tr th {\n",
              "        vertical-align: top;\n",
              "    }\n",
              "\n",
              "    .dataframe thead th {\n",
              "        text-align: right;\n",
              "    }\n",
              "</style>\n",
              "<table border=\"1\" class=\"dataframe\">\n",
              "  <thead>\n",
              "    <tr style=\"text-align: right;\">\n",
              "      <th></th>\n",
              "      <th>approach</th>\n",
              "      <th>uplift@10%</th>\n",
              "    </tr>\n",
              "  </thead>\n",
              "  <tbody>\n",
              "    <tr>\n",
              "      <th>1</th>\n",
              "      <td>ClassTransform</td>\n",
              "      <td>-0.029744</td>\n",
              "    </tr>\n",
              "    <tr>\n",
              "      <th>0</th>\n",
              "      <td>SoloModel</td>\n",
              "      <td>-0.040671</td>\n",
              "    </tr>\n",
              "    <tr>\n",
              "      <th>2</th>\n",
              "      <td>TwoModels</td>\n",
              "      <td>-0.055627</td>\n",
              "    </tr>\n",
              "  </tbody>\n",
              "</table>\n",
              "</div>"
            ],
            "text/plain": [
              "         approach  uplift@10%\n",
              "1  ClassTransform   -0.029744\n",
              "0       SoloModel   -0.040671\n",
              "2       TwoModels   -0.055627"
            ]
          },
          "metadata": {
            "tags": []
          },
          "execution_count": 29
        }
      ]
    },
    {
      "cell_type": "code",
      "metadata": {
        "colab": {
          "base_uri": "https://localhost:8080/",
          "height": 142
        },
        "id": "_z-dCBKHi8r2",
        "outputId": "df2eef61-b142-4f2f-d1c3-3e1de36e27a3"
      },
      "source": [
        "pd.DataFrame(data=models_results)[['approach','uplift@20%']].sort_values('uplift@20%', ascending=False)"
      ],
      "execution_count": 30,
      "outputs": [
        {
          "output_type": "execute_result",
          "data": {
            "text/html": [
              "<div>\n",
              "<style scoped>\n",
              "    .dataframe tbody tr th:only-of-type {\n",
              "        vertical-align: middle;\n",
              "    }\n",
              "\n",
              "    .dataframe tbody tr th {\n",
              "        vertical-align: top;\n",
              "    }\n",
              "\n",
              "    .dataframe thead th {\n",
              "        text-align: right;\n",
              "    }\n",
              "</style>\n",
              "<table border=\"1\" class=\"dataframe\">\n",
              "  <thead>\n",
              "    <tr style=\"text-align: right;\">\n",
              "      <th></th>\n",
              "      <th>approach</th>\n",
              "      <th>uplift@20%</th>\n",
              "    </tr>\n",
              "  </thead>\n",
              "  <tbody>\n",
              "    <tr>\n",
              "      <th>2</th>\n",
              "      <td>TwoModels</td>\n",
              "      <td>-0.034441</td>\n",
              "    </tr>\n",
              "    <tr>\n",
              "      <th>0</th>\n",
              "      <td>SoloModel</td>\n",
              "      <td>-0.040267</td>\n",
              "    </tr>\n",
              "    <tr>\n",
              "      <th>1</th>\n",
              "      <td>ClassTransform</td>\n",
              "      <td>-0.041835</td>\n",
              "    </tr>\n",
              "  </tbody>\n",
              "</table>\n",
              "</div>"
            ],
            "text/plain": [
              "         approach  uplift@20%\n",
              "2       TwoModels   -0.034441\n",
              "0       SoloModel   -0.040267\n",
              "1  ClassTransform   -0.041835"
            ]
          },
          "metadata": {
            "tags": []
          },
          "execution_count": 30
        }
      ]
    }
  ]
}