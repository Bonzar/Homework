{
  "nbformat": 4,
  "nbformat_minor": 0,
  "metadata": {
    "kernelspec": {
      "display_name": "Python 3",
      "language": "python",
      "name": "python3"
    },
    "language_info": {
      "codemirror_mode": {
        "name": "ipython",
        "version": 3
      },
      "file_extension": ".py",
      "mimetype": "text/x-python",
      "name": "python",
      "nbconvert_exporter": "python",
      "pygments_lexer": "ipython3",
      "version": "3.7.6"
    },
    "colab": {
      "name": "Классификация.Лог-регрессия.Дискриминационная способность.ipynb",
      "provenance": []
    }
  },
  "cells": [
    {
      "cell_type": "code",
      "metadata": {
        "id": "6SimR20IPPUJ"
      },
      "source": [
        "import matplotlib\n",
        "import numpy as np\n",
        "import matplotlib.pyplot as plt\n",
        "from scipy.stats import norm\n",
        "%matplotlib inline"
      ],
      "execution_count": 19,
      "outputs": []
    },
    {
      "cell_type": "code",
      "metadata": {
        "id": "1EC4phQZPPUO"
      },
      "source": [
        "# Возьмем 2 признака и 1000 объектов\n",
        "n_features = 2\n",
        "n_objects = 1000\n",
        "\n",
        "# сгенерируем вектор истинных весов\n",
        "w_true = np.random.normal(size=(1, n_features ))\n",
        "\n",
        "# сгенерируем матрицу X, вычислим Y с добавлением случайного шума\n",
        "X = np.random.uniform(-7, 7, (n_objects, n_features))\n",
        "shift=np.random.uniform(-3, 3)\n",
        "Y = X.dot(w_true.T).flatten()+shift + np.random.normal(0, 0.5, size=(n_objects,))\n",
        "\n",
        "#Рассчитываем вероятности\n",
        "Prob_negative=norm.pdf(Y, loc=3, scale=1.5)\n",
        "Prob_positive=norm.pdf(Y, loc=8, scale=0.9)\n",
        "prob=Prob_negative/(Prob_negative+Prob_positive)\n",
        "\n",
        "#Генерируем лейблы классов\n",
        "Y = np.where(np.random.uniform(size=Y.size)>prob, 1, 0)\n",
        "\n",
        "# разбивка на обучающую и тестовую выборки\n",
        "train_proportion = 0.7\n",
        "train_test_cut = int(len(X) * train_proportion)\n",
        "\n",
        "shuffle_index = np.random.permutation(len(X))\n",
        "X_shuffled, Y_shuffled = X[shuffle_index], Y[shuffle_index]\n",
        "\n",
        "X_train, X_test, y_train, y_test = \\\n",
        "    X_shuffled[:train_test_cut], \\\n",
        "    X_shuffled[train_test_cut:], \\\n",
        "    Y_shuffled[:train_test_cut], \\\n",
        "    Y_shuffled[train_test_cut:]"
      ],
      "execution_count": 38,
      "outputs": []
    },
    {
      "cell_type": "code",
      "metadata": {
        "id": "UYnJLgXEVVv1"
      },
      "source": [
        "def confusion(predicted, actual):\n",
        "    TP=np.sum(np.logical_and(predicted==1, actual==1))\n",
        "    FP=np.sum(np.logical_and(predicted==1, actual==0))\n",
        "    FN=np.sum(np.logical_and(predicted==0, actual==1))\n",
        "    TN=np.sum(np.logical_and(predicted==0, actual==0))\n",
        "    return {'TP': TP, 'FP': FP, 'FN': FN, 'TN': TN}"
      ],
      "execution_count": 39,
      "outputs": []
    },
    {
      "cell_type": "code",
      "metadata": {
        "id": "9dKtHt-_PPUr"
      },
      "source": [
        "class logistic_regression:\n",
        "    def __init__(self, n_iterations=1000, eta=0.05):\n",
        "        self.n_iterations=1000\n",
        "        self.eta=eta\n",
        "    @staticmethod\n",
        "    def log_grad(w, c, X, target):\n",
        "        m = X.shape[0]\n",
        "        y=(2*target-1)\n",
        "        score=np.dot(X, w.T).flatten()\n",
        "        Z=-y/(m*(1+np.exp(y*score)))\n",
        "        grad=Z[np.newaxis, :].dot(X)\n",
        "        return grad/m, np.sum(Z)/m\n",
        "    @classmethod\n",
        "    def optimize(cls, w, c, X, y, n_iterations, eta):\n",
        "        for i in range(n_iterations):        \n",
        "            grad_w, grad_c = cls.log_grad(w, c, X, y)\n",
        "            w = w - eta * grad_w\n",
        "            c = c - eta * grad_c\n",
        "        return w, c\n",
        "    def fit(self, X, y):\n",
        "        w0 = np.zeros((1, X.shape[1]))\n",
        "        c0=0\n",
        "        self.w, self.c= self.optimize(w0, c0, X, y, self.n_iterations, self.eta)\n",
        "    def predict_proba(self, X):  \n",
        "        '''\n",
        "        Рассчёт вероятности\n",
        "        '''\n",
        "        score=X.dot(self.w.T).flatten()+self.c\n",
        "        return 1/(1+np.exp(-score))\n",
        "    def predict(self, X, thr=0.5):\n",
        "        proba=self.predict_proba(X)\n",
        "        y_predicted = np.zeros(proba.shape, dtype=bool) \n",
        "        y_predicted[proba>thr]=1\n",
        "        y_predicted[proba<=thr]=0\n",
        "        return y_predicted"
      ],
      "execution_count": 40,
      "outputs": []
    },
    {
      "cell_type": "code",
      "metadata": {
        "colab": {
          "base_uri": "https://localhost:8080/"
        },
        "id": "OCdwKN8fPPUs",
        "outputId": "4bc38240-7716-44d2-c50f-67d7bc1ccaf4"
      },
      "source": [
        "mod=logistic_regression()\n",
        "\n",
        "mod.fit(X_train, y_train)\n",
        "y_predicted_test = mod.predict(X_test)\n",
        "confusion(y_predicted_test, y_test)\n",
        "\n",
        "num_pos=np.sum(y_test)\n",
        "num_neg=len(y_test)-num_pos\n",
        "print(f'{num_pos} объектов положительного класса, {num_neg} объектов негативного класса')\n",
        "print()\n",
        "\n",
        "#Чувствительность\n",
        "TPR=np.concatenate([[0], np.cumsum(1-y_test)/num_neg])\n",
        "\n",
        "#Ложно-позитивный уровень\n",
        "FPR=np.concatenate([[0], np.cumsum(y_test)/num_pos])\n",
        "\n",
        "AUC_ROC = np.sum(0.5*(FPR[1:]-FPR[:-1])*(TPR[1:]+TPR[:-1]))\n",
        "\n",
        "precision=np.cumsum(1-y_test)/(np.cumsum(1-y_test)+np.cumsum(y_test))\n",
        "precision\n",
        "\n",
        "recall = TPR\n",
        "\n",
        "AUC_PR = np.sum(precision*(recall[1:]-recall[:-1]))\n",
        "\n",
        "print(f'AUC_ROC = {AUC_ROC:.3f}, AUC_PR = {AUC_PR:.3f}')\n"
      ],
      "execution_count": 41,
      "outputs": [
        {
          "output_type": "stream",
          "text": [
            "62 объектов положительного класса, 238 объектов негативного класса\n",
            "\n",
            "AUC_ROC = 0.544, AUC_PR = 0.826\n"
          ],
          "name": "stdout"
        }
      ]
    }
  ]
}