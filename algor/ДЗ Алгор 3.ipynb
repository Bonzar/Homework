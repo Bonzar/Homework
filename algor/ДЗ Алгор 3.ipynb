{
 "cells": [
  {
   "cell_type": "code",
   "execution_count": 1,
   "metadata": {
    "id": "6SimR20IPPUJ"
   },
   "outputs": [],
   "source": [
    "import matplotlib\n",
    "import numpy as np\n",
    "import matplotlib.pyplot as plt\n",
    "from scipy.stats import norm\n",
    "from sklearn import datasets\n",
    "%matplotlib inline"
   ]
  },
  {
   "cell_type": "code",
   "execution_count": 2,
   "metadata": {
    "id": "1EC4phQZPPUO"
   },
   "outputs": [
    {
     "name": "stdout",
     "output_type": "stream",
     "text": [
      "Размер массива признаков обучающей выборки (700, 2)\n",
      "Размер массива признаков тестовой выборки (300, 2)\n",
      "Размер массива ответов для обучающей выборки (700,)\n",
      "Размер массива ответов для тестовой выборки (300,)\n"
     ]
    }
   ],
   "source": [
    "# сгеренируем данные с помощью sklearn.datasets\n",
    "classes = datasets.make_classification(n_samples=1000, n_features=2, n_informative=2,\n",
    "                                       n_redundant=0, n_classes=2, random_state=1)\n",
    "\n",
    "# перемешивание датасета\n",
    "np.random.seed(12)\n",
    "shuffle_index = np.random.permutation(classes[0].shape[0])\n",
    "X_shuffled, y_shuffled = classes[0][shuffle_index], classes[1][shuffle_index]\n",
    "\n",
    "# разбивка на обучающую и тестовую выборки\n",
    "train_proportion = 0.7\n",
    "train_test_cut = int(len(classes[0]) * train_proportion)\n",
    "\n",
    "X_train, X_test, y_train, y_test = \\\n",
    "    X_shuffled[:train_test_cut], \\\n",
    "    X_shuffled[train_test_cut:], \\\n",
    "    y_shuffled[:train_test_cut], \\\n",
    "    y_shuffled[train_test_cut:]\n",
    "    \n",
    "print(\"Размер массива признаков обучающей выборки\", X_train.shape)\n",
    "print(\"Размер массива признаков тестовой выборки\", X_test.shape)\n",
    "print(\"Размер массива ответов для обучающей выборки\", y_train.shape)\n",
    "print(\"Размер массива ответов для тестовой выборки\", y_test.shape)"
   ]
  },
  {
   "cell_type": "code",
   "execution_count": 3,
   "metadata": {
    "id": "UYnJLgXEVVv1"
   },
   "outputs": [],
   "source": [
    "def confusion(predicted, actual):\n",
    "    TP=np.sum(np.logical_and(predicted==1, actual==1))\n",
    "    FP=np.sum(np.logical_and(predicted==1, actual==0))\n",
    "    FN=np.sum(np.logical_and(predicted==0, actual==1))\n",
    "    TN=np.sum(np.logical_and(predicted==0, actual==0))\n",
    "    return {'TP': TP, 'FP': FP, 'FN': FN, 'TN': TN}"
   ]
  },
  {
   "cell_type": "code",
   "execution_count": 4,
   "metadata": {
    "id": "9dKtHt-_PPUr"
   },
   "outputs": [],
   "source": [
    "class logistic_regression:\n",
    "    def __init__(self, n_iterations=1000, eta=0.05):\n",
    "        self.n_iterations=1000\n",
    "        self.eta=eta\n",
    "    @staticmethod\n",
    "    def log_grad(w, c, X, target):\n",
    "        m = X.shape[0]\n",
    "        y=(2*target-1)\n",
    "        score=np.dot(X, w.T).flatten()\n",
    "        Z=-y/(m*(1+np.exp(y*score)))\n",
    "        grad=Z[np.newaxis, :].dot(X)\n",
    "        return grad/m, np.sum(Z)/m\n",
    "    @classmethod\n",
    "    def optimize(cls, w, c, X, y, n_iterations, eta):\n",
    "        for i in range(n_iterations):        \n",
    "            grad_w, grad_c = cls.log_grad(w, c, X, y)\n",
    "            w = w - eta * grad_w\n",
    "            c = c - eta * grad_c\n",
    "        return w, c\n",
    "    def fit(self, X, y):\n",
    "        w0 = np.zeros((1, X.shape[1]))\n",
    "        c0=0\n",
    "        self.w, self.c= self.optimize(w0, c0, X, y, self.n_iterations, self.eta)\n",
    "    def predict_proba(self, X):  \n",
    "        '''\n",
    "        Рассчёт вероятности\n",
    "        '''\n",
    "        score=X.dot(self.w.T).flatten()+self.c\n",
    "        return 1/(1+np.exp(-score))\n",
    "    def predict(self, X, thr=0.5):\n",
    "        proba=self.predict_proba(X)\n",
    "        y_predicted = np.zeros(proba.shape, dtype=bool) \n",
    "        y_predicted[proba>thr]=1\n",
    "        y_predicted[proba<=thr]=0\n",
    "        return y_predicted"
   ]
  },
  {
   "cell_type": "code",
   "execution_count": 5,
   "metadata": {
    "colab": {
     "base_uri": "https://localhost:8080/"
    },
    "id": "OCdwKN8fPPUs",
    "outputId": "4bc38240-7716-44d2-c50f-67d7bc1ccaf4"
   },
   "outputs": [
    {
     "name": "stdout",
     "output_type": "stream",
     "text": [
      "{'TP': 122, 'FP': 31, 'FN': 16, 'TN': 131}\n",
      "138 объектов положительного класса, 162 объектов негативного класса\n",
      "\n"
     ]
    }
   ],
   "source": [
    "mod=logistic_regression()\n",
    "\n",
    "mod.fit(X_train, y_train)\n",
    "\n",
    "y_predicted_test = mod.predict(X_test)\n",
    "order = np.argsort(mod.predict_proba(X_test))\n",
    "order_targets = y_test[order]\n",
    "\n",
    "print(confusion(y_predicted_test, y_test))\n",
    "\n",
    "num_pos=np.sum(order_targets)\n",
    "num_neg=len(order_targets)-num_pos\n",
    "print(f'{num_pos} объектов положительного класса, {num_neg} объектов негативного класса')\n",
    "print()\n",
    "\n",
    "#Чувствительность\n",
    "TPR=np.concatenate([[0], np.cumsum(1-order_targets)/num_neg])\n",
    "\n",
    "#Ложно-позитивный уровень\n",
    "FPR=np.concatenate([[0], np.cumsum(order_targets)/num_pos])"
   ]
  },
  {
   "cell_type": "code",
   "execution_count": 6,
   "metadata": {},
   "outputs": [
    {
     "data": {
      "text/plain": [
       "[<matplotlib.lines.Line2D at 0x7ffde8fac430>]"
      ]
     },
     "execution_count": 6,
     "metadata": {},
     "output_type": "execute_result"
    },
    {
     "data": {
      "image/png": "[encoded data removed]",
      "text/plain": [
       "<Figure size 432x288 with 1 Axes>"
      ]
     },
     "metadata": {
      "needs_background": "light"
     },
     "output_type": "display_data"
    }
   ],
   "source": [
    "AUC_ROC = np.sum(0.5*(FPR[1:]-FPR[:-1])*(TPR[1:]+TPR[:-1]))\n",
    "\n",
    "precision=np.cumsum(1-order_targets)/(np.cumsum(1-order_targets)+np.cumsum(order_targets))\n",
    "precision\n",
    "\n",
    "plt.title('ROC curve')\n",
    "plt.ylim(0, 1.05)\n",
    "plt.xlabel('FPR')\n",
    "plt.ylabel('TPR')\n",
    "plt.grid()\n",
    "plt.legend(' ', title=f'AUC-ROC={AUC_ROC:.3f}', loc='lower right')\n",
    "plt.plot(FPR, TPR)"
   ]
  },
  {
   "cell_type": "code",
   "execution_count": 7,
   "metadata": {},
   "outputs": [
    {
     "data": {
      "text/plain": [
       "[<matplotlib.lines.Line2D at 0x7ffde98bb610>]"
      ]
     },
     "execution_count": 7,
     "metadata": {},
     "output_type": "execute_result"
    },
    {
     "data": {
      "image/png": "[encoded data removed]",
      "text/plain": [
       "<Figure size 432x288 with 1 Axes>"
      ]
     },
     "metadata": {
      "needs_background": "light"
     },
     "output_type": "display_data"
    }
   ],
   "source": [
    "recall = TPR\n",
    "\n",
    "AUC_PR = np.sum(precision*(recall[1:]-recall[:-1]))\n",
    "\n",
    "plt.title('PR curve')\n",
    "plt.ylim(0, 1.05)\n",
    "plt.xlabel('recall')\n",
    "plt.ylabel('presision')\n",
    "plt.grid()\n",
    "plt.legend(' ', title=f'AUC-PR={AUC_PR:.3f}', loc='lower right')\n",
    "plt.plot(recall[1:], precision)"
   ]
  },
  {
   "cell_type": "code",
   "execution_count": 8,
   "metadata": {},
   "outputs": [
    {
     "name": "stdout",
     "output_type": "stream",
     "text": [
      "AUC_ROC = 0.912, AUC_PR = 0.933\n"
     ]
    }
   ],
   "source": [
    "print(f'AUC_ROC = {AUC_ROC:.3f}, AUC_PR = {AUC_PR:.3f}')"
   ]
  }
 ],
 "metadata": {
  "colab": {
   "name": "Классификация.Лог-регрессия.Дискриминационная способность.ipynb",
   "provenance": []
  },
  "kernelspec": {
   "display_name": "Python 3",
   "language": "python",
   "name": "python3"
  },
  "language_info": {
   "codemirror_mode": {
    "name": "ipython",
    "version": 3
   },
   "file_extension": ".py",
   "mimetype": "text/x-python",
   "name": "python",
   "nbconvert_exporter": "python",
   "pygments_lexer": "ipython3",
   "version": "3.8.5"
  }
 },
 "nbformat": 4,
 "nbformat_minor": 1
}
