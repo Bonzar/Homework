{
 "cells": [
  {
   "cell_type": "markdown",
   "metadata": {},
   "source": [
    "## ДЗ. ч1. Регуляризация"
   ]
  },
  {
   "cell_type": "code",
   "execution_count": 1,
   "metadata": {},
   "outputs": [],
   "source": [
    "import matplotlib\n",
    "import numpy as np\n",
    "import matplotlib.pyplot as plt\n",
    "from linear_regression import linear_regression\n",
    "from sklearn.linear_model import LinearRegression as sklearn_LR\n",
    "%matplotlib inline"
   ]
  },
  {
   "cell_type": "code",
   "execution_count": 2,
   "metadata": {},
   "outputs": [
    {
     "data": {
      "text/plain": [
       "[<matplotlib.lines.Line2D at 0x7fa7910f24f0>]"
      ]
     },
     "execution_count": 2,
     "metadata": {},
     "output_type": "execute_result"
    },
    {
     "data": {
      "image/png": "[encoded data removed]",
      "text/plain": [
       "<Figure size 432x288 with 1 Axes>"
      ]
     },
     "metadata": {
      "needs_background": "light"
     },
     "output_type": "display_data"
    }
   ],
   "source": [
    "def f(x):\n",
    "    return 0.6 - 13.2 * x - 5.3 * x ** 2 - 4.17 * x ** 3\n",
    "dots = np.linspace(-10, 10, 100)\n",
    "plt.xlabel('x')\n",
    "plt.ylabel('f(x)')\n",
    "plt.ylim(-5000, 5000)\n",
    "plt.xlim(-10,10)\n",
    "\n",
    "plt.plot(dots, f(dots), color='g')"
   ]
  },
  {
   "cell_type": "code",
   "execution_count": 3,
   "metadata": {},
   "outputs": [],
   "source": [
    "def f(x):\n",
    "    return 0.6 - 13.2 * x - 5.3 * x ** 2 - 4.17 * x ** 3\n",
    "np.random.seed(16)\n",
    "x_data = np.random.uniform(-10, 10, 10)\n",
    "f_data = [f(i) for i in x_data] + np.random.uniform(-1000, 1000, 10)"
   ]
  },
  {
   "cell_type": "code",
   "execution_count": 4,
   "metadata": {},
   "outputs": [],
   "source": [
    "class polynomial_regression (linear_regression):\n",
    "    def __init__(self, max_power, *args, **kwargs):\n",
    "        self.max_power=max_power\n",
    "        super().__init__(*args, **kwargs)\n",
    "    @staticmethod\n",
    "    def generate_features(x, max_power):\n",
    "        x=x[:, np.newaxis]\n",
    "        return np.concatenate([x**i for i in range(1, max_power+1)], axis=1)\n",
    "    def fit(self, x, y):\n",
    "        super().fit(self.generate_features(x, self.max_power), y[:, np.newaxis])\n",
    "    def predict(self, x):\n",
    "        return super().predict(self.generate_features(x, self.max_power)).flatten()\n",
    "    def test(self, x, y):\n",
    "        return super().test(self.generate_features(x, self.max_power), y[:, np.newaxis])\n",
    "    \n",
    "class polynomial_regression_sklearn(sklearn_LR):\n",
    "    def __init__(self, max_power, *args, **kwargs):\n",
    "        self.max_power=max_power\n",
    "        super().__init__(*args, **kwargs)\n",
    "    generate_features=staticmethod(polynomial_regression.generate_features)\n",
    "    def fit(self, x, y):\n",
    "        super().fit(self.generate_features(x, self.max_power), y)\n",
    "    def predict(self, x):\n",
    "        return super().predict(self.generate_features(x, self.max_power))"
   ]
  },
  {
   "cell_type": "markdown",
   "metadata": {},
   "source": [
    "---"
   ]
  },
  {
   "cell_type": "code",
   "execution_count": 5,
   "metadata": {},
   "outputs": [],
   "source": [
    "class new_polynomial_regression(polynomial_regression):\n",
    "    @staticmethod\n",
    "    def mserror(X, w, c0, y_real):\n",
    "        y = X.dot(w.T)+c0\n",
    "        return np.sum((y - y_real)**2) / y_real.shape[0] + 10*np.sum(w**2)\n",
    "    @staticmethod\n",
    "    def mserror_grad(X, w, c0, y_real):\n",
    "        delta=(X.dot(w.T)+c0-y_real) \n",
    "        return 2*delta.T.dot(X)/y_real.shape[0] + 10*np.sum(2*w), np.sum(2*delta)/y_real.shape[0]\n",
    "    "
   ]
  },
  {
   "cell_type": "code",
   "execution_count": 6,
   "metadata": {},
   "outputs": [
    {
     "data": {
      "text/plain": [
       "[<matplotlib.lines.Line2D at 0x7fa7912177c0>]"
      ]
     },
     "execution_count": 6,
     "metadata": {},
     "output_type": "execute_result"
    },
    {
     "data": {
      "image/png": "[encoded data removed]",
      "text/plain": [
       "<Figure size 432x288 with 1 Axes>"
      ]
     },
     "metadata": {
      "needs_background": "light"
     },
     "output_type": "display_data"
    }
   ],
   "source": [
    "#Актуальные данные\n",
    "plt.xlabel('x')\n",
    "plt.ylabel('f(x)')\n",
    "plt.ylim(-5000, 5000)\n",
    "plt.xlim(-10,10)\n",
    "plt.plot(dots, f(dots), color='g')\n",
    "plt.scatter(x_data, f_data)\n",
    "\n",
    "#Наша модель\n",
    "model1 = new_polynomial_regression(4, 0.0005, max_iter = 1e5)\n",
    "model1.fit(x_data, f_data)\n",
    "plt.plot(dots, model1.predict(dots), color='r')\n",
    "\n",
    "#Sklearn\n",
    "# model2 = polynomial_regression_sklearn(6)\n",
    "# model2.fit(x_data, f_data)\n",
    "# plt.plot(dots, model2.predict(dots), 'm--', linewidth=2)"
   ]
  },
  {
   "cell_type": "markdown",
   "metadata": {},
   "source": [
    "## ДЗ. ч2. Стохастический градиент"
   ]
  },
  {
   "cell_type": "code",
   "execution_count": 7,
   "metadata": {},
   "outputs": [],
   "source": [
    "from sklearn import datasets\n",
    "import numpy as np\n",
    "data, target, coef = datasets.make_regression(n_samples=1000, n_features = 2, n_informative = 2, \n",
    "                                              n_targets = 1, \n",
    "                                              noise = 5, coef = True, random_state = 2)"
   ]
  },
  {
   "cell_type": "code",
   "execution_count": 8,
   "metadata": {},
   "outputs": [],
   "source": [
    "# Получим средние значения и стандартное отклонение по столбцам\n",
    "\n",
    "means = np.mean(data, axis=0)\n",
    "stds = np.std(data, axis=0)\n",
    "# параметр axis указывается для вычисления значений по столбцам, а не по всему массиву\n",
    "#(см. документацию в разделе источников)\n",
    "\n",
    "# вычтем каждое значение признака из среднего и поделим на стандартное отклонение\n",
    "for i in range(data.shape[0]):\n",
    "    for j in range(data.shape[1]):\n",
    "        data[i][j] = (data[i][j] - means[j])/stds[j]"
   ]
  },
  {
   "cell_type": "code",
   "execution_count": 9,
   "metadata": {},
   "outputs": [],
   "source": [
    "# реализуем функцию, определяющую среднеквадратичную ошибку\n",
    "def mserror(X, w, y_pred):\n",
    "    y = X.dot(w.T)\n",
    "    return (sum((y - y_pred)**2)) / len(y)"
   ]
  },
  {
   "cell_type": "code",
   "execution_count": 10,
   "metadata": {},
   "outputs": [
    {
     "name": "stdout",
     "output_type": "stream",
     "text": [
      "8188.141355904686\n",
      "5521.484450864691\n",
      "3728.2437215955943\n",
      "2500.5897819888773\n",
      "1691.098180508168\n",
      "1152.8828921189306\n",
      "787.1365432447\n",
      "543.8486159200149\n",
      "378.9864631511353\n",
      "268.3730172952478\n",
      "193.75146798313526\n",
      "143.6075133652156\n",
      "109.91286928629808\n",
      "87.2932921898281\n",
      "71.55225583295787\n",
      "60.7986522237015\n",
      "53.743351771934634\n",
      "48.93940818352659\n",
      "45.58566543225795\n",
      "43.398114168124756\n",
      "41.79801740610138\n",
      "40.7481198684044\n",
      "40.02991484250265\n",
      "39.55557541316949\n",
      "39.268233143818094\n",
      "39.05361280518062\n",
      "38.89302235785272\n",
      "38.781672055551205\n",
      "38.71317668950622\n",
      "38.66482497960276\n",
      "38.625382696606685\n",
      "38.608175589673024\n",
      "38.590133834247546\n",
      "38.58453613926249\n",
      "38.57700096578504\n",
      "38.577170570094914\n",
      "38.57274787710808\n",
      "38.570938241734886\n",
      "38.56974929752296\n",
      "38.5700674903529\n",
      "38.56933559918379\n",
      "38.56881855996878\n",
      "38.5686495501416\n",
      "38.56879189190044\n",
      "38.56930083358968\n",
      "38.56973627132135\n",
      "38.57137061323526\n",
      "38.570604827078135\n",
      "38.57076927663319\n",
      "38.56934772643747\n",
      "38.568471430689925\n",
      "38.568906664317865\n",
      "38.56897195419231\n",
      "38.56915144174528\n",
      "38.568712357841704\n",
      "38.56861565599072\n",
      "38.568857551346674\n",
      "38.56834416875658\n",
      "38.56839260352439\n",
      "38.568315655593544\n",
      "38.56851677361605\n",
      "38.56827348466526\n",
      "38.56833207028916\n",
      "38.56831613909021\n",
      "38.569209939235265\n",
      "38.56918183553465\n",
      "38.57039760400852\n",
      "38.56936379557351\n",
      "38.56842988249402\n",
      "38.56845514780778\n",
      "38.56844430393274\n",
      "38.56834999849876\n",
      "38.56856745971319\n",
      "38.56841742005924\n",
      "38.568770403394765\n",
      "38.570227384224275\n",
      "38.57008980075585\n",
      "38.57016851958552\n",
      "38.56976659665597\n",
      "38.5696307846613\n",
      "38.57095323995983\n",
      "38.571039124681356\n",
      "38.5692760031636\n",
      "38.56949352894737\n",
      "38.56907583584327\n",
      "38.56848749616477\n",
      "38.56889845632561\n",
      "38.56888212424356\n",
      "38.56843303667203\n",
      "38.5688235746137\n",
      "38.568550985215\n",
      "38.569113320514475\n",
      "38.5686969488182\n",
      "38.56850743776065\n",
      "38.56881246349812\n",
      "38.56826405969866\n",
      "38.568410061843124\n",
      "38.5688798291397\n",
      "38.56834282851084\n",
      "38.568747035870985\n",
      "В случае использования стохастического градиентного спуска функционал ошибки составляет 38.569\n"
     ]
    }
   ],
   "source": [
    "# инициализируем начальный вектор весов\n",
    "w = np.zeros(2)\n",
    "\n",
    "# список векторов весов после каждой итерации\n",
    "w_list = [w.copy()]\n",
    "\n",
    "# список значений ошибок после каждой итерации\n",
    "errors = []\n",
    "\n",
    "# шаг градиентного спуска\n",
    "eta = 0.01\n",
    "\n",
    "# максимальное число итераций\n",
    "max_iter = 1e5\n",
    "\n",
    "# критерий сходимости (разница весов, при которой алгоритм останавливается)\n",
    "min_weight_dist = 1e-8\n",
    "\n",
    "# зададим начальную разницу весов большим числом\n",
    "weight_dist = np.inf\n",
    "\n",
    "# счетчик итераций\n",
    "iter_num = 0\n",
    "\n",
    "np.random.seed(1234)\n",
    "\n",
    "# ход градиентного спуска\n",
    "while weight_dist > min_weight_dist and iter_num < max_iter:\n",
    "    \n",
    "    # генерируем набор случайных индексев объектов выборки\n",
    "    train_ind = [np.random.randint(data.shape[0]) for i in range(10)] \n",
    "    \n",
    "    new_w = w - 2 * eta * np.dot(data[train_ind].T, (np.dot(data[train_ind], w) - target[train_ind])) / target.shape[0]\n",
    "\n",
    "    weight_dist = np.linalg.norm(new_w - w, ord=2)\n",
    "    \n",
    "    w_list.append(new_w.copy())\n",
    "    error=mserror(data, new_w, target)\n",
    "    errors.append(error)\n",
    "    if iter_num %1000==0:\n",
    "        print(error)\n",
    "    \n",
    "    iter_num += 1\n",
    "    w = new_w\n",
    "    \n",
    "w_list = np.array(w_list)\n",
    "\n",
    "print(f'В случае использования стохастического градиентного спуска функционал ошибки составляет {round(errors[-1], 4)}')"
   ]
  }
 ],
 "metadata": {
  "kernelspec": {
   "display_name": "Python 3",
   "language": "python",
   "name": "python3"
  },
  "language_info": {
   "codemirror_mode": {
    "name": "ipython",
    "version": 3
   },
   "file_extension": ".py",
   "mimetype": "text/x-python",
   "name": "python",
   "nbconvert_exporter": "python",
   "pygments_lexer": "ipython3",
   "version": "3.8.5"
  }
 },
 "nbformat": 4,
 "nbformat_minor": 4
}
