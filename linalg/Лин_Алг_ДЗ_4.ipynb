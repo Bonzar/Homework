{
  "nbformat": 4,
  "nbformat_minor": 0,
  "metadata": {
    "colab": {
      "name": "Лин_Алг_ДЗ_4",
      "provenance": [],
      "collapsed_sections": []
    },
    "language_info": {
      "codemirror_mode": {
        "name": "ipython",
        "version": 3
      },
      "file_extension": ".py",
      "mimetype": "text/x-python",
      "name": "python",
      "nbconvert_exporter": "python",
      "pygments_lexer": "ipython3",
      "version": "3.7.1"
    },
    "kernelspec": {
      "display_name": "Python 3",
      "language": "python",
      "name": "python3"
    }
  },
  "cells": [
    {
      "cell_type": "markdown",
      "metadata": {
        "id": "fi1GVcIOZS20"
      },
      "source": [
        "# Урок 6"
      ]
    },
    {
      "cell_type": "markdown",
      "metadata": {
        "id": "J2D422I0ZS5N"
      },
      "source": [
        "## Практическое задание ч.1\n",
        "\n"
      ]
    },
    {
      "cell_type": "markdown",
      "metadata": {
        "id": "Y4r6TCOXOC7w"
      },
      "source": [
        "__1.__ Решить систему уравнений методом Гаусса:\n",
        "\n",
        "$$\\begin{cases}\n",
        "x_{1}+x_{2}-x_{3}-2x_{4}=0, \\\\\n",
        "2x_{1}+x_{2}-x_{3}+x_{4}=-2, \\\\\n",
        "x_{1}+x_{2}-3x_{3}+x_{4}=4.\n",
        "\\end{cases}$$\n",
        "\n",
        "$$\\tilde{A}=\\begin{pmatrix}\\left.\\begin{matrix}\n",
        "1 & 1 & -1 & -2\\\\ \n",
        "2 & 1 & -1 & 1\\\\ \n",
        "1 & 1 & -3 & 1 \\end{matrix}\\right|\n",
        "\\begin{matrix}\n",
        "0\\\\ \n",
        "-2\\\\\n",
        "4\\end{matrix}\\end{pmatrix}.$$\n",
        "\n",
        "$$\\tilde{A}=\\begin{pmatrix}\\left.\\begin{matrix}\n",
        "1 & 0 & 0 & 3\\\\ \n",
        "0 & -1 & 0 & 6.5\\\\ \n",
        "0 & 0 & -1 & 1.5 \\end{matrix}\\right|\n",
        "\\begin{matrix}\n",
        "-2\\\\ \n",
        "0\\\\\n",
        "2\\end{matrix}\\end{pmatrix}.$$\n",
        "\n",
        "$$\\begin{cases}\n",
        "x_{1}+3x_{4}=-2, \\\\\n",
        "-x_{2}+6.5x_{4}=0, \\\\\n",
        "-x_{3}+1.5x_{4}=2.\n",
        "\\end{cases}$$\n",
        "\n",
        "__Общее решение__\n",
        "\n",
        "$$x_{4} = c$$\n",
        "$$x_{3} = -2 + 1.5с$$\n",
        "$$x_{2} = 6.5с$$\n",
        "$$x_{1} =-2 - 3с$$\n",
        "\n",
        "__Частное решение__\n",
        "с = 2\n",
        "$$x_{4} = 2$$\n",
        "$$x_{3} = 1$$\n",
        "$$x_{2} = 13$$\n",
        "$$x_{1} = -8$$\n",
        "\n",
        "$$\\begin{cases}\n",
        "-8 + 6 = -2, \\\\\n",
        "-13+13=0, \\\\\n",
        "-1+3=2.\n",
        "\\end{cases}$$"
      ]
    },
    {
      "cell_type": "markdown",
      "metadata": {
        "id": "ebrxvzGn4Ye4"
      },
      "source": [
        "__2.__ Проверить на совместность и выяснить, сколько решений будет иметь система линейных уравнений:\n",
        "\n",
        "   а) $\\begin{cases}\n",
        "3x_{1}-x_{2}+x_{3}=4, \\\\\n",
        "2x_{1}-5x_{2}-3x_{3}=-17, \\\\\n",
        "x_{1}+x_{2}-x_{3}=0;\n",
        "\\end{cases}$\n",
        "    \n",
        "   б) $\\begin{cases}\n",
        "2x_{1}-4x_{2}+6x_{3}=1, \\\\\n",
        "x_{1}-2x_{2}+3x_{3}=-2, \\\\\n",
        "3x_{1}-6x_{2}+9x_{3}=5;\n",
        "\\end{cases}$\n",
        "    \n",
        "   в) $\\begin{cases}\n",
        "x_{1}+2x_{2}+5x_{3}=4, \\\\\n",
        "3x_{1}+x_{2}-8x_{3}=-2. \n",
        "\\end{cases}$\n"
      ]
    },
    {
      "cell_type": "code",
      "metadata": {
        "id": "Kc-8jnrv4Zhd"
      },
      "source": [
        "import numpy\n",
        "def somvestnost(A_plus):\n",
        "  A = A_plus[:, :-1]\n",
        "  rank_A = numpy.linalg.matrix_rank(A)\n",
        "  rank_A_plus = numpy.linalg.matrix_rank(A_plus)\n",
        "  if rank_A == rank_A_plus:\n",
        "    if rank_A == A.shape[1]:\n",
        "      print(\"Система совместна и определена\")\n",
        "    else:\n",
        "      print(\"Система совместна и не определена\")\n",
        "  else:\n",
        "    print(\"Система не совместна\")"
      ],
      "execution_count": null,
      "outputs": []
    },
    {
      "cell_type": "code",
      "metadata": {
        "colab": {
          "base_uri": "https://localhost:8080/"
        },
        "id": "KGM1zZE8Bc7F",
        "outputId": "1590b709-6006-4ffc-934c-d9f68fa28059"
      },
      "source": [
        "# а)\n",
        "A = numpy.array([[3, -1,  1, 4],\n",
        "                [2, -5, -3, -17],\n",
        "                [1,  1, -1, 0]])\n",
        "\n",
        "somvestnost(A)\n"
      ],
      "execution_count": null,
      "outputs": [
        {
          "output_type": "stream",
          "text": [
            "Система совместна и определена\n"
          ],
          "name": "stdout"
        }
      ]
    },
    {
      "cell_type": "code",
      "metadata": {
        "colab": {
          "base_uri": "https://localhost:8080/"
        },
        "id": "WqXUWSpZBmr9",
        "outputId": "520eacc1-75f6-480e-be33-51750f4fc6f1"
      },
      "source": [
        "# б)\n",
        "B = numpy.array([[2, -4,  6, 1],\n",
        "                [1, -2, 3, -2],\n",
        "                [3,  -6, 9, 5]])\n",
        "\n",
        "somvestnost(B)\n"
      ],
      "execution_count": null,
      "outputs": [
        {
          "output_type": "stream",
          "text": [
            "Система не совместна\n"
          ],
          "name": "stdout"
        }
      ]
    },
    {
      "cell_type": "code",
      "metadata": {
        "colab": {
          "base_uri": "https://localhost:8080/"
        },
        "id": "KC1HtGoHB2yw",
        "outputId": "aa7ba3d1-3ced-4a56-f11f-505e236afc6a"
      },
      "source": [
        "# в)\n",
        "C = numpy.array([[1, 2,  5, 4],\n",
        "                [3, 1, -8, -2]])\n",
        "\n",
        "somvestnost(C)"
      ],
      "execution_count": null,
      "outputs": [
        {
          "output_type": "stream",
          "text": [
            "Система совместна и не определена\n"
          ],
          "name": "stdout"
        }
      ]
    },
    {
      "cell_type": "markdown",
      "metadata": {
        "id": "7-A_WB4QCE27"
      },
      "source": [
        "__3.__ Проверить на совместность и выяснить, сколько решений будет иметь система линейных уравнений, заданная расширенной матрицей\n",
        "\n",
        "$$\\tilde{A}=\\begin{pmatrix}\n",
        "\\left.\\begin{matrix}\n",
        "1 & 3 & -2 & 4\\\\ \n",
        "0 & 5 & 0 & 1\\\\ \n",
        "0 & 0 & 3 & 0\\\\ \n",
        "0 & 0 & 0 & 2\n",
        "\\end{matrix}\\right|\n",
        "\\begin{matrix}\n",
        "3\\\\ \n",
        "2\\\\\n",
        "4\\\\\n",
        "1\n",
        "\\end{matrix}\n",
        "\\end{pmatrix}.$$"
      ]
    },
    {
      "cell_type": "code",
      "metadata": {
        "colab": {
          "base_uri": "https://localhost:8080/"
        },
        "id": "WevEVAa6CJIX",
        "outputId": "221c62f6-3c8e-4fab-c16f-8ad62416e299"
      },
      "source": [
        "D = numpy.array([[1, 3, -2, 4, 3],\n",
        "                 [0, 5,  0, 1, 2],\n",
        "                 [0, 0,  3, 0, 4],\n",
        "                 [0, 0,  0, 2, 1]])\n",
        "\n",
        "somvestnost(D)"
      ],
      "execution_count": null,
      "outputs": [
        {
          "output_type": "stream",
          "text": [
            "Система совместна и определена\n"
          ],
          "name": "stdout"
        }
      ]
    },
    {
      "cell_type": "markdown",
      "metadata": {
        "id": "cTVfl123ZS5O"
      },
      "source": [
        "__4.__ Дана система линейных уравнений, заданная расширенной матрицей\n",
        "\n",
        "$$\\tilde{A}=\\begin{pmatrix}\\left.\\begin{matrix}\n",
        "1 & 2 & 3\\\\ \n",
        "4 & 5 & 6\\\\ \n",
        "7 & 8 & 9\\end{matrix}\\right|\\begin{matrix}\n",
        "a\\\\ \n",
        "b\\\\\n",
        "c\\end{matrix}\\end{pmatrix}.$$\n",
        "\n",
        "Найти соотношение между параметрами $a$, $b$ и $c$, при которых система является несовместной.\n",
        "\n",
        "Вычтем из 3-ей строки 2-ую\n",
        "$$\\tilde{A}=\\begin{pmatrix}\\left.\\begin{matrix}\n",
        "1 & 2 & 3\\\\ \n",
        "4 & 5 & 6\\\\ \n",
        "3 & 3 & 3\\end{matrix}\\right|\\begin{matrix}\n",
        "a\\\\ \n",
        "b\\\\\n",
        "c - b\\end{matrix}\\end{pmatrix}.$$\n",
        "-\n",
        "\n",
        "Вычтем из 2-ой строки 1-ую\n",
        "$$\\tilde{A}=\\begin{pmatrix}\\left.\\begin{matrix}\n",
        "1 & 2 & 3\\\\ \n",
        "3 & 3 & 3\\\\ \n",
        "3 & 3 & 3\\end{matrix}\\right|\\begin{matrix}\n",
        "a\\\\ \n",
        "b - a\\\\\n",
        "c - b\\end{matrix}\\end{pmatrix}.$$\n",
        "-\n",
        "\n",
        "Вычтем из 3-ей строки 2-ую\n",
        "$$\\tilde{A}=\\begin{pmatrix}\\left.\\begin{matrix}\n",
        "1 & 2 & 3\\\\ \n",
        "3 & 3 & 3\\\\ \n",
        "0 & 0 & 0\\end{matrix}\\right|\\begin{matrix}\n",
        "a\\\\ \n",
        "b - a\\\\- 2b + a + с\\end{matrix}\\end{pmatrix}.$$\n",
        "-\n",
        "\n",
        "Если $- 2b + a + с \\neq 0 $, система не совместна\n",
        "\n"
      ]
    },
    {
      "cell_type": "markdown",
      "metadata": {
        "id": "iSBQ3QU3H-_g"
      },
      "source": [
        "## Практическое задание ч.2"
      ]
    },
    {
      "cell_type": "markdown",
      "metadata": {
        "id": "A2YggTNDIFuo"
      },
      "source": [
        "__1.__ Решить систему уравнений методом Крамера:\n",
        "\n",
        "   а) $\\begin{cases}\n",
        "x_{1}-2x_{2}=1 \\\\\n",
        "3x_{1}-4x_{2}=7\n",
        "\\end{cases}$\n",
        "    \n",
        "   б) $\\begin{cases}\n",
        "2x_{1}-x_{2}+5x_{3}=10 \\\\\n",
        "x_{1}+x_{2}-3x_{3}=-2 \\\\\n",
        "2x_{1}+4x_{2}+x_{3}=1\n",
        "\\end{cases}$"
      ]
    },
    {
      "cell_type": "markdown",
      "metadata": {
        "id": "mKdlQOxVYnj9"
      },
      "source": [
        "Подскажите, запись в генераторе понятна и читаема, или лучше в таких случаях оформлять в виде цикла?\n",
        "\n",
        "Или может быть есть более красивый способ записи? "
      ]
    },
    {
      "cell_type": "code",
      "metadata": {
        "id": "7XbEvDFtIBFC",
        "colab": {
          "base_uri": "https://localhost:8080/"
        },
        "outputId": "d8a37bbc-f6ab-483f-b303-459b7eff3df9"
      },
      "source": [
        "import numpy \n",
        "A = numpy.array([[1, -2, 1],\n",
        "                [3, -4, 7]])\n",
        "\n",
        "B = numpy.array([[2, -1, 5, 10],\n",
        "                 [1, 1, -3, -2],\n",
        "                 [2, 4, 1, 1]])\n",
        "\n",
        "def kramera(A_plus):\n",
        "  A = A_plus[:, :-1]\n",
        "  b = numpy.array(A_plus[:, [-1]])\n",
        "  detA = numpy.linalg.det(A)\n",
        "\n",
        "  if detA != 0:\n",
        "    solve_list = list()\n",
        "    for i in range(A.shape[1]):\n",
        "      d = numpy.hstack([A[:, :i], b, A[:, i+1:]])\n",
        "      solve_list.append(round(numpy.linalg.det(d)/detA))\n",
        "    \n",
        "    # solve_list1 = [round(numpy.linalg.det(numpy.hstack([A[:, :i], b, A[:, i+1:]]))/detA) for i in range(A.shape[1])]\n",
        "\n",
        "\n",
        "    return solve_list #, solve_list1\n",
        "\n",
        "kramera(A), kramera(B)"
      ],
      "execution_count": 46,
      "outputs": [
        {
          "output_type": "execute_result",
          "data": {
            "text/plain": [
              "([5, 2], [2, -1, 1])"
            ]
          },
          "metadata": {
            "tags": []
          },
          "execution_count": 46
        }
      ]
    },
    {
      "cell_type": "code",
      "metadata": {
        "id": "RJFTspM2VwRK"
      },
      "source": [
        ""
      ],
      "execution_count": null,
      "outputs": []
    }
  ]
}