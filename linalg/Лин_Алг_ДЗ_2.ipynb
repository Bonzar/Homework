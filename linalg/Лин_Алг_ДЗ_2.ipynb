{
  "nbformat": 4,
  "nbformat_minor": 0,
  "metadata": {
    "colab": {
      "name": "Лин. Алг. ДЗ 2",
      "provenance": [],
      "collapsed_sections": []
    },
    "language_info": {
      "codemirror_mode": {
        "name": "ipython",
        "version": 3
      },
      "file_extension": ".py",
      "mimetype": "text/x-python",
      "name": "python",
      "nbconvert_exporter": "python",
      "pygments_lexer": "ipython3",
      "version": "3.7.1"
    },
    "kernelspec": {
      "display_name": "Python 3",
      "language": "python",
      "name": "python3"
    }
  },
  "cells": [
    {
      "cell_type": "markdown",
      "metadata": {
        "id": "HPMpEWusIIIM"
      },
      "source": [
        "ДЗ к уроку 2"
      ]
    },
    {
      "cell_type": "markdown",
      "metadata": {
        "id": "VAmOu--LIILw"
      },
      "source": [
        "## Практическое задание ч.1"
      ]
    },
    {
      "cell_type": "markdown",
      "metadata": {
        "id": "APeDlmh8IIL1"
      },
      "source": [
        "Все задания рекомендуется делать вручную, затем проверяя полученные результаты с использованием numpy.\n",
        "\n",
        "---\n",
        "\n",
        "\n",
        "__1.__ Установить, какие произведения матриц $AB$ и $BA$ определены, и найти размерности полученных матриц:\n",
        "\n",
        "а) $A$ — матрица $4\\times 2$, $B$ — матрица $4\\times 2$;\n",
        "\n",
        "   - не определено, кол-во строк А не соответствует кол-ву столбцов В\n",
        "    \n",
        "б) $A$ — матрица $2\\times 5$, $B$ — матрица $5\\times 3$;\n",
        "\n",
        "   - определено, размерность $2 \\times 3$\n",
        "\n",
        "в) $A$ — матрица $8\\times 3$, $B$ — матрица $3\\times 8$;\n",
        "\n",
        "   - определено, размерность $8 \\times 8$\n",
        "    \n",
        "г) $A$ — квадратная матрица $4\\times 4$, $B$ — квадратная матрица $4\\times 4$.\n",
        "\n",
        "   - определено, размерность $4 \\times 4$\n",
        "    \n",
        "---\n",
        "\n",
        "\n",
        "__2.__ Найти сумму и произведение матриц $A=\\begin{pmatrix}\n",
        "1 & -2\\\\ \n",
        "3 & 0\n",
        "\\end{pmatrix}$ и $B=\\begin{pmatrix}\n",
        "4 & -1\\\\ \n",
        "0 & 5\n",
        "\\end{pmatrix}.$\n",
        "\n",
        "**Сумма**\n",
        "\n",
        "$S=\\begin{pmatrix}\n",
        "5 & -3\\\\ \n",
        "3 & 5\n",
        "\\end{pmatrix}.$\n",
        "\n",
        "**Произведение**\n",
        "\n",
        "$S=\\begin{pmatrix}\n",
        "4 & -11\\\\ \n",
        "12 & -3\n",
        "\\end{pmatrix}.$\n",
        "\n",
        "---\n",
        "\n",
        "\n",
        "__3.__ Из закономерностей сложения и умножения матриц на число можно сделать вывод, что матрицы одного размера образуют линейное пространство. Вычислить линейную комбинацию $3A-2B+4C$ для матриц\n",
        "$A=\\begin{pmatrix}\n",
        "1 & 7\\\\ \n",
        "3 & -6\n",
        "\\end{pmatrix}$, $B=\\begin{pmatrix}\n",
        "0 & 5\\\\ \n",
        "2 & -1\n",
        "\\end{pmatrix}$, $C=\\begin{pmatrix}\n",
        "2 & -4\\\\ \n",
        "1 & 1\n",
        "\\end{pmatrix}.$\n",
        "\n",
        "\n",
        "$S=\\begin{pmatrix}\n",
        "11 & -5\\\\ \n",
        "9 & -12\n",
        "\\end{pmatrix}$\n",
        "\n",
        "---\n",
        "\n",
        "\n",
        "__4.__ Дана матрица $A=\\begin{pmatrix}\n",
        "4 & 1\\\\ \n",
        "5 & -2\\\\ \n",
        "2 & 3\n",
        "\\end{pmatrix}$.\n",
        "Вычислить $AA^{T}$ и $A^{T}A$.\n",
        "\n",
        "$A^{T}=\\begin{pmatrix}\n",
        "4 & 5 & 2 \\\\ \n",
        "1 & -2 & 3 \n",
        "\\end{pmatrix}$.\n",
        "\n",
        "$AA^{T}=\\begin{pmatrix}\n",
        "17 & 18 & 11  \\\\ \n",
        "18 & 29 & 4  \\\\ \n",
        "11 & 4 & 13 \n",
        "\\end{pmatrix}$.\n",
        "\n",
        "$A^{T}A=\\begin{pmatrix}\n",
        "45 & 0 \\\\ \n",
        "0 & 14   \n",
        "\\end{pmatrix}$.\n",
        "\n",
        "---\n",
        "\n",
        "\n",
        "__5*.__ Написать на Python функцию для перемножения двух произвольных матриц, не используя NumPy."
      ]
    },
    {
      "cell_type": "code",
      "metadata": {
        "id": "wwb3kEnxsG-s"
      },
      "source": [
        "import numpy"
      ],
      "execution_count": 4,
      "outputs": []
    },
    {
      "cell_type": "code",
      "metadata": {
        "colab": {
          "base_uri": "https://localhost:8080/"
        },
        "id": "YsSzUtliutgA",
        "outputId": "b87d1153-1a3a-46d2-e024-4274087c5052"
      },
      "source": [
        "## Задание 2\n",
        "\n",
        "A = numpy.array(\n",
        "    [[1, -2], \n",
        "     [3, 0]]\n",
        ")\n",
        "\n",
        "B = numpy.array(\n",
        "    [[4, -1], \n",
        "     [0, 5]]\n",
        ")\n",
        "\n",
        "print(A@B)\n",
        "print(A+B)"
      ],
      "execution_count": 13,
      "outputs": [
        {
          "output_type": "stream",
          "text": [
            "[[  4 -11]\n",
            " [ 12  -3]]\n",
            "[[ 5 -3]\n",
            " [ 3  5]]\n"
          ],
          "name": "stdout"
        }
      ]
    },
    {
      "cell_type": "code",
      "metadata": {
        "colab": {
          "base_uri": "https://localhost:8080/"
        },
        "id": "YAktgvFyuF9s",
        "outputId": "a1960163-91f6-41aa-c9e6-5b7278a48726"
      },
      "source": [
        "## Задание 3\n",
        "\n",
        "A = numpy.array(\n",
        "    [[1, 7], \n",
        "     [3, -6]]\n",
        ")\n",
        "\n",
        "B = numpy.array(\n",
        "    [[0, 5], \n",
        "     [2, -1]]\n",
        ")\n",
        "\n",
        "C = numpy.array(\n",
        "    [[2, -4], \n",
        "     [1, 1]]\n",
        ")\n",
        "\n",
        "print(3*A - 2*B + 4*C)"
      ],
      "execution_count": 12,
      "outputs": [
        {
          "output_type": "stream",
          "text": [
            "[[ 11  -5]\n",
            " [  9 -12]]\n"
          ],
          "name": "stdout"
        }
      ]
    },
    {
      "cell_type": "code",
      "metadata": {
        "colab": {
          "base_uri": "https://localhost:8080/"
        },
        "id": "wTrPoYFFsJX1",
        "outputId": "b8feed80-e0a1-471d-f8cc-0c7b0db407b4"
      },
      "source": [
        "## Задание 4\n",
        "\n",
        "A = numpy.array(\n",
        "    [[4, 1], \n",
        "     [5, -2],\n",
        "     [2, 3]]\n",
        ")\n",
        "print(A.T)\n",
        "print(A@A.T)\n",
        "print(A.T.dot(A))"
      ],
      "execution_count": 7,
      "outputs": [
        {
          "output_type": "stream",
          "text": [
            "[[ 4  5  2]\n",
            " [ 1 -2  3]]\n",
            "[[17 18 11]\n",
            " [18 29  4]\n",
            " [11  4 13]]\n",
            "[[45  0]\n",
            " [ 0 14]]\n"
          ],
          "name": "stdout"
        }
      ]
    },
    {
      "cell_type": "markdown",
      "metadata": {
        "id": "k2yHiZ_gGupl"
      },
      "source": [
        "__необходимо, чтобы число столбцов матрицы $A$ было равно числу строк матрицы $B$.__"
      ]
    },
    {
      "cell_type": "code",
      "metadata": {
        "colab": {
          "base_uri": "https://localhost:8080/"
        },
        "id": "qhhKjQopvYdc",
        "outputId": "6ac9ed8c-03a0-4e6e-d14b-a866767fb60a"
      },
      "source": [
        "## Задание 5\n",
        "\n",
        "array_1 = numpy.array([[0, 2, 10],\n",
        "                       [0, 0, 21],\n",
        "                       [10, 54, 34]])\n",
        "\n",
        "array_2 = numpy.array([[1, 1, 12, 31, 40],\n",
        "                       [1, 1, 23, 23, 1],\n",
        "                       [123, 12, 41, 0, 0]])\n",
        "\n",
        "# def Multiply_Array (array_1, array_2):\n",
        "if array_1.ndim == array_2.ndim == 2:\n",
        "  shape_1 = array_1.shape\n",
        "  shape_2 = array_2.shape\n",
        "  new_ar = list()\n",
        "  if shape_1[1] == shape_2[0]:\n",
        "    for n_str_ar in range(shape_1[0]): #номер строки первого массива\n",
        "      for n_col_ar in range(shape_2[1]): #номер столбца второго массива\n",
        "        new_ar.append(sum(\n",
        "            [(array_1[n_str_ar, :][n-1])*(array_2[:, n_col_ar][n-1]) for n in range(shape_1[1])]\n",
        "            )\n",
        "        )\n",
        "        \n",
        "    new_ar = numpy.array(new_ar)\n",
        "    new_ar.resize(shape_1[0], shape_2[1])\n",
        "    print(new_ar)\n",
        "\n",
        "array_1.dot(array_2)"
      ],
      "execution_count": 93,
      "outputs": [
        {
          "output_type": "stream",
          "text": [
            "[[1232  122  456   46    2]\n",
            " [2583  252  861    0    0]\n",
            " [4246  472 2756 1552  454]]\n"
          ],
          "name": "stdout"
        },
        {
          "output_type": "execute_result",
          "data": {
            "text/plain": [
              "array([[1232,  122,  456,   46,    2],\n",
              "       [2583,  252,  861,    0,    0],\n",
              "       [4246,  472, 2756, 1552,  454]])"
            ]
          },
          "metadata": {
            "tags": []
          },
          "execution_count": 93
        }
      ]
    },
    {
      "cell_type": "markdown",
      "metadata": {
        "id": "GAtLmnPQHy9W"
      },
      "source": [
        "## Практическое задание ч.2\n",
        "\n"
      ]
    },
    {
      "cell_type": "markdown",
      "metadata": {
        "id": "-A4QeyyvakMm"
      },
      "source": [
        "\n",
        "__1.__ Вычислить определитель:\n",
        "\n",
        "   a)\n",
        "\n",
        "$$\\begin{vmatrix}\n",
        "sinx & -cosx\\\\ \n",
        "cosx & sinx\n",
        "\\end{vmatrix};$$\n",
        "\n",
        "$detA = \\sin{x} \\cdot \\sin{x} - \\cos{x} \\cdot (-\\cos{x}) = \\sin^2{x} + \\cos^2{x} = 1$\n",
        "\n",
        "   б)\n",
        "    \n",
        "$$\\begin{vmatrix}\n",
        "4 & 2 & 3\\\\ \n",
        "0 & 5 & 1\\\\ \n",
        "0 & 0 & 9\n",
        "\\end{vmatrix};$$\n",
        "\n",
        "$detA = 45$\n",
        "    \n",
        "   в)\n",
        "\n",
        "$$\\begin{vmatrix}\n",
        "1 & 2 & 3\\\\ \n",
        "4 & 5 & 6\\\\ \n",
        "7 & 8 & 9\n",
        "\\end{vmatrix}.$$\n",
        "\n",
        "$detA = (45+48) - (36+42) + (32+35) = 82$\n",
        "\n",
        "\n",
        "__2.__ Определитель матрицы $A$ равен $4$. Найти:\n",
        "\n",
        "   а) $det(A^{2})$;\n",
        "    \n",
        "   б) $det(A^{T}) = det(A) = 4$;\n",
        "    \n",
        "   в) $det(2A) = 4*2^i$, где i порядок матрицы.\n",
        "   \n",
        "__3.__  Доказать, что матрица\n",
        "\n",
        "$$\\begin{pmatrix}\n",
        "-2 & 7 & -3\\\\ \n",
        "4 & -14 & 6\\\\ \n",
        "-3 & 7 & 13\n",
        "\\end{pmatrix}$$\n",
        "\n",
        "вырожденная.\n",
        "\n",
        "$detA = (-2)*(((-14)*13)-(6*7)) - 7*((4*13)-(6*(-3))) - 3 *((4*7)-((-3)*(-14))) = 0$\n",
        "\n",
        "Определитель равен 0, значит матрица вырожденная.\n",
        "\n",
        "\n",
        "__4.__ Найти ранг матрицы:\n",
        "\n",
        "   **а)** $\\begin{pmatrix}\n",
        "1 & 2 & 3\\\\ \n",
        "1 & 1 & 1\\\\ \n",
        "2 & 3 & 4\n",
        "\\end{pmatrix};$\n",
        "\n",
        "1.уберем 3 строку, так как она – сумма первых двух\n",
        "\n",
        "$\\begin{pmatrix}\n",
        "1 & 2 & 3\\\\ \n",
        "1 & 1 & 1\n",
        "\\end{pmatrix};$\n",
        "\n",
        "2.вычтем 2 строку из первой и поменяем их меставми\n",
        "\n",
        "$\\begin{pmatrix}\n",
        "1 & 1 & 1\\\\ \n",
        "0 & 1 & 2\n",
        "\\end{pmatrix};$\n",
        "\n",
        "**Ранг матрицы - 2**\n",
        "\n",
        "   **б)** $\\begin{pmatrix}\n",
        "0 & 0 & 2 & 1\\\\ \n",
        "0 & 0 & 2 & 2\\\\ \n",
        "0 & 0 & 4 & 3\\\\ \n",
        "2 & 3 & 5 & 6\n",
        "\\end{pmatrix}.$\n",
        "\n",
        "1.умножим 2 строку на 0,5\n",
        "\n",
        "$\\begin{pmatrix}\n",
        "0 & 0 & 2 & 1\\\\ \n",
        "0 & 0 & 1 & 1\\\\ \n",
        "0 & 0 & 4 & 3\\\\ \n",
        "2 & 3 & 5 & 6\n",
        "\\end{pmatrix}.$\n",
        "\n",
        "2.вычтем из 3 строки две 2-ых строки и одну первую.\n",
        "\n",
        "$\\begin{pmatrix}\n",
        "0 & 0 & 2 & 1\\\\ \n",
        "0 & 0 & 1 & 1\\\\ \n",
        "0 & 0 & 0 & 0\\\\ \n",
        "2 & 3 & 5 & 6\n",
        "\\end{pmatrix}.$\n",
        "\n",
        "3.уберем нулевую строку\n",
        "\n",
        "$\\begin{pmatrix}\n",
        "0 & 0 & 2 & 1\\\\ \n",
        "0 & 0 & 1 & 1\\\\ \n",
        "2 & 3 & 5 & 6\n",
        "\\end{pmatrix}.$\n",
        "\n",
        "**Ранг матрицы 3**\n"
      ]
    },
    {
      "cell_type": "code",
      "metadata": {
        "colab": {
          "base_uri": "https://localhost:8080/"
        },
        "id": "NuqdtXQ1HqOJ",
        "outputId": "6cea7c23-a714-4eb6-d5b2-d239fc0e9614"
      },
      "source": [
        "# Задание 2\n",
        "\n",
        "A = numpy.array(\n",
        "    [[3, 3, 3], \n",
        "     [3, 0, 3],\n",
        "     [0, 3, 3]]\n",
        ")\n",
        "numpy.linalg.det(A)"
      ],
      "execution_count": 14,
      "outputs": [
        {
          "output_type": "execute_result",
          "data": {
            "text/plain": [
              "-27.0"
            ]
          },
          "metadata": {
            "tags": []
          },
          "execution_count": 14
        }
      ]
    },
    {
      "cell_type": "code",
      "metadata": {
        "colab": {
          "base_uri": "https://localhost:8080/"
        },
        "id": "SbMahpCNhW2D",
        "outputId": "2f117eb3-7fb6-4d02-ea2e-22dae8d351d3"
      },
      "source": [
        "# Задание 3\n",
        "\n",
        "print(\n",
        "    (-2)*(((-14)*13)-(6*7)) - 7*((4*13)-(6*(-3))) - 3 *((4*7)-((-3)*(-14)))\n",
        ")\n",
        "\n",
        "A = numpy.array(\n",
        "    [[-2, 7, -3], \n",
        "     [4, -14, 6],\n",
        "     [-3, 7, 13]]\n",
        ")\n",
        "numpy.linalg.det(A)"
      ],
      "execution_count": 26,
      "outputs": [
        {
          "output_type": "stream",
          "text": [
            "0\n"
          ],
          "name": "stdout"
        },
        {
          "output_type": "execute_result",
          "data": {
            "text/plain": [
              "0.0"
            ]
          },
          "metadata": {
            "tags": []
          },
          "execution_count": 26
        }
      ]
    },
    {
      "cell_type": "code",
      "metadata": {
        "colab": {
          "base_uri": "https://localhost:8080/"
        },
        "id": "W8wEMJGHlWjp",
        "outputId": "a100571a-0295-42f1-f27e-357e6e323431"
      },
      "source": [
        "# Задание 4\n",
        "A = numpy.array(\n",
        "    [[1, 2, 3], \n",
        "     [1, 1, 1],\n",
        "     [2, 3, 4]]\n",
        ")\n",
        "print(numpy.linalg.matrix_rank(A))\n",
        "\n",
        "A = numpy.array(\n",
        "    [[0, 0, 2, 1],\n",
        "     [0, 0, 2, 2], \n",
        "     [0, 0, 4, 3], \n",
        "     [2, 3, 5, 6]]\n",
        ")\n",
        "print(numpy.linalg.matrix_rank(A))"
      ],
      "execution_count": 32,
      "outputs": [
        {
          "output_type": "stream",
          "text": [
            "2\n",
            "3\n"
          ],
          "name": "stdout"
        }
      ]
    }
  ]
}