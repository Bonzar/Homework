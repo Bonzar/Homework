{
  "nbformat": 4,
  "nbformat_minor": 0,
  "metadata": {
    "colab": {
      "name": "Матан. ДЗ 1.ipynb",
      "provenance": []
    },
    "kernelspec": {
      "name": "python3",
      "display_name": "Python 3"
    }
  },
  "cells": [
    {
      "cell_type": "markdown",
      "metadata": {
        "id": "apAxnJbaYhKH"
      },
      "source": [
        "# Задание №1\n",
        "a)\n",
        "\n",
        "### $$ а = 0.(219)$$\n",
        "### $$1000а = 219.(219)$$\n",
        "### $$1000а = 219 + 0.(219)$$\n",
        "### $$1000а = 219 + а$$\n",
        "### $$999а = 219$$\n",
        "### $$а = \\frac{219}{999}$$\n",
        "### $$а = \\frac{73}{333}$$\n",
        "### $$0.(219) = \\frac{73}{333}$$\n",
        "\n",
        "b)\n",
        "\n",
        "### $$а = 1.0(01)$$\n",
        "### $$1000а = 1001.(01)$$\n",
        "### $$1000а = 1001 + 0.(01)$$\n",
        "\n",
        "\n",
        "### $с = 0.(01)$\n",
        "### $100с = 1.(01)$\n",
        "### $100с = 1 + 0.(01)$\n",
        "### $100с = 1 + с$\n",
        "### $99с = 1$\n",
        "### $с = \\frac{1}{99}$\n",
        "### $0.(01) = \\frac{1}{99}$\n",
        "\n",
        "\n",
        "### $$1000а = 1001 + \\frac{1}{99}$$\n",
        "### $$1000а = \\frac{99100}{99}$$\n",
        "### $$a = \\frac{991}{990}$$\n",
        "### $$1.0(01) = \\frac{991}{990}$$\n",
        "### $$$$\n",
        "### $$$$\n",
        "\n",
        "\n",
        "\n",
        "\n"
      ]
    },
    {
      "cell_type": "markdown",
      "metadata": {
        "id": "_XpQ3vLprCuA"
      },
      "source": [
        "### Задание 3"
      ]
    },
    {
      "cell_type": "markdown",
      "metadata": {
        "id": "8U1Muar6dGn0"
      },
      "source": [
        "### $$a)\\,\\,\\, (A \\vee B) \\rightarrow (B \\vee \\overline A)$$\n",
        "### $$б)\\,\\,\\, A \\rightarrow (A \\vee (\\overline B \\wedge A))$$"
      ]
    },
    {
      "cell_type": "markdown",
      "metadata": {
        "id": "ISkjpYTniPFc"
      },
      "source": [
        "а)\n",
        "<table>\n",
        "<thead>\n",
        "<tr><th>$A$</th><th>$B$</th><th>$A\\vee B$</th><th>$\\overline A$</th><th>$B \\vee \\overline A $</th><th>$(A \\vee B) \\rightarrow (B \\vee \\overline A)$</th></tr>\n",
        "</thead>\n",
        "<tbody>\n",
        "    <tr><td>$0$</td><td>$0$</td><td>$0$</td><td>$1$</td><td>$1$</td><td>$1$</td></tr>\n",
        "    <tr><td>$0$</td><td>$1$</td><td>$1$</td><td>$1$</td><td>$1$</td><td>$1$</td></tr>\n",
        "    <tr><td>$1$</td><td>$0$</td><td>$1$</td><td>$0$</td><td>$0$</td><td>$0$</td></tr>\n",
        "    <tr><td>$1$</td><td>$1$</td><td>$1$</td><td>$0$</td><td>$1$</td><td>$1$</td></tr>\n",
        "</tbody>\n",
        "</table>\n",
        "\n",
        "Не тавтология"
      ]
    },
    {
      "cell_type": "markdown",
      "metadata": {
        "id": "N4L8AbxlkO18"
      },
      "source": [
        "б)\n",
        "$$ A \\rightarrow (A \\vee (\\overline B \\wedge A)) $$\n",
        "По закону поглощения для дизъюнкции:\n",
        "$$ (A \\vee (\\overline B \\wedge A)) = А $$\n",
        "$$ A \\rightarrow A $$\n",
        "\n",
        "Тавтология\n"
      ]
    },
    {
      "cell_type": "markdown",
      "metadata": {
        "id": "GdTlGzKkrHQS"
      },
      "source": [
        "# Задание 4"
      ]
    },
    {
      "cell_type": "markdown",
      "metadata": {
        "id": "KRA2BAhBmaj7"
      },
      "source": [
        "а) Если сегодня не светит солнце или сегодня сыро, то я не поеду на дачу\n",
        "\n",
        "б) Если я еду на дачу, значит сегодня либо светит солнце, либо сегодян не сыро. "
      ]
    },
    {
      "cell_type": "markdown",
      "metadata": {
        "id": "ydFxZdF_rJ1j"
      },
      "source": [
        "# Задание 5"
      ]
    },
    {
      "cell_type": "markdown",
      "metadata": {
        "id": "2T5O8gOzo4Lk"
      },
      "source": [
        "а) существует курс на каком-то факультета где есть студенты, которые не сдают все экзамены на \"отлично\"\n",
        "\n",
        "б) Существует самолет на рейсе Вашингтон-Москва где у любого сотрудника силовых огранов, не в каждую пуговицу одежды вмонтирован микрофон."
      ]
    },
    {
      "cell_type": "code",
      "metadata": {
        "id": "MgdLRyMTq85U"
      },
      "source": [
        ""
      ],
      "execution_count": null,
      "outputs": []
    }
  ]
}