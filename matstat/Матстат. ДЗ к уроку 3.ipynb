{
 "cells": [
  {
   "cell_type": "markdown",
   "metadata": {},
   "source": [
    "# Задание 1\n",
    "Даны значения зарплат из выборки выпускников: 100, 80, 75, 77, 89, 33, 45, 25, 65, 17, 30, 24, 57, 55, 70, 75, 65, 84, 90, 150. \n",
    "       \n",
    "    Посчитать (желательно без использования статистических методов наподобие std, var, mean) среднее арифметическое, среднее квадратичное отклонение, смещенную и несмещенную оценки дисперсий для данной выборки."
   ]
  },
  {
   "cell_type": "code",
   "execution_count": 119,
   "metadata": {},
   "outputs": [],
   "source": [
    "salary = [100, 80, 75, 77, 89, 33, 45, 25, 65, 17, 30, 24, 57, 55, 70, 75, 65, 84, 90, 150]"
   ]
  },
  {
   "cell_type": "code",
   "execution_count": 120,
   "metadata": {},
   "outputs": [
    {
     "name": "stdout",
     "output_type": "stream",
     "text": [
      "Среднее арифметическое: 65.3\n",
      "Cреднее квадратичное отклонение: 30.82\n",
      "Cмещенная оценка дисперсии: 950.11\n",
      "Несмещенная оценка дисперсии: 1000.12\n"
     ]
    }
   ],
   "source": [
    "salary_mean = sum(salary)/len(salary)\n",
    "salary_var1 = sum(map(lambda x: (x-salary_mean)**2, salary))/len(salary)\n",
    "salary_var2 = sum(map(lambda x: (x-salary_mean)**2, salary))/(len(salary) - 1)\n",
    "salary_std = pow(salary_var1, 0.5)\n",
    "\n",
    "\n",
    "print(f'Среднее арифметическое: {round(salary_mean, 2)}')\n",
    "print(f'Cреднее квадратичное отклонение: {round(salary_std, 2)}')\n",
    "print(f'Cмещенная оценка дисперсии: {round(salary_var1, 2)}')\n",
    "print(f'Несмещенная оценка дисперсии: {round(salary_var2, 2)}')"
   ]
  },
  {
   "cell_type": "code",
   "execution_count": 121,
   "metadata": {},
   "outputs": [
    {
     "data": {
      "text/plain": [
       "950.11"
      ]
     },
     "execution_count": 121,
     "metadata": {},
     "output_type": "execute_result"
    }
   ],
   "source": [
    "np.var(salary)"
   ]
  },
  {
   "cell_type": "code",
   "execution_count": 122,
   "metadata": {},
   "outputs": [
    {
     "data": {
      "text/plain": [
       "1000.1157894736842"
      ]
     },
     "execution_count": 122,
     "metadata": {},
     "output_type": "execute_result"
    }
   ],
   "source": [
    "np.var(salary, ddof=1)"
   ]
  },
  {
   "cell_type": "markdown",
   "metadata": {},
   "source": [
    "# Задание 2\n",
    "В первом ящике находится 8 мячей, из которых 5 - белые. Во втором ящике - 12 мячей, из которых 5 белых. Из первого ящика вытаскивают случайным образом два мяча, из второго - 4.\n",
    "\n",
    "    Какова вероятность того, что 3 мяча белые?\n",
    "    \n",
    "    2 1\n",
    "    1 2\n",
    "    0 3"
   ]
  },
  {
   "cell_type": "code",
   "execution_count": 123,
   "metadata": {},
   "outputs": [],
   "source": [
    "from math import factorial\n",
    "def combinations(k, n):\n",
    "    return int(factorial(n) / (factorial(k) * factorial(n - k)))"
   ]
  },
  {
   "cell_type": "code",
   "execution_count": 124,
   "metadata": {},
   "outputs": [
    {
     "data": {
      "text/plain": [
       "0.12626262626262627"
      ]
     },
     "execution_count": 124,
     "metadata": {},
     "output_type": "execute_result"
    }
   ],
   "source": [
    "p1 = combinations(2,5)/combinations(2,8) * (combinations(1, 5)*combinations(3, 7))/combinations(4,12)\n",
    "p1"
   ]
  },
  {
   "cell_type": "code",
   "execution_count": 125,
   "metadata": {},
   "outputs": [
    {
     "data": {
      "text/plain": [
       "0.22727272727272727"
      ]
     },
     "execution_count": 125,
     "metadata": {},
     "output_type": "execute_result"
    }
   ],
   "source": [
    "p2 = (combinations(1,5)*combinations(1,3))/combinations(2,8) * (combinations(2, 5)*combinations(2, 7))/combinations(4,12)\n",
    "p2"
   ]
  },
  {
   "cell_type": "code",
   "execution_count": 126,
   "metadata": {},
   "outputs": [
    {
     "data": {
      "text/plain": [
       "0.015151515151515152"
      ]
     },
     "execution_count": 126,
     "metadata": {},
     "output_type": "execute_result"
    }
   ],
   "source": [
    "p3 = combinations(2,3)/combinations(2,8) * (combinations(3, 5)*combinations(1, 7))/combinations(4,12)\n",
    "p3"
   ]
  },
  {
   "cell_type": "code",
   "execution_count": 127,
   "metadata": {},
   "outputs": [
    {
     "data": {
      "text/plain": [
       "0.3686868686868687"
      ]
     },
     "execution_count": 127,
     "metadata": {},
     "output_type": "execute_result"
    }
   ],
   "source": [
    "P = p1+p2+p3\n",
    "P"
   ]
  },
  {
   "cell_type": "markdown",
   "metadata": {},
   "source": [
    "# Задание 3\n",
    "На соревновании по биатлону один из трех спортсменов стреляет и попадает в мишень. Вероятность попадания для первого спортсмена равна 0.9, для второго — 0.8, для третьего — 0.6. \n",
    "    \n",
    "    Найти вероятность того, что выстрел произведен:\n",
    "        a). первым спортсменом\n",
    "        б). вторым спортсменом\n",
    "        в). третьим спортсменом."
   ]
  },
  {
   "cell_type": "markdown",
   "metadata": {},
   "source": [
    "$P(B\\:|\\:A) = \\frac{P(B) \\cdot P(A\\:|\\:B)}{P(A)}$"
   ]
  },
  {
   "cell_type": "code",
   "execution_count": 128,
   "metadata": {},
   "outputs": [
    {
     "name": "stdout",
     "output_type": "stream",
     "text": [
      "Веротность того что успешный выстрел совершил первый стрелок, равна: 0.39\n",
      "Веротность того что успешный выстрел совершил второй стрелок, равна: 0.35\n",
      "Веротность того что успешный выстрел совершил третий стрелок, равна: 0.26\n"
     ]
    }
   ],
   "source": [
    "P_a = (1/3*0.9)/(1/3*0.9 + 1/3*0.8 + 1/3*0.6)\n",
    "P_b = (1/3*0.8)/(1/3*0.9 + 1/3*0.8 + 1/3*0.6)\n",
    "P_c = (1/3*0.6)/(1/3*0.9 + 1/3*0.8 + 1/3*0.6)\n",
    "\n",
    "print(f'Веротность того что успешный выстрел совершил первый стрелок, равна: {round(P_a, 2)}')\n",
    "print(f'Веротность того что успешный выстрел совершил второй стрелок, равна: {round(P_b, 2)}')\n",
    "print(f'Веротность того что успешный выстрел совершил третий стрелок, равна: {round(P_c, 2)}')"
   ]
  },
  {
   "cell_type": "markdown",
   "metadata": {},
   "source": [
    "# Задание 4\n",
    "В университет на факультеты A и B поступило равное количество студентов, а на факультет C студентов поступило столько же, сколько на A и B вместе. Вероятность того, что студент факультета A сдаст первую сессию, равна 0.8. Для студента факультета B эта вероятность равна 0.7, а для студента факультета C - 0.9. Студент сдал первую сессию. \n",
    "    \n",
    "    Какова вероятность, что он учится:\n",
    "        a). на факультете A\n",
    "        б). на факультете B\n",
    "        в). на факультете C?"
   ]
  },
  {
   "cell_type": "code",
   "execution_count": 129,
   "metadata": {},
   "outputs": [
    {
     "name": "stdout",
     "output_type": "stream",
     "text": [
      "Веротность того что студент, сдавший превую сессию, из факультета А, равна: 0.24\n",
      "Веротность того что студент, сдавший превую сессию, из факультета B, равна: 0.21\n",
      "Веротность того что студент, сдавший превую сессию, из факультета C, равна: 0.55\n"
     ]
    }
   ],
   "source": [
    "P4_a = (1/4*0.8)/(1/4*0.8 + 1/4*0.7 + 1/2*0.9)\n",
    "P4_b = (1/4*0.7)/(1/4*0.8 + 1/4*0.7 + 1/2*0.9)\n",
    "P4_c = (1/2*0.9)/(1/4*0.8 + 1/4*0.7 + 1/2*0.9)\n",
    "\n",
    "print(f'Веротность того что студент, сдавший превую сессию, из факультета А, равна: {round(P4_a, 2)}')\n",
    "print(f'Веротность того что студент, сдавший превую сессию, из факультета B, равна: {round(P4_b, 2)}')\n",
    "print(f'Веротность того что студент, сдавший превую сессию, из факультета C, равна: {round(P4_c, 2)}')"
   ]
  },
  {
   "cell_type": "markdown",
   "metadata": {},
   "source": [
    "# Задание 5\n",
    "Устройство состоит из трех деталей. Для первой детали вероятность выйти из строя в первый месяц равна 0.1, для второй - 0.2, для третьей - 0.25. \n",
    "    \n",
    "    Какова вероятность того, что в первый месяц выйдут из строя:\n",
    "        а). все детали"
   ]
  },
  {
   "cell_type": "code",
   "execution_count": 130,
   "metadata": {},
   "outputs": [
    {
     "data": {
      "text/plain": [
       "0.005"
      ]
     },
     "execution_count": 130,
     "metadata": {},
     "output_type": "execute_result"
    }
   ],
   "source": [
    "p3_a = round(0.1 * 0.2 * 0.25, 3)\n",
    "p3_a"
   ]
  },
  {
   "cell_type": "markdown",
   "metadata": {},
   "source": [
    "        б). только две детали"
   ]
  },
  {
   "cell_type": "code",
   "execution_count": 131,
   "metadata": {},
   "outputs": [
    {
     "data": {
      "text/plain": [
       "0.08"
      ]
     },
     "execution_count": 131,
     "metadata": {},
     "output_type": "execute_result"
    }
   ],
   "source": [
    "p3_b = round(0.1 * 0.2 * 0.75 + 0.1 * 0.25 * 0.8 + 0.2 * 0.25 * 0.9, 3)\n",
    "p3_b"
   ]
  },
  {
   "cell_type": "markdown",
   "metadata": {},
   "source": [
    "        в). хотя бы одна деталь"
   ]
  },
  {
   "cell_type": "code",
   "execution_count": 132,
   "metadata": {},
   "outputs": [
    {
     "data": {
      "text/plain": [
       "0.46"
      ]
     },
     "execution_count": 132,
     "metadata": {},
     "output_type": "execute_result"
    }
   ],
   "source": [
    "p3_c = round(1 - 0.9 * 0.8 * 0.75, 3)\n",
    "p3_c"
   ]
  },
  {
   "cell_type": "markdown",
   "metadata": {},
   "source": [
    "        г). от одной до двух деталей?"
   ]
  },
  {
   "cell_type": "code",
   "execution_count": 133,
   "metadata": {},
   "outputs": [
    {
     "data": {
      "text/plain": [
       "(0.455, 0.455)"
      ]
     },
     "execution_count": 133,
     "metadata": {},
     "output_type": "execute_result"
    }
   ],
   "source": [
    "p3_d1 = round(1 - 0.1 * 0.2 * 0.25 - 0.9 * 0.8 * 0.75, 3)\n",
    "p3_d2 = p3_c - p3_a\n",
    "p3_d1, p3_d2"
   ]
  }
 ],
 "metadata": {
  "kernelspec": {
   "display_name": "Python 3",
   "language": "python",
   "name": "python3"
  },
  "language_info": {
   "codemirror_mode": {
    "name": "ipython",
    "version": 3
   },
   "file_extension": ".py",
   "mimetype": "text/x-python",
   "name": "python",
   "nbconvert_exporter": "python",
   "pygments_lexer": "ipython3",
   "version": "3.8.5"
  }
 },
 "nbformat": 4,
 "nbformat_minor": 4
}
