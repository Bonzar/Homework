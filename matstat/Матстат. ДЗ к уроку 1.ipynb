{
 "cells": [
  {
   "cell_type": "markdown",
   "metadata": {},
   "source": [
    "# ДЗ №1"
   ]
  },
  {
   "cell_type": "code",
   "execution_count": 45,
   "metadata": {},
   "outputs": [],
   "source": [
    "from math import factorial\n",
    "def combinations(k, n):\n",
    "    return int(factorial(n) / (factorial(k) * factorial(n - k)))\n",
    "\n",
    "def arrangements(k, n):\n",
    "    return int(factorial(n) / factorial(n - k))\n",
    "\n",
    "def permutations(n):\n",
    "    return int(factorial(n))"
   ]
  },
  {
   "cell_type": "markdown",
   "metadata": {},
   "source": [
    "## Задание 1\n",
    "Из колоды в 52 карты извлекаются случайным образом 4 карты.\n",
    "    \n",
    "    a) Найти вероятность того, что все карты – крести.\n"
   ]
  },
  {
   "cell_type": "markdown",
   "metadata": {},
   "source": [
    "$C_n^k = \\frac{n!}{k!(n - k)!}$\n",
    "\n",
    "$C^{4}_{13} = \\frac{13!}{4!(13 - 4)!} = 715$\n",
    "\n",
    "$C^{4}_{52} = \\frac{52!}{4!(52 - 4)!} = 270725$\n",
    "\n",
    "$P = 715/270725 = 0.00264$"
   ]
  },
  {
   "cell_type": "markdown",
   "metadata": {},
   "source": [
    "    б) Найти вероятность, что среди 4-х карт окажется хотя бы один туз."
   ]
  },
  {
   "cell_type": "markdown",
   "metadata": {},
   "source": [
    "$C_n^k = \\frac{n!}{k!(n - k)!}$\n",
    "\n",
    "$C^{4}_{48} = \\frac{48!}{4!(48 - 4)!} = 194580$\n",
    "\n",
    "$C^{4}_{52} = \\frac{52!}{4!(52 - 4)!} = 270725$\n",
    "\n",
    "$P = 1 - 194580/270725 = 0.28$"
   ]
  },
  {
   "cell_type": "markdown",
   "metadata": {},
   "source": [
    "## Задание 2\n",
    "На входной двери подъезда установлен кодовый замок, содержащий десять кнопок с цифрами от 0 до 9. Код содержит три цифры, которые нужно нажать одновременно.\n",
    "    \n",
    "    Какова вероятность того, что человек, не знающий код, откроет дверь с первой попытки?"
   ]
  },
  {
   "cell_type": "markdown",
   "metadata": {},
   "source": [
    "$C^{3}_{10} = \\frac{10!}{3!(10 - 3)!} = 120$\n",
    "$P = 1/120 = 0.008$"
   ]
  },
  {
   "cell_type": "markdown",
   "metadata": {},
   "source": [
    "## Задание 3\n",
    "В ящике имеется 15 деталей, из которых 9 окрашены. Рабочий случайным образом извлекает 3 детали.\n",
    "\n",
    "    Какова вероятность того, что все извлеченные детали окрашены?"
   ]
  },
  {
   "cell_type": "markdown",
   "metadata": {},
   "source": [
    "$C_n^k = \\frac{n!}{k!(n - k)!}$\n",
    "\n",
    "$C^{3}_{9} = \\frac{9!}{3!(9 - 3)!} = 84$\n",
    "\n",
    "$C^{3}_{15} = \\frac{15!}{3!(15 - 3)!} = 455$\n",
    "\n",
    "$P = 84/455 = 0.185$"
   ]
  },
  {
   "cell_type": "markdown",
   "metadata": {},
   "source": [
    "## Задание 4\n",
    "В лотерее 100 билетов. Из них 2 выигрышных. \n",
    "    \n",
    "    Какова вероятность того, что 2 приобретенных билета окажутся выигрышными?"
   ]
  },
  {
   "cell_type": "markdown",
   "metadata": {},
   "source": [
    "$C_n^k = \\frac{n!}{k!(n - k)!}$\n",
    "\n",
    "$C^{2}_{100} = \\frac{100!}{2!(100 - 2)!} = 4950$\n",
    "\n",
    "$P = 1/4950 = 0.0002$"
   ]
  }
 ],
 "metadata": {
  "kernelspec": {
   "display_name": "Python 3",
   "language": "python",
   "name": "python3"
  },
  "language_info": {
   "codemirror_mode": {
    "name": "ipython",
    "version": 3
   },
   "file_extension": ".py",
   "mimetype": "text/x-python",
   "name": "python",
   "nbconvert_exporter": "python",
   "pygments_lexer": "ipython3",
   "version": "3.8.5"
  }
 },
 "nbformat": 4,
 "nbformat_minor": 4
}
