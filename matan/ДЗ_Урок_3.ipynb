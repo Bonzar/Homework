{
  "nbformat": 4,
  "nbformat_minor": 0,
  "metadata": {
    "colab": {
      "name": "ДЗ. Урок 3.ipynb",
      "provenance": [],
      "collapsed_sections": [],
      "authorship_tag": "ABX9TyNfz1yLJaoyBXinj3wCV4Mw",
      "include_colab_link": true
    },
    "kernelspec": {
      "name": "python3",
      "display_name": "Python 3"
    }
  },
  "cells": [
    {
      "cell_type": "markdown",
      "metadata": {
        "id": "view-in-github",
        "colab_type": "text"
      },
      "source": [
        "<a href=\"https://colab.research.google.com/github/Bonzar/Homework/blob/matan.lesson2/matan/%D0%94%D0%97_%D0%A3%D1%80%D0%BE%D0%BA_3.ipynb\" target=\"_parent\"><img src=\"https://colab.research.google.com/assets/colab-badge.svg\" alt=\"Open In Colab\"/></a>"
      ]
    },
    {
      "cell_type": "code",
      "metadata": {
        "id": "e79Nb1IdHYRe"
      },
      "source": [
        ""
      ],
      "execution_count": null,
      "outputs": []
    },
    {
      "cell_type": "markdown",
      "metadata": {
        "id": "bsUJz9KZHaYj"
      },
      "source": [
        "__1.__ Найти предел последовательности:\n",
        "\n",
        "### $$a)\\,\\,\\,\\,\\lim_{n\\to \\infty} \\frac{(23-2n^2)(3n^2+17)^2}{4n^6+n-1} = \\frac {-18}{4} = -4 \\frac {1}{2}$$\n",
        "\n",
        "### максимальная степень числителя 6\n",
        "### максимальная степень знаменателя 6\n",
        "### значит предел равен коэфицентам при максимальных степенях\n",
        "\n",
        "### числитель: -2 * 3^2 = -18 \n",
        "### знаменатель: 4 \n",
        "\n",
        "\n",
        "$$ ---------------------------------------------------- $$\n",
        "\n",
        "### $$б)\\,\\,\\,\\,\\lim_{n\\to \\infty} \\frac{(97-2n)^3}{2n(3n^2+15)+8n} = \\frac {-8}{6} = -1 \\frac {1}{3}$$\n",
        "\n",
        "### максимальная степень числителя 3\n",
        "### максимальная степень знаменателя 3\n",
        "\n",
        "### значит предел равен коэфицентам при максимальных степенях\n",
        "\n",
        "### числитель: -2^3 = -8\n",
        "### знаменатель: 6\n",
        "\n",
        "$$ ---------------------------------------------------- $$\n",
        "\n",
        "### $$в)\\,\\,\\,\\,\\lim_{n\\to \\infty} \\frac{2n^3+13n(n+18)}{(27-n)(2n+19)^2} = \\frac {2}{4} = \\frac {1}{2}$$\n",
        "\n",
        "### максимальная степень числителя 3\n",
        "### максимальная степень знаменателя 3\n",
        "\n",
        "### значит предел равен коэфицентам при максимальных степенях\n",
        "\n",
        "### числитель: 2\n",
        "### знаменатель: 4\n",
        "\n",
        "$$ ------------------------------------ $$\n",
        "\n",
        "### $$г)\\,\\,\\,\\,\\lim_{n\\to \\infty} (\\sqrt{n^2+1}-n) $$\n",
        "### неопределенность типа (оо - оо) \n",
        "### $$\\lim_{n\\to \\infty} (\\sqrt{n^2+1}-n) = \\lim_{n\\to \\infty} (\\sqrt{n^2+1}-n) \\cdot \\frac {\\sqrt{n^2+1} + n}{\\sqrt{n^2+1} + n} = \\lim_{n\\to \\infty} \\frac {(\\sqrt{n^2+1}-n) \\cdot (\\sqrt{n^2+1} + n)}{\\sqrt{n^2+1} + n} = \\lim_{n\\to \\infty} \\frac {(\\sqrt{n^2+1})^2 - n^2}{\\sqrt{n^2+1} + n} = \\lim_{n\\to \\infty} \\frac {n^2+1 - n^2}{\\sqrt{n^2+1} + n} = \\lim_{n\\to \\infty}\\frac {1}{\\sqrt{n^2+1} + n} = 0$$\n",
        "\n",
        "\n",
        "$$ ---------------------------------------------------- $$\n",
        "\n",
        "\n",
        "### $$д)\\,\\,\\,\\,\\lim_{n\\to \\infty} \\frac{(-4)^n+5\\cdot7^n}{(-4)^{n-1}+7^{n+2}} = \\lim_{n\\to \\infty} \\frac{(-4)^n+5\\cdot7^n}{(-4)^{n} \\cdot (-\\frac{1}{4}) +7^{n} \\cdot 7^2} = \\lim_{n\\to \\infty} \\frac{7^n((-\\frac{4}{7})^n+ 5)}{7^n((-\\frac{1}{4}) \\cdot (-\\frac{4}{7})^n + 49)} = \\frac {5}{49}$$ \n",
        "\n",
        "$$ ---------------------------------------------------- $$\n",
        "\n",
        "### $$e)^*\\,\\,\\,\\,\\lim_{n\\to \\infty} \\Bigl(\\frac{1}{1\\cdot2}+\\frac{1}{2\\cdot3}+\\frac{1}{3\\cdot4}+...+\\frac{1}{(n-1)\\cdot n}\\Bigr)$$"
      ]
    },
    {
      "cell_type": "markdown",
      "metadata": {
        "id": "Pj-XTkU6Lmy9"
      },
      "source": [
        "__4.__ Пользуясь критерием Коши, докажите сходимость последовательности:\n",
        "\n",
        "### $$a_n=\\frac{\\sin1}{2}+\\frac{\\sin2}{2^2}+\\frac{\\sin3}{2^3}+..\\frac{\\sin n}{2^n}\\,\\,\\,\\,\\,\\Rightarrow$$\n",
        "\n",
        "### $$\\Bigl\\{a_n\\Bigr\\}_{n=1}^\\infty=\\Bigl\\{\\frac{\\sin1}{2}, \\frac{\\sin1}{2}+\\frac{\\sin2}{2^2}, ..., a_n,...\\Bigr\\}$$\n",
        "\n",
        "\n",
        "$^*$ Какой член последовательности можно взять в качестве предела с точностью $\\varepsilon=10^{-7}$?\n",
        "\n",
        "\n",
        "$$ --------------------------------------- $$\n",
        "\n",
        "### $$\\Bigl| \\frac{\\sin n}{2^n} - \\frac{\\sin (n+k)}{2^{n+k}} \\Bigr| = $$"
      ]
    },
    {
      "cell_type": "markdown",
      "metadata": {
        "id": "1lHjx_d2MCA5"
      },
      "source": [
        ""
      ]
    },
    {
      "cell_type": "code",
      "metadata": {
        "id": "wHvo5UoiHbfz"
      },
      "source": [
        ""
      ],
      "execution_count": null,
      "outputs": []
    }
  ]
}