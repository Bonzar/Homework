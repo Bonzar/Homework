{
  "nbformat": 4,
  "nbformat_minor": 0,
  "metadata": {
    "colab": {
      "name": "ДЗ к уроку 6",
      "provenance": [],
      "collapsed_sections": [],
      "authorship_tag": "ABX9TyPAQF1s77Pc5I6ASm2jWJM+",
      "include_colab_link": true
    },
    "kernelspec": {
      "name": "python3",
      "display_name": "Python 3"
    }
  },
  "cells": [
    {
      "cell_type": "markdown",
      "metadata": {
        "id": "view-in-github",
        "colab_type": "text"
      },
      "source": [
        "<a href=\"https://colab.research.google.com/github/Bonzar/Homework/blob/matan.lesson6/matan/%D0%94%D0%97_%D0%BA_%D1%83%D1%80%D0%BE%D0%BA%D1%83_6.ipynb\" target=\"_parent\"><img src=\"https://colab.research.google.com/assets/colab-badge.svg\" alt=\"Open In Colab\"/></a>"
      ]
    },
    {
      "cell_type": "code",
      "metadata": {
        "id": "KPakgkTMFqOR"
      },
      "source": [
        "from sympy import *\n",
        "init_printing()"
      ],
      "execution_count": null,
      "outputs": []
    },
    {
      "cell_type": "markdown",
      "metadata": {
        "id": "G72s8mM7k56-"
      },
      "source": [
        ""
      ]
    },
    {
      "cell_type": "markdown",
      "metadata": {
        "id": "otkOh2M28EF5"
      },
      "source": [
        "__1.__ Найти производную $y'_{x}$ функции:\n",
        "\n",
        "### $$\\mbox{arctg}(\\frac{y}{x})=\\ln \\sqrt{x^2+y^2}$$\n",
        "\n",
        "----------------------\n",
        "\n",
        "### $$y'=-\\frac {F'_{х}}{F'_{y}}$$\n",
        "\n",
        "----------------------\n",
        "\n",
        "### $$ \\mbox{arctg}(y \\cdot \\frac{1}{x}) - \\ln \\sqrt{x^2+y^2} = 0 $$\n",
        "\n",
        "----------------------\n",
        "\n",
        "### $$ y'_x = -1 \\frac{1}{1+(\\frac{y}{x})^2} \\cdot \\big(\\frac{y}{x^2} + \\frac{y'}{x} \\big) - \\frac{1}{\\sqrt{x^2+y^2}} \\cdot \\frac{1}{2\\sqrt{x^2+y^2}} \\cdot (2x + y') = \n",
        "- \\frac{y}{x^2\\big(1+\\frac{y^2}{x^2}\\big)} \n",
        "- \\frac{x}{x^2+y^2} = - \\frac {y}{x^2 + y^2} - \\frac{x}{x^2+y^2} = - \\frac{x + y}{x^2+y^2}$$\n",
        "\n",
        "Я правильно понял, что производная y' в этом примере будет равна 0, так как она константа?\n",
        "\n",
        "----------------------\n",
        "\n",
        "### $$ y'_y = \\frac{1}{1+\\frac{x^2}{y^2}} \\cdot \\big(\\frac{1}{x} + y \\cdot (x^{-1})'\\big) - \\frac{2y}{2 \\sqrt{x^2+y^2}^2} = \n",
        "\\frac{1}{x \\cdot \\big(1+\\frac{y^2}{x^2}\\big)} - \n",
        "\\frac{y}{x^2+y^2}$$\n",
        "\n",
        "А тут производная x' будет равна 0, так как она константа?\n",
        "\n",
        "----------------------\n",
        "\n",
        "### $$ y'= \\frac{\\frac{x + y}{x^2+y^2}}{\\frac{1}{x \\cdot \\big(1+\\frac{y^2}{x^2}\\big)} - \n",
        "\\frac{y}{x^2+y^2}} $$"
      ]
    },
    {
      "cell_type": "code",
      "metadata": {
        "colab": {
          "base_uri": "https://localhost:8080/",
          "height": 74
        },
        "id": "KUaahYPQFuqJ",
        "outputId": "26c13c0b-6abe-47f4-f649-63952def7b3f"
      },
      "source": [
        "x,y=symbols('x y')\n",
        "f = atan(y/x) - ln(sqrt(x**2+y**2))\n",
        "-diff(f,x)/diff(f,y)"
      ],
      "execution_count": null,
      "outputs": [
        {
          "output_type": "execute_result",
          "data": {
            "image/png": "[encoded data removed]",
            "text/latex": "$$\\frac{\\frac{x}{x^{2} + y^{2}} + \\frac{y}{x^{2} \\left(1 + \\frac{y^{2}}{x^{2}}\\right)}}{- \\frac{y}{x^{2} + y^{2}} + \\frac{1}{x \\left(1 + \\frac{y^{2}}{x^{2}}\\right)}}$$",
            "text/plain": [
              "   x           y      \n",
              "─────── + ─────────── \n",
              " 2    2      ⎛     2⎞ \n",
              "x  + y     2 ⎜    y ⎟ \n",
              "          x ⋅⎜1 + ──⎟ \n",
              "             ⎜     2⎟ \n",
              "             ⎝    x ⎠ \n",
              "──────────────────────\n",
              "     y          1     \n",
              "- ─────── + ──────────\n",
              "   2    2     ⎛     2⎞\n",
              "  x  + y      ⎜    y ⎟\n",
              "            x⋅⎜1 + ──⎟\n",
              "              ⎜     2⎟\n",
              "              ⎝    x ⎠"
            ]
          },
          "metadata": {
            "tags": []
          },
          "execution_count": 9
        }
      ]
    },
    {
      "cell_type": "markdown",
      "metadata": {
        "id": "DmAD4KAf8GUj"
      },
      "source": [
        "__2.__ Найти производную $y'_{x}$ функции:\n",
        "\n",
        "### \\begin{cases}\n",
        "   y=\\frac{t^2}{t-1}, \\\\\n",
        "   x=\\frac{t}{t^2-1} \n",
        " \\end{cases}\n",
        "\n",
        "---\n",
        "\n",
        "### \\begin{cases}\n",
        "   y'_t=\\frac{(t^2)' \\cdot (t-1) - t^2 \\cdot (t-1)'}{(t-1)^2} = \\frac{t(t - 2)}{(t-1)^2}, \\\\\n",
        "   x'_t=\\frac{t}{t^2-1} = \\frac{t' \\cdot (t^2-1) - t \\cdot (t^2-1)'}{(t^2-1)^2} = \\frac{(t^2-1)- 2t^2}{(t^2-1)^2} = - \\frac{t^2 + 1}{(t^2-1)^2}\n",
        " \\end{cases}\n",
        "\n",
        "---\n",
        "\n",
        "### $$ y'_x = \\frac{t(t - 2)}{(t-1)^2} \\cdot - \\frac{(t^2-1)^2}{t^2 + 1} = - \\frac{t(t-2)(t-1)^2(t+1)^2}{(t-1)^2 \\cdot (t^2 + 1)} = - \\frac{t(t-2)(t+1)^2}{ t^2 + 1}$$\n",
        "\n",
        " "
      ]
    },
    {
      "cell_type": "code",
      "metadata": {
        "id": "wCwS_IBIS-Le"
      },
      "source": [
        ""
      ],
      "execution_count": null,
      "outputs": []
    },
    {
      "cell_type": "code",
      "metadata": {
        "colab": {
          "base_uri": "https://localhost:8080/",
          "height": 63
        },
        "id": "IFzRIyuASzo6",
        "outputId": "e4d9c745-674a-4bbc-881d-da06b1533695"
      },
      "source": [
        "t=symbols('t')\n",
        "x = (t**2)/(t-1)\n",
        "y = t/(t**2 - 1)\n",
        "diff(x, t)/diff(y, t)"
      ],
      "execution_count": 16,
      "outputs": [
        {
          "output_type": "execute_result",
          "data": {
            "image/png": "[encoded data removed]",
            "text/latex": "$$\\frac{- \\frac{t^{2}}{\\left(t - 1\\right)^{2}} + \\frac{2 t}{t - 1}}{- \\frac{2 t^{2}}{\\left(t^{2} - 1\\right)^{2}} + \\frac{1}{t^{2} - 1}}$$",
            "text/plain": [
              "       2            \n",
              "      t        2⋅t  \n",
              " - ──────── + ───── \n",
              "          2   t - 1 \n",
              "   (t - 1)          \n",
              "────────────────────\n",
              "        2           \n",
              "     2⋅t        1   \n",
              "- ───────── + ──────\n",
              "          2    2    \n",
              "  ⎛ 2    ⎞    t  - 1\n",
              "  ⎝t  - 1⎠          "
            ]
          },
          "metadata": {
            "tags": []
          },
          "execution_count": 16
        }
      ]
    },
    {
      "cell_type": "markdown",
      "metadata": {
        "id": "LY64ipBO8LT8"
      },
      "source": [
        "__3.__ Найти производную с помощью логарифмирования:\n",
        "\n",
        "### $$y=(x^2+2)^5\\cdot(3x-x^3)^3$$\n",
        "\n",
        "### $$ y' = (x^2+2)^5\\cdot(3x-x^3)^3 \\cdot \\Big(\\frac{5}{x^2+2} + \\frac{3}{3x-x^3} \\Big)$$"
      ]
    },
    {
      "cell_type": "markdown",
      "metadata": {
        "id": "zURSk-op8OUM"
      },
      "source": [
        "__4.__ Найти производную функции с помощью логарифмирования:\n",
        "\n",
        "### $$y=x^x$$\n",
        "\n",
        "### $$ y' = x^x \\cdot \\ln x^{x} = x^x \\cdot (x \\cdot \\ln x) = x^x \\cdot \\frac{x}{x} = x^x$$"
      ]
    },
    {
      "cell_type": "code",
      "metadata": {
        "colab": {
          "base_uri": "https://localhost:8080/",
          "height": 36
        },
        "id": "mACWNczzYnAT",
        "outputId": "e938ec84-c98a-4228-9c5f-f42a9e9ae6ed"
      },
      "source": [
        "x=Symbol('x')\n",
        "y=x**x\n",
        "diff(y,x)"
      ],
      "execution_count": 29,
      "outputs": [
        {
          "output_type": "execute_result",
          "data": {
            "image/png": "[encoded data removed]",
            "text/latex": "$$x^{x} \\left(\\log{\\left (x \\right )} + 1\\right)$$",
            "text/plain": [
              " x             \n",
              "x ⋅(log(x) + 1)"
            ]
          },
          "metadata": {
            "tags": []
          },
          "execution_count": 29
        }
      ]
    },
    {
      "cell_type": "markdown",
      "metadata": {
        "id": "43tnlmsQ8UnB"
      },
      "source": [
        "__5.__ Найти производную функции с помощью логарифмирования:\n",
        "\n",
        "### $$y=\\frac{(2-x^2)^3\\cdot(x-1)^2}{(2x^3-3x)\\cdot e^x} $$\n",
        "\n",
        "### $$ y' = \\frac{(2-x^2)^3\\cdot(x-1)^2}{(2x^3-3x)\\cdot e^x} \\cdot \\Big( \\frac{3}{2 - x^2} + \\frac{2}{x-1} - \\frac{1}{2x^3 - 3x} - x \\Big)   $$"
      ]
    },
    {
      "cell_type": "markdown",
      "metadata": {
        "id": "lViazGcJ8bsO"
      },
      "source": [
        "__7.__ Найти длину $𝑥$ и ширину $𝑦$ прямоугольника при заданном периметре $𝑃=144$ cм, при которых данный прямоугольник имеет наибольшую площадь $𝑆$.\n",
        "\n",
        "### $$ S = a * b $$\n",
        "\n",
        "### $$ P = 2a + 2b $$\n",
        "\n",
        "---\n",
        "\n",
        "### $$ a = \\frac{P - 2b}{2} $$\n",
        "\n",
        "---\n",
        "\n",
        "### $$ S =  \\frac{P - 2b}{2} \\cdot b = \\frac{Pb - 2b^2}{2}$$\n",
        "\n",
        "### $$ S' = \\frac{(Pb-2b^2)' * 2 - (Pb-2b^2) \\cdot 2'}{2^2} = \\frac{2P-8b}{4} = \\frac{P}{2} - 2b$$\n",
        "\n",
        "### $$ \\frac{P}{2} - 2b = 0 $$\n",
        "### $$ \\frac{P}{2} = 2b $$\n",
        "\n",
        "### $$ b = \\frac{P}{4}$$ \n",
        "\n",
        "---\n",
        "\n",
        "### $$ a = \\frac{P - 2 \\cdot \\frac{P}{4} }{2} = \\frac{\\frac{P}{2}}{2} = \\frac{P}{4}$$\n",
        "\n",
        "---\n",
        "\n",
        "### $$ a = b $$ "
      ]
    }
  ]
}