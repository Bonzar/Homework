{
  "nbformat": 4,
  "nbformat_minor": 0,
  "metadata": {
    "colab": {
      "name": "ДЗ к уроку 8",
      "provenance": [],
      "collapsed_sections": [],
      "authorship_tag": "ABX9TyNCVcu519EZYPvp/oraPEEy",
      "include_colab_link": true
    },
    "kernelspec": {
      "name": "python3",
      "display_name": "Python 3"
    }
  },
  "cells": [
    {
      "cell_type": "markdown",
      "metadata": {
        "id": "view-in-github",
        "colab_type": "text"
      },
      "source": [
        "<a href=\"https://colab.research.google.com/github/Bonzar/Homework/blob/matan.lesson8/matan/%D0%94%D0%97_%D0%BA_%D1%83%D1%80%D0%BE%D0%BA%D1%83_8.ipynb\" target=\"_parent\"><img src=\"https://colab.research.google.com/assets/colab-badge.svg\" alt=\"Open In Colab\"/></a>"
      ]
    },
    {
      "cell_type": "markdown",
      "metadata": {
        "id": "gZn70_iwW_pa"
      },
      "source": [
        "__1.__ Исследовать на условный экстремум функцию\n",
        "\n",
        "### $$U=3-8x+6y,$$\n",
        "\n",
        "если\n",
        "\n",
        "### $$x^2+y^2=36$$\n",
        "\n",
        "Функция Лагранжа:\n",
        "\n",
        "### $$ L(x, y, \\lambda) = 3 - 8x + 6y + \\lambda \\cdot (x^2 + y^2 - 36)$$\n",
        "\n",
        "Ищем точки:\n",
        "### $$\\begin{cases}\n",
        "   L'_{x}=, -8 + \\lambda \\cdot 2x = 0 \\\\\n",
        "   L'_{y}=, 6 + \\lambda \\cdot 2y = 0 \\\\\n",
        "   L'_{\\lambda}= x^2 + y^2 - 36 = 0\n",
        " \\end{cases} \\Rightarrow \n",
        " \\begin{cases}\n",
        "   {x}=\\frac{4}{\\lambda}, \\\\\n",
        "   {y}= - \\frac{3}{\\lambda}  ,\\\\\n",
        "   (\\frac{4}{\\lambda})^2 + (- \\frac{3}{\\lambda})^2 = 36\n",
        " \\end{cases} \\Rightarrow \n",
        "\\begin{cases}\n",
        "   {x}=\\frac{4}{\\lambda}, \\\\\n",
        "   {y}= - \\frac{3}{\\lambda}  ,\\\\\n",
        "   \\frac{25}{\\lambda^2} = 36\n",
        " \\end{cases}\n",
        " \\begin{cases}\n",
        "   {x}=\\frac{4}{\\lambda}, \\\\\n",
        "   {y}= - \\frac{3}{\\lambda}  ,\\\\\n",
        "   \\lambda = ±\\frac{5}{6}\n",
        " \\end{cases}$$\n",
        "\n",
        " Получили две точки: ($\\frac{24}{5}, -\\frac{18}{5}, \\frac{5}{6}$) и ($-\\frac{24}{5}, \\frac{18}{5}, -\\frac{5}{6}$)\n",
        "\n",
        "Находим вторые проивоздные:\n",
        "\n",
        "### $$L''_{xx}=2\\lambda$$\n",
        "### $$L''_{yy}=2\\lambda$$\n",
        "### $$L''_{\\lambda \\lambda}=0$$\n",
        "### $$L''_{xy}=L''_{yx}=0$$\n",
        "### $$L''_{x\\lambda}=L''_{\\lambda x}=2x$$\n",
        "### $$L''_{y\\lambda}=L''_{\\lambda y}=2y$$ \n",
        "\n",
        "Составим матрицу Гёссе:\n",
        "### $$\\begin{pmatrix}\n",
        "L''_{\\lambda \\lambda} & L''_{\\lambda x} & L''_{\\lambda y}\\\\ \n",
        "L''_{x \\lambda} & L''_{xx} & L''_{xy}\\\\\n",
        "L''_{y \\lambda} & L''_{yx} & L''_{yy}\\\\\n",
        "\\end{pmatrix}\\Rightarrow\n",
        "\\begin{pmatrix}\n",
        "0 & 2x & 2y\\\\ \n",
        "2x & 2\\lambda & 0\\\\\n",
        "2y & 0 & 2\\lambda\\\\\n",
        "\\end{pmatrix}$$\n",
        "\n",
        "\n",
        "Находим поределитель в общей форме:\n",
        "\n",
        "### $$\\Delta=\\begin{vmatrix}\n",
        "0 & 2x & 2y\\\\ \n",
        "2x & 2\\lambda & 0\\\\\n",
        "2y & 0 & 2\\lambda\\\\\n",
        "\\end{vmatrix}=\n",
        "\\begin{vmatrix}\n",
        "+ & - & +\\\\ \n",
        "- & + & -\\\\\n",
        "+ & - & +\\\\\n",
        "\\end{vmatrix}=0\\cdot\n",
        "\\begin{vmatrix}\n",
        "2\\lambda & 0\\\\\n",
        "0 & 2\\lambda\\\\\n",
        "\\end{vmatrix}-2x\\cdot\n",
        "\\begin{vmatrix}\n",
        "2x & 0\\\\\n",
        "2y & 2\\lambda\\\\\n",
        "\\end{vmatrix}+2y\\cdot\n",
        "\\begin{vmatrix}\n",
        "2x & 2\\lambda\\\\\n",
        "2y & 0\\\\\n",
        "\\end{vmatrix}=(-2x)\\cdot 4x\\lambda+2y \\cdot(-4y\\lambda)=-8\\lambda(x^2+y^2)$$\n",
        "\n",
        "По условию:\n",
        "### $$ \\Delta= -8 \\lambda \\cdot 36 = -288\\lambda  $$\n",
        "\n",
        "Т.е. знак определителя зависит только от знака $\\lambda$.\n",
        "\n",
        "Если $\\lambda=\\frac{5}{6}$, то $\\Delta<0$, следовательно ($\\frac{24}{5}, -\\frac{18}{5}, \\frac{5}{6}$) - точка минимума.\n",
        "\n",
        "Если $\\lambda=-\\frac{5}{6}$, то $\\Delta>0$, следовательно ($-\\frac{24}{5}, \\frac{18}{5}, -\\frac{5}{6}$) - точка максимума."
      ]
    },
    {
      "cell_type": "markdown",
      "metadata": {
        "id": "BEyh_CUt0mNE"
      },
      "source": [
        "__2.__ Исследовать на условный экстремум функцию\n",
        "\n",
        "### $$U=2x^2+12xy+32y^2+15,$$\n",
        "\n",
        "если\n",
        "\n",
        "### $$x^2+16y^2=64$$\n",
        "\n",
        "Составляем функцию лагранжа:\n",
        "### $$ L(x, y, \\lambda) = 2x^2+12xy+32y^2+15 + \\lambda \\cdot (x^2+16y^2 - 64)$$\n",
        "\n",
        "Находим первые частные производные:\n",
        "### $$\\begin{cases}\n",
        "  L'_{x}= 4x + 12y + \\lambda \\cdot 2x  = 0, \\\\\n",
        "  L'_{y}= 12x + 64y + \\lambda \\cdot 32y = 0, \\\\\n",
        "   L'_{\\lambda}= x^2 + 16y^2 - 64 = 0\n",
        " \\end{cases}$$\n",
        "\n",
        "Получаем 4 точки:\n",
        "* $(-4\\sqrt{2}, -\\sqrt2, -\\frac{7}{2})$\n",
        "* $(-4\\sqrt{2}, \\sqrt2, -\\frac{1}{2})$\n",
        "* $(4\\sqrt{2}, -\\sqrt2, -\\frac{1}{2})$\n",
        "* $(4\\sqrt{2}, \\sqrt2, -\\frac{7}{2})$\n",
        "\n",
        "\n",
        "Находим вторые проиводные:\n",
        "\n",
        "### $$L''_{xx}=4 + 2\\lambda$$\n",
        "### $$L''_{yy}=64 + 32\\lambda$$\n",
        "### $$L''_{\\lambda \\lambda}=0$$\n",
        "### $$L''_{xy}=L''_{yx}=12$$\n",
        "### $$L''_{x\\lambda}=L''_{\\lambda x}=2x$$\n",
        "### $$L''_{y\\lambda}=L''_{\\lambda y}=32y$$\n",
        "\n",
        "\n",
        "Составляем матрицу Гессе:\n",
        "\n",
        "### $$\\begin{pmatrix}\n",
        "L''_{\\lambda \\lambda} & L''_{\\lambda x} & L''_{\\lambda y}\\\\ \n",
        "L''_{x \\lambda} & L''_{xx} & L''_{xy}\\\\\n",
        "L''_{y \\lambda} & L''_{yx} & L''_{yy}\\\\\n",
        "\\end{pmatrix}\\Rightarrow\n",
        "\\begin{pmatrix}\n",
        "0 & 2x & 32y\\\\ \n",
        "2x & 4 + 2\\lambda & 12\\\\\n",
        "32y & 12 & 64 + 32\\lambda\\\\\n",
        "\\end{pmatrix}$$\n",
        "\n",
        "\n",
        "Находим поределитель в общей форме:\n",
        "\n",
        "### $$\\Delta=\\begin{vmatrix}\n",
        "0 & 2x & 32y\\\\ \n",
        "2x & 4 + 2\\lambda & 12\\\\\n",
        "32y & 12 & 64 + 32\\lambda\\\\\n",
        "\\end{vmatrix}=\n",
        "\\begin{vmatrix}\n",
        "+ & - & +\\\\ \n",
        "- & + & -\\\\\n",
        "+ & - & +\\\\\n",
        "\\end{vmatrix}= \n",
        "  -2x \\cdot\n",
        "    \\begin{vmatrix}\n",
        "    2x & 12\\\\\n",
        "    32y & 64 + 32\\lambda\\\\\n",
        "    \\end{vmatrix}\n",
        "  +32y \\cdot \n",
        "    \\begin{vmatrix}\n",
        "    2x & 4 + 2\\lambda\\\\\n",
        "    32y & 12\\\\\n",
        "    \\end{vmatrix}\n",
        "=(-2x) \\cdot (128x + 64x\\lambda - 384y) + 32y \\cdot (24x - 128y - 64y\\lambda) = -256x^2 - 128 x^2\\lambda + 768xy + 768xy - 4096y^2 - 2048y^2\\lambda =  - 128 x^2\\lambda + 1536xy - 2048y^2\\lambda - 256(x^2 + 16y^2)$$\n",
        "\n",
        "По условию:\n",
        "### $$ \\Delta= - 128 x^2\\lambda + 1536xy - 2048y^2\\lambda - 16384 = \n",
        "128(-x^2\\lambda + 12xy - 16y^2\\lambda - 128) $$\n",
        "\n",
        "Все точки будут точками минимума."
      ]
    },
    {
      "cell_type": "markdown",
      "metadata": {
        "id": "0by9RTFcGBBd"
      },
      "source": [
        "__3.__ Численно найти хотя бы один действительный корень системы нелинейных уравнений:\n",
        "### $$\\begin{cases}\n",
        "   x^2-y^2+3xy^3-2x^2y^2+2x-3y-5=0 \\\\\n",
        "   3y^3-2x^2+2x^3y-5x^2y^2+5=0\n",
        " \\end{cases}$$\n",
        "\n",
        " "
      ]
    },
    {
      "cell_type": "code",
      "metadata": {
        "colab": {
          "base_uri": "https://localhost:8080/"
        },
        "id": "bAjtG0UYGJZP",
        "outputId": "5c62e0d4-1b17-4064-a577-ea2cb1ee998e"
      },
      "source": [
        "from scipy.optimize import fsolve\n",
        "import math\n",
        "\n",
        "def equations(p):\n",
        "    x, y = p\n",
        "    # Запись системы уравнения вида x+y=2, x-y=0\n",
        "    return ((x**2) - (y**2) + 3*x*(y**3) - 2*(x**2)*(y**2) + 2*x - 3*y - 5, \n",
        "            3*(y**3) - 2*(x**2) + 2*(x**3)*y - 5*(x**2)*(y**2) + 5)\n",
        "\n",
        "# Численное решение системы уравнений\n",
        "x, info, ier, mesg =  fsolve(equations, (10, 10), full_output=True)\n",
        "print (x, ier)"
      ],
      "execution_count": 10,
      "outputs": [
        {
          "output_type": "stream",
          "text": [
            "[1.27330206 1.66203912] 1\n"
          ],
          "name": "stdout"
        }
      ]
    },
    {
      "cell_type": "markdown",
      "metadata": {
        "id": "gQBuZAzGMW8b"
      },
      "source": [
        "__4*.__ Численно найти все $5$ действительных корней."
      ]
    },
    {
      "cell_type": "code",
      "metadata": {
        "colab": {
          "base_uri": "https://localhost:8080/"
        },
        "id": "ApBMg69HFEdq",
        "outputId": "0870fcc1-7c27-4cbb-8fb9-89e37f1158c4"
      },
      "source": [
        "import numpy as np\n",
        "from scipy.optimize import fsolve, broyden2\n",
        "import math\n",
        "from pprint import pprint\n",
        "\n",
        "def equations(p):\n",
        "    x, y = p\n",
        "    return ((x**2) - (y**2) + 3*x*(y**3) - 2*(x**2)*(y**2) + 2*x - 3*y - 5, \n",
        "            3*(y**3) - 2*(x**2) + 2*(x**3)*y - 5*(x**2)*(y**2) + 5)\n",
        "\n",
        "solv = set()\n",
        "for n in np.arange (-10000, 10000, 200):\n",
        "    n, info, ier, mesg =  fsolve(equations, (n, n), full_output=True)\n",
        "    if (ier == 1): solv.add(str([int(a*10**7)/10**7 for a in n]))\n",
        "            \n",
        "pprint (solv)"
      ],
      "execution_count": 39,
      "outputs": [
        {
          "output_type": "stream",
          "text": [
            "{'[-3.6530799, -0.2747634]',\n",
            " '[1.273302, 1.6620391]',\n",
            " '[1.3756871, -0.1747579]',\n",
            " '[2.2177536, 0.6101939]',\n",
            " '[2.4943565, 0.7083175]'}\n"
          ],
          "name": "stdout"
        }
      ]
    }
  ]
}