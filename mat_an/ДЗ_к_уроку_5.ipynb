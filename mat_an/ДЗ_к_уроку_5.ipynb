{
  "nbformat": 4,
  "nbformat_minor": 0,
  "metadata": {
    "colab": {
      "name": "ДЗ к уроку 5.ipynb",
      "provenance": [],
      "authorship_tag": "ABX9TyMoCxszfKIsncuQua7Hj9UA",
      "include_colab_link": true
    },
    "kernelspec": {
      "name": "python3",
      "display_name": "Python 3"
    }
  },
  "cells": [
    {
      "cell_type": "markdown",
      "metadata": {
        "id": "view-in-github",
        "colab_type": "text"
      },
      "source": [
        "<a href=\"https://colab.research.google.com/github/Bonzar/Homework/blob/matan.lesson5/matan/%D0%94%D0%97_%D0%BA_%D1%83%D1%80%D0%BE%D0%BA%D1%83_5.ipynb\" target=\"_parent\"><img src=\"https://colab.research.google.com/assets/colab-badge.svg\" alt=\"Open In Colab\"/></a>"
      ]
    },
    {
      "cell_type": "markdown",
      "metadata": {
        "id": "R5sn59MeHuAJ"
      },
      "source": [
        "\n",
        "__1.__ Найти производную функции: \n",
        "### $$y=\\frac{1}{x}+\\frac{2}{x^2}-\\frac{5}{x^3}+\\sqrt x -\\sqrt[3]x+\\frac{3}{\\sqrt x} $$\n",
        "\n",
        "### $$y' = (x^{-1} + 2x^{-2} - 5x^{-3} + x^{\\frac{1}{2}} - x^{\\frac{1}{3}} + 3x^{-\\frac{1}{2}})' = -1x^{-2} - 4x^{-3} + 15x^{-4} + \\frac{1}{2}x^{-\\frac{1}{2}} - \\frac{1}{3}x^{-\\frac{2}{3}} - \\frac{3}{2}x^{-\\frac{3}{2}}$$"
      ]
    },
    {
      "cell_type": "markdown",
      "metadata": {
        "id": "9RuDD9tFKbTg"
      },
      "source": [
        "__2.__ Найти производную функции:\n",
        "\n",
        "### $$y=x \\cdot \\sqrt {1+x^2}$$\n",
        "\n",
        "### $$y' = (x \\cdot (1+x^2)^{\\frac{1}{2}})' = x \\cdot ((1+x^2)^{\\frac{1}{2}})' + x' \\cdot (1+x^2)^{\\frac{1}{2}} = x \\cdot \\frac{1}{2 \\cdot \\sqrt{1+x^2}} \\cdot 2x + (1+x^2)^{\\frac{1}{2}} = \\frac{x^2}{\\sqrt{1+x^2}} + \\sqrt{1+x^2} $$"
      ]
    },
    {
      "cell_type": "markdown",
      "metadata": {
        "id": "ohWGcsrsKkJL"
      },
      "source": [
        "__3.__ Найти производную функции:\n",
        "\n",
        "### $$y= \\frac{2x}{1-x^2}$$\n",
        "\n",
        "### $$ y' = \\frac{(2x)' \\cdot (1-x^2) - 2x(1-x^2)'}{(1-x^2)^2} = \\frac{2(1 - x^2) + 4x^2}{1 - 2x^2 + x^4} $$"
      ]
    },
    {
      "cell_type": "markdown",
      "metadata": {
        "id": "3PHoerLXKmKZ"
      },
      "source": [
        "__4*.__ Найти производную функции:\n",
        "\n",
        "### $$y=\\sqrt{x+ \\sqrt{x+\\sqrt x}}$$\n",
        "\n",
        "### 1) $$ y' = \\Big(\\sqrt{x+ \\sqrt{x+\\sqrt x}}\\Big)' \\cdot \\big( \\sqrt{x+\\sqrt x} \\big)' \\cdot (\\sqrt x)' = \\frac{1}{2 \\sqrt{x+ \\sqrt{x+\\sqrt x}}} \\cdot \\frac{1}{2 \\sqrt{x+\\sqrt x}} \\cdot \\frac{1}{2\\sqrt x}$$ \n",
        "\n",
        "### 2) $$ y' = \\Big(\\sqrt{x+ \\sqrt{x+\\sqrt x}}\\Big)' = \\frac{\\big(x+ \\sqrt{x+\\sqrt x}\\big)'}{2\\sqrt{x+ \\sqrt{x+\\sqrt x}}} = \\frac{1 + \\big(\\sqrt{x+\\sqrt x}\\big)'}{2\\sqrt{x+ \\sqrt{x+\\sqrt x}}} = \\frac{1 + \\Big(\\frac{(x+\\sqrt x)'}{2\\sqrt{x+\\sqrt x}}\\Big)}{2\\sqrt{x+ \\sqrt{x+\\sqrt x}}} = \\frac{1 + \\frac{1+ \\frac{1}{2\\sqrt x}}{2\\sqrt{x+\\sqrt x}}}{2\\sqrt{x+ \\sqrt{x+\\sqrt x}}}$$ \n",
        "\n",
        "**ВОПРОС:** Это идентичные ответы, или в первом варианте я сделал что то неверно/что то потерял?"
      ]
    },
    {
      "cell_type": "code",
      "metadata": {
        "colab": {
          "base_uri": "https://localhost:8080/",
          "height": 69
        },
        "id": "6h3X466eTi-5",
        "outputId": "73da2e25-3880-47c7-a685-baf59bdc6fef"
      },
      "source": [
        "x=Symbol('x')\n",
        "f=sqrt(x+ sqrt(x+sqrt(x)))\n",
        "\n",
        "diff(f,x)"
      ],
      "execution_count": 12,
      "outputs": [
        {
          "output_type": "execute_result",
          "data": {
            "image/png": "[encoded data removed]",
            "text/latex": "$$\\frac{\\frac{\\frac{1}{2} + \\frac{1}{4 \\sqrt{x}}}{2 \\sqrt{\\sqrt{x} + x}} + \\frac{1}{2}}{\\sqrt{x + \\sqrt{\\sqrt{x} + x}}}$$",
            "text/plain": [
              "    1    1         \n",
              "    ─ + ────       \n",
              "    2   4⋅√x     1 \n",
              "  ──────────── + ─ \n",
              "      ________   2 \n",
              "  2⋅╲╱ √x + x      \n",
              "───────────────────\n",
              "   ________________\n",
              "  ╱       ________ \n",
              "╲╱  x + ╲╱ √x + x  "
            ]
          },
          "metadata": {
            "tags": []
          },
          "execution_count": 12
        }
      ]
    },
    {
      "cell_type": "markdown",
      "metadata": {
        "id": "KrSDcDo-Kt2P"
      },
      "source": [
        "__5.__ Найти производную функции:\n",
        "\n",
        "### $$y= \\ln(x+\\sqrt{x^2+1})$$\n",
        "\n",
        "### 1) $$ y' = (\\ln(x+\\sqrt{x^2+1}))' \\cdot (x+\\sqrt{x^2+1})' \\cdot ((x^2 + 1)^{\\frac{1}{2}})' \\cdot (x^2)' = \\frac{1}{x+\\sqrt{x^2+1}} \\cdot \\Big(1 + \\frac{1}{2 \\sqrt{x^2+1}} \\Big) \\cdot \\frac{1}{2\\sqrt{x^2+1}} \\cdot 2x = \\frac{1}{x+\\sqrt{x^2+1}} \\cdot \\Big(1 + \\frac{1}{2 \\sqrt{x^2+1}} \\Big) \\cdot \\frac{x}{\\sqrt{x^2+1}}$$\n",
        "\n",
        "### 2) $$ y' = (\\ln(x+\\sqrt{x^2+1}))' = \\frac{(x+\\sqrt{x^2+1})'}{x+\\sqrt{x^2+1}} = \\frac{1 + (\\sqrt{x^2+1})'}{x+\\sqrt{x^2+1}} = \\frac{1 + \\frac{(x^2+1)'}{2\\sqrt{x^2+1}}}{x+\\sqrt{x^2+1}} = \\frac{1 + \\frac{2x}{2\\sqrt{x^2+1}}}{x+\\sqrt{x^2+1}} = \\frac{1 + \\frac{x}{\\sqrt{x^2+1}}}{x+\\sqrt{x^2+1}} $$\n",
        "\n",
        "**ВОПРОС:** Это идентичные ответы, или в первом варианте я сделал что то неверно?\n",
        "\n"
      ]
    },
    {
      "cell_type": "code",
      "metadata": {
        "colab": {
          "base_uri": "https://localhost:8080/",
          "height": 49
        },
        "id": "zbe7MVi-VuE9",
        "outputId": "ab080d8c-026f-4176-f4f1-7877966a5acd"
      },
      "source": [
        "x=Symbol('x')\n",
        "f=ln(x + sqrt(x**2 + 1))\n",
        "\n",
        "diff(f,x)"
      ],
      "execution_count": 14,
      "outputs": [
        {
          "output_type": "execute_result",
          "data": {
            "image/png": "[encoded data removed]",
            "text/latex": "$$\\frac{\\frac{x}{\\sqrt{x^{2} + 1}} + 1}{x + \\sqrt{x^{2} + 1}}$$",
            "text/plain": [
              "     x         \n",
              "─────────── + 1\n",
              "   ________    \n",
              "  ╱  2         \n",
              "╲╱  x  + 1     \n",
              "───────────────\n",
              "       ________\n",
              "      ╱  2     \n",
              "x + ╲╱  x  + 1 "
            ]
          },
          "metadata": {
            "tags": []
          },
          "execution_count": 14
        }
      ]
    },
    {
      "cell_type": "markdown",
      "metadata": {
        "id": "YelJ-TtRKxKU"
      },
      "source": [
        "__6.__ Найти производную функции:\n",
        "\n",
        "### $$y=x \\cdot \\ln\\big(x+\\sqrt{x^2+1}\\big)-\\sqrt{x^2+1}$$\n",
        "\n",
        "### $$ y' = \\Big( x \\cdot \\ln\\big(x+\\sqrt{x^2+1}\\big) \\Big)' - \\big(\\sqrt{x^2+1}\\big)' = \\Big( x \\cdot \\ln\\big(x+\\sqrt{x^2+1}\\big) \\Big)' - \\frac{(x^2+1)'}{2 \\sqrt{x^2+1}} = \\Big( x \\cdot \\ln\\big(x+\\sqrt{x^2+1}\\big) \\Big)' - \\frac{2x}{2 \\sqrt{x^2+1}} = x' \\cdot \\ln\\big(x+\\sqrt{x^2+1}\\big) + x \\cdot \\Big( \\ln\\big(x+\\sqrt{x^2+1}\\big) \\Big)'  - \\frac{x}{\\sqrt{x^2+1}} = \\ln\\big(x+\\sqrt{x^2+1}\\big) + x \\cdot \\frac{1 + \\big(\\frac{x}{\\sqrt{x^2+1}}\\big)}{x+\\sqrt{x^2+1}} - \\frac{x}{\\sqrt{x^2+1}} = \\ln\\big(x+\\sqrt{x^2+1}\\big) + \\frac{x \\Big (1 + \\big(\\frac{x}{\\sqrt{x^2+1}}\\big) \\Big)}{x+\\sqrt{x^2+1}} - \\frac{x}{\\sqrt{x^2+1}} $$"
      ]
    },
    {
      "cell_type": "code",
      "metadata": {
        "id": "fpF80A65o_7M"
      },
      "source": [
        ""
      ],
      "execution_count": null,
      "outputs": []
    }
  ]
}