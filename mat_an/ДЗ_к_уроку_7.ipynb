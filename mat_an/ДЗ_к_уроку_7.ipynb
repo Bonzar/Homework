{
  "nbformat": 4,
  "nbformat_minor": 0,
  "metadata": {
    "colab": {
      "name": "ДЗ к уроку 7",
      "provenance": [],
      "collapsed_sections": [],
      "authorship_tag": "ABX9TyOSi7LTrPEYE9dMfGBNstYT",
      "include_colab_link": true
    },
    "kernelspec": {
      "name": "python3",
      "display_name": "Python 3"
    }
  },
  "cells": [
    {
      "cell_type": "markdown",
      "metadata": {
        "id": "view-in-github",
        "colab_type": "text"
      },
      "source": [
        "<a href=\"https://colab.research.google.com/github/Bonzar/Homework/blob/matan.lesson7/%D0%94%D0%97_%D0%BA_%D1%83%D1%80%D0%BE%D0%BA%D1%83_7.ipynb\" target=\"_parent\"><img src=\"https://colab.research.google.com/assets/colab-badge.svg\" alt=\"Open In Colab\"/></a>"
      ]
    },
    {
      "cell_type": "markdown",
      "metadata": {
        "id": "zoTMPzsBG4ht"
      },
      "source": [
        "__1.__ Найти частные производные первого и второго порядка. Убедиться в равенстве смешанных производных.\n",
        "\n",
        "### $$U=x^3+3xy^2+z^2-39x-36y+2z+26$$\n",
        "\n",
        "### $$ U'_x = 3x^2 + 3y^2 - 39 $$\n",
        "\n",
        "### $$ U'_y = 6xy - 36$$\n",
        "\n",
        "### $$ U'_z = 2z + 2$$\n",
        "\n",
        "### $$ U''_{xx} = 6x $$\n",
        "\n",
        "### $$ U''_{xy} = 6y $$\n",
        "\n",
        "### $$ U''_{xz} = 0 $$\n",
        "\n",
        "### $$ U''_{yx} = 6y $$\n",
        "\n",
        "### $$ U''_{yy} = 6x $$\n",
        "\n",
        "### $$ U''_{yz} = 0 $$\n",
        "\n",
        "### $$ U''_{zx} = 0 $$\n",
        "\n",
        "### $$ U''_{zy} = 0 $$\n",
        "\n",
        "### $$ U''_{zz} = 2 $$\n"
      ]
    },
    {
      "cell_type": "markdown",
      "metadata": {
        "id": "CG0CXvwJG6eS"
      },
      "source": [
        "__2.__ Найти частные производные первого и второго порядка. Убедиться в равенстве смешанных производных.\n",
        "\n",
        "### $$U=\\frac{256}{x}+\\frac{x^2}{y}+\\frac{y^2}{z}+z^2$$\n",
        "\n",
        "### $$ U'_x = - \\frac{256}{x^2} + \\frac{2x}{y} $$\n",
        "\n",
        "### $$ U'_y = - \\frac{x^2}{y^2} + \\frac{2y}{z}$$\n",
        "\n",
        "### $$ U'_z = - \\frac{y^2}{z^2} + 2z $$\n",
        "\n",
        "### $$ U''_{xx} = \\frac{256}{x^3} + \\frac{2}{y} $$\n",
        "\n",
        "### $$ U''_{xy} = - \\frac{2x}{y^2} $$\n",
        "\n",
        "### $$ U''_{xz} = 0 $$\n",
        "\n",
        "### $$ U''_{yx} = - \\frac{2x}{y^2} $$\n",
        "\n",
        "### $$ U''_{yy} = \\frac{x^2}{y^3} + \\frac{2}{z} $$\n",
        "\n",
        "### $$ U''_{yz} = - \\frac{2y}{z^2} $$\n",
        "\n",
        "### $$ U''_{zx} = 0 $$\n",
        "\n",
        "### $$ U''_{zy} = - \\frac{2y}{z^2} $$\n",
        "\n",
        "### $$ U''_{zz} = \\frac{y^2}{z^3} + 2 $$"
      ]
    },
    {
      "cell_type": "markdown",
      "metadata": {
        "id": "jE69gbI-G8LN"
      },
      "source": [
        "__3.__ Найти производную функции $U=x^2+y^2+z^2$ по направлению вектора $\\overrightarrow{c}(-9,8,-12)$ в точке $M(8,-12,9)$\n",
        "\n",
        "Длинна вектора:\n",
        "\n",
        "### $$|\\overrightarrow{c}|=\\sqrt{x^2_{0}+y^2_{0} + z^2_{0}}=\\sqrt{(-9)^2+(8)^2+(-12)^2} = 21$$\n",
        "\n",
        "Единичный вектор:\n",
        "\n",
        "### $$\\overrightarrow{c_{0}}=\\frac{\\overrightarrow{c}}{|\\overrightarrow{c}|}=\\Bigr(-\\frac{9}{21},\\frac{8}{21},-\\frac{12}{21}\\Bigl)$$\n",
        "\n",
        "Частные производные:\n",
        "\n",
        "### $$ U'_x = 2x $$\n",
        "\n",
        "### $$ U'_y = 2y $$\n",
        "\n",
        "### $$ U'_z = 2z $$\n",
        "\n",
        "Градиент в точке $M(8,-12,9)$: \n",
        "\n",
        "### $$ \\mbox{grad}U=(16, -24, 18) $$\n",
        "\n",
        "Производная функции по направлению вектора $\\overrightarrow{c}$:\n",
        "\n",
        "### $$U'_{\\overrightarrow{с}}=\\frac{-9}{21} \\cdot 16 + \\frac{8}{21} \\cdot -24 + \\frac{-12}{21} \\cdot 18 = - \\frac{144}{21} - \\frac{192}{21} - \\frac{216}{21} = - \\frac{552}{21}$$\n"
      ]
    },
    {
      "cell_type": "markdown",
      "metadata": {
        "id": "-jeifDD7G-jD"
      },
      "source": [
        "__4.__ Найти производную функции $U=e^{x^2+y^2+z^2}$ по направлению вектора $\\overrightarrow{c}(4,-13,-16)$ в точке $L(-16,4,-13)$\n",
        "\n",
        "\n",
        "Длинна вектора:\n",
        "\n",
        "### $$|\\overrightarrow{c}|=\\sqrt{x^2_{0}+y^2_{0} + z^2_{0}}=\\sqrt{(4)^2+(-13)^2+(-16)^2} = 21$$\n",
        "\n",
        "\n",
        "Единичный вектор:\n",
        "\n",
        "### $$\\overrightarrow{c_{0}}=\\frac{\\overrightarrow{c}}{|\\overrightarrow{c}|}=\\Bigr(\\frac{4}{21},\\frac{-13}{21},\\frac{-16}{21}\\Bigl)$$\n",
        "\n",
        "\n",
        "Частные производные:\n",
        "\n",
        "### $$ U'_x = e^{x^2+y^2+z^2} \\cdot 2x $$\n",
        "\n",
        "### $$ U'_y = e^{x^2+y^2+z^2} \\cdot 2y $$\n",
        "\n",
        "### $$ U'_z = e^{x^2+y^2+z^2} \\cdot 2z $$\n",
        "\n",
        "\n",
        "Градиент в точке $L(-16,4,-13)$: \n",
        "\n",
        "### $$ \\mbox{grad}U=(-32e^{441},8e^{441},-26e^{441}) $$\n",
        "\n",
        "\n",
        "Производная функции по направлению вектора $\\overrightarrow{c}$:\n",
        "\n",
        "### $$U'_{\\overrightarrow{с}}=\\frac{4}{21} \\cdot -32e^{441} + \\frac{-13}{21} \\cdot 8e^{441} + \\frac{-16}{21} \\cdot -26e^{441} = \\frac{e^{441}(-128 - 104 + 416)}{21} = \\frac{184e^{441}}{21}$$\n"
      ]
    },
    {
      "cell_type": "markdown",
      "metadata": {
        "id": "YG3JH7W3HC4x"
      },
      "source": [
        "__6.__ Исследовать на экстремум функцию:\n",
        "\n",
        "### $$U=x^2y+\\frac{1}{3}y^3+2x^2+3y^2-1$$\n",
        "\n",
        "\n",
        "Частные производные первого порядка:\n",
        "\n",
        "### $$ U'_x = 2xy + 4x $$\n",
        "\n",
        "### $$ U'_y = x^2 + y^2 + 6y $$\n",
        "\n",
        "Стационарные точки:\n",
        "\n",
        "### $$\\begin{cases}\n",
        "   U'_{x}=2xy + 4x=0, \\\\\n",
        "   U'_{y}=x^2 + y^2 + 6y=0 \n",
        " \\end{cases}$$\n",
        "\n",
        "### $$\\begin{cases}\n",
        "   y = -2, \\\\\n",
        "   x^2 = -6y -y^2 \n",
        " \\end{cases}$$\n",
        "\n",
        "### $$\\begin{cases}\n",
        "   y = -2, \\\\\n",
        "   x = |2|\\sqrt{2}  \n",
        " \\end{cases}$$\n",
        "\n",
        "Получваем две стационарные точки ($2\\sqrt{2}, -2$) и ($-2\\sqrt{2}, -2$)\n",
        "\n",
        "\n",
        "Производные второго порядка:\n",
        "\n",
        "### $$ U''_{xx} = 2y + 4$$\n",
        "\n",
        "### $$ U''_{xy} = 2x $$\n",
        "\n",
        "### $$ U''_{yy} = 2y + 6 $$\n",
        "\n",
        "\n",
        "Матрица Гессе\n",
        "\n",
        "###  $$\\begin{pmatrix}\n",
        "2y + 6 & 2x\\\\ \n",
        "2x & 2y + 4\\\\\n",
        "\\end{pmatrix}$$\n",
        "\n",
        "\n",
        "Главные миноры:\n",
        "\n",
        "### $$\\Delta_{1}=U''_{xx}= 2y + 6 = 2 \\cdot -2 + 6 = 2 > 0$$\n",
        "\n",
        "### $$\\Delta_{2}=\\begin{vmatrix}\n",
        "U''_{xx} & U''_{xy}\\\\ \n",
        "U''_{yx} & U''_{yy}\\\\\n",
        "\\end{vmatrix}=U''_{xx}\\cdot U''_{yy}-(U''_{xy})^2=(2y + 4) \\cdot (2y + 6) - (2x)^2 = - (2x)^2 < 0$$\n",
        "\n",
        "Обе точки будут – седловые\n"
      ]
    },
    {
      "cell_type": "code",
      "metadata": {
        "id": "WJP5PTfCGvJb"
      },
      "source": [
        ""
      ],
      "execution_count": null,
      "outputs": []
    }
  ]
}